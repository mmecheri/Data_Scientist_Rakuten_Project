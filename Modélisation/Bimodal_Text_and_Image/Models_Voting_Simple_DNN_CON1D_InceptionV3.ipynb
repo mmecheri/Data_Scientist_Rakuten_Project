{
 "cells": [
  {
   "cell_type": "markdown",
   "id": "e14a9972",
   "metadata": {},
   "source": [
    "***Import packages***"
   ]
  },
  {
   "cell_type": "code",
   "execution_count": 1,
   "id": "cbb502d0",
   "metadata": {},
   "outputs": [],
   "source": [
    "import warnings\n",
    "with warnings.catch_warnings():\n",
    "    warnings.simplefilter('ignore')"
   ]
  },
  {
   "cell_type": "code",
   "execution_count": 2,
   "id": "8bf0324b",
   "metadata": {},
   "outputs": [],
   "source": [
    "from rackuten_project_lib import *"
   ]
  },
  {
   "cell_type": "code",
   "execution_count": 5,
   "id": "62e30c7c",
   "metadata": {},
   "outputs": [],
   "source": [
    "class Config:\n",
    "    \n",
    "    images_Dir =            'D:/DataScienTest_WorkSpace/WS/data/images/all/image_train/'   \n",
    "    model_dir  =            'D:/DataScienTest_WorkSpace/WS/Travail_Final/Trained_models/'\n",
    "    df_Dir =                'D:/DataScienTest_WorkSpace/WS/Travail_Final/Datasets/'\n",
    "    output_dir =            'D:/DataScienTest_WorkSpace/WS/Travail_Final/Outputs/InceptionV3_Simple_DNN_Conv1D/'\n",
    "   \n",
    "    \n",
    "    #xception_fname =        'Model_Xception_All_train_data_Shape_299x299_100Epochs_Step6.hdf5'\n",
    "    inception_fname =        'Model_InceptionV3_All_train_data_Shape_299x299_100Epochs_Step2.hdf5'\n",
    "    simpleDNN_fname  =       'Model_SimpleDNN_All_train_data_100Epochs.hdf5'    \n",
    "    conv1D_fname  =          'Model_Conv1D_All_train_data_50Epochs.hdf5'\n",
    "    \n",
    "    data_train =            'df_train_final.pkl'\n",
    "    \n",
    "    inception_im_shape = (299, 299)\n",
    "\n",
    "    inception_SC = 0.64\n",
    "    conv1D_SC = 0.80\n",
    "    simplDNN_SC = 0.81\n",
    " "
   ]
  },
  {
   "cell_type": "code",
   "execution_count": 6,
   "id": "06fcd4a7",
   "metadata": {},
   "outputs": [],
   "source": [
    "config = Config()"
   ]
  },
  {
   "cell_type": "markdown",
   "id": "6d544d51",
   "metadata": {},
   "source": [
    "# Load cleaned DF"
   ]
  },
  {
   "cell_type": "code",
   "execution_count": 7,
   "id": "bb7c734c",
   "metadata": {},
   "outputs": [],
   "source": [
    "data_source  = pd.read_pickle(config.df_Dir + config.data_train )"
   ]
  },
  {
   "cell_type": "code",
   "execution_count": 8,
   "id": "ba30ab3f",
   "metadata": {},
   "outputs": [
    {
     "data": {
      "text/html": [
       "<div>\n",
       "<style scoped>\n",
       "    .dataframe tbody tr th:only-of-type {\n",
       "        vertical-align: middle;\n",
       "    }\n",
       "\n",
       "    .dataframe tbody tr th {\n",
       "        vertical-align: top;\n",
       "    }\n",
       "\n",
       "    .dataframe thead th {\n",
       "        text-align: right;\n",
       "    }\n",
       "</style>\n",
       "<table border=\"1\" class=\"dataframe\">\n",
       "  <thead>\n",
       "    <tr style=\"text-align: right;\">\n",
       "      <th></th>\n",
       "      <th>text</th>\n",
       "      <th>prdtypecode_org</th>\n",
       "      <th>prdtypecode</th>\n",
       "      <th>labels</th>\n",
       "      <th>image_name</th>\n",
       "    </tr>\n",
       "  </thead>\n",
       "  <tbody>\n",
       "    <tr>\n",
       "      <th>0</th>\n",
       "      <td>olivia personalisiertes notizbuch seiten punkt...</td>\n",
       "      <td>10</td>\n",
       "      <td>0</td>\n",
       "      <td>adult books</td>\n",
       "      <td>image_1263597046_product_3804725264.jpg</td>\n",
       "    </tr>\n",
       "    <tr>\n",
       "      <th>1</th>\n",
       "      <td>journal arts art marche salon art asiatique pa...</td>\n",
       "      <td>2280</td>\n",
       "      <td>18</td>\n",
       "      <td>magazines</td>\n",
       "      <td>image_1008141237_product_436067568.jpg</td>\n",
       "    </tr>\n",
       "    <tr>\n",
       "      <th>2</th>\n",
       "      <td>grand stylet ergonomique bleu gamepad nintendo...</td>\n",
       "      <td>50</td>\n",
       "      <td>2</td>\n",
       "      <td>video games accessories</td>\n",
       "      <td>image_938777978_product_201115110.jpg</td>\n",
       "    </tr>\n",
       "    <tr>\n",
       "      <th>3</th>\n",
       "      <td>peluche donald europe disneyland marionnette d...</td>\n",
       "      <td>1280</td>\n",
       "      <td>7</td>\n",
       "      <td>toys for children</td>\n",
       "      <td>image_457047496_product_50418756.jpg</td>\n",
       "    </tr>\n",
       "  </tbody>\n",
       "</table>\n",
       "</div>"
      ],
      "text/plain": [
       "                                                text  prdtypecode_org  \\\n",
       "0  olivia personalisiertes notizbuch seiten punkt...               10   \n",
       "1  journal arts art marche salon art asiatique pa...             2280   \n",
       "2  grand stylet ergonomique bleu gamepad nintendo...               50   \n",
       "3  peluche donald europe disneyland marionnette d...             1280   \n",
       "\n",
       "   prdtypecode                   labels  \\\n",
       "0            0              adult books   \n",
       "1           18                magazines   \n",
       "2            2  video games accessories   \n",
       "3            7        toys for children   \n",
       "\n",
       "                                image_name  \n",
       "0  image_1263597046_product_3804725264.jpg  \n",
       "1   image_1008141237_product_436067568.jpg  \n",
       "2    image_938777978_product_201115110.jpg  \n",
       "3     image_457047496_product_50418756.jpg  "
      ]
     },
     "metadata": {},
     "output_type": "display_data"
    }
   ],
   "source": [
    "display(data_source.head(4))"
   ]
  },
  {
   "cell_type": "markdown",
   "id": "55fcab9e",
   "metadata": {},
   "source": [
    "# Load pre-trained models"
   ]
  },
  {
   "cell_type": "code",
   "execution_count": 9,
   "id": "f81f9a63",
   "metadata": {},
   "outputs": [],
   "source": [
    "def load_trained_model(model_fname):\n",
    "    \n",
    "    model = load_model(config.model_dir + model_fname ,  compile = True )\n",
    "    \n",
    "    return model "
   ]
  },
  {
   "cell_type": "code",
   "execution_count": 10,
   "id": "622d7098",
   "metadata": {},
   "outputs": [],
   "source": [
    "# Load Pre_trained CNN Model - InceptionV3 \n",
    "inceptionNet = load_trained_model(config.inception_fname)\n",
    "#inceptionNet.summary()"
   ]
  },
  {
   "cell_type": "code",
   "execution_count": 11,
   "id": "491b7164",
   "metadata": {},
   "outputs": [],
   "source": [
    "# Load Pre_trainde Model Simple DNN \n",
    "simpleDnnNet = load_trained_model(config.simpleDNN_fname)\n",
    "#simpleDnnNet.summary()"
   ]
  },
  {
   "cell_type": "code",
   "execution_count": 12,
   "id": "63fb6a65",
   "metadata": {},
   "outputs": [],
   "source": [
    "# Load Pre_trainde Model Conv1D\n",
    "con1DNet = load_trained_model(config.conv1D_fname)\n",
    "#con1DNet.summary()"
   ]
  },
  {
   "cell_type": "markdown",
   "id": "7c4533c0",
   "metadata": {},
   "source": [
    "# Create Train and Test sets "
   ]
  },
  {
   "cell_type": "code",
   "execution_count": 13,
   "id": "7399e51c",
   "metadata": {},
   "outputs": [],
   "source": [
    "X_train, X_test = train_test_split(data_source, test_size=0.2, random_state = 1234)"
   ]
  },
  {
   "cell_type": "code",
   "execution_count": 14,
   "id": "f43b53d5",
   "metadata": {},
   "outputs": [],
   "source": [
    "X_test['fullpath'] = config.images_Dir + X_test['image_name']\n",
    "y_test_true = X_test['prdtypecode']"
   ]
  },
  {
   "cell_type": "code",
   "execution_count": 15,
   "id": "f47955b0",
   "metadata": {},
   "outputs": [
    {
     "data": {
      "text/html": [
       "<div>\n",
       "<style scoped>\n",
       "    .dataframe tbody tr th:only-of-type {\n",
       "        vertical-align: middle;\n",
       "    }\n",
       "\n",
       "    .dataframe tbody tr th {\n",
       "        vertical-align: top;\n",
       "    }\n",
       "\n",
       "    .dataframe thead th {\n",
       "        text-align: right;\n",
       "    }\n",
       "</style>\n",
       "<table border=\"1\" class=\"dataframe\">\n",
       "  <thead>\n",
       "    <tr style=\"text-align: right;\">\n",
       "      <th></th>\n",
       "      <th>text</th>\n",
       "      <th>prdtypecode_org</th>\n",
       "      <th>prdtypecode</th>\n",
       "      <th>labels</th>\n",
       "      <th>image_name</th>\n",
       "      <th>fullpath</th>\n",
       "    </tr>\n",
       "  </thead>\n",
       "  <tbody>\n",
       "    <tr>\n",
       "      <th>66047</th>\n",
       "      <td>stabilo lot stylos feutre film ohpen universal...</td>\n",
       "      <td>2522</td>\n",
       "      <td>21</td>\n",
       "      <td>stationery</td>\n",
       "      <td>image_984686659_product_289483356.jpg</td>\n",
       "      <td>D:/DataScienTest_WorkSpace/WS/data/images/all/...</td>\n",
       "    </tr>\n",
       "  </tbody>\n",
       "</table>\n",
       "</div>"
      ],
      "text/plain": [
       "                                                    text  prdtypecode_org  \\\n",
       "66047  stabilo lot stylos feutre film ohpen universal...             2522   \n",
       "\n",
       "       prdtypecode      labels                             image_name  \\\n",
       "66047           21  stationery  image_984686659_product_289483356.jpg   \n",
       "\n",
       "                                                fullpath  \n",
       "66047  D:/DataScienTest_WorkSpace/WS/data/images/all/...  "
      ]
     },
     "execution_count": 15,
     "metadata": {},
     "output_type": "execute_result"
    }
   ],
   "source": [
    "X_test.head(1)"
   ]
  },
  {
   "cell_type": "code",
   "execution_count": 16,
   "id": "7bbcd9db",
   "metadata": {},
   "outputs": [],
   "source": [
    "def tokenize_text(X_train_text, X_test_text):\n",
    "  \n",
    "    #maxlen = 500\n",
    "    maxlen = 400\n",
    "    num_words = 20000\n",
    "    \n",
    "    tokenizer = tf.keras.preprocessing.text.Tokenizer(num_words = num_words)\n",
    "    tokenizer.fit_on_texts(X_train_text)\n",
    "    \n",
    "    X_train = tokenizer.texts_to_sequences(X_train_text)\n",
    "    X_train = tf.keras.preprocessing.sequence.pad_sequences(X_train,\n",
    "                                                            maxlen = maxlen,\n",
    "                                                            padding='post')\n",
    "    X_test = tokenizer.texts_to_sequences(X_test_text)\n",
    "    \n",
    "    X_test = tf.keras.preprocessing.sequence.pad_sequences(X_test,\n",
    "                                                           maxlen = maxlen,\n",
    "                                                           padding='post')\n",
    "    print(\"X_train text created. Size : \", X_train.shape)\n",
    "    print(\"X_test text created. Size : \", X_test.shape)    \n",
    "    \n",
    "    return X_train, X_test "
   ]
  },
  {
   "cell_type": "code",
   "execution_count": 17,
   "id": "586549c5",
   "metadata": {},
   "outputs": [],
   "source": [
    "def tokenize_text_test_only(X_test_text):\n",
    "  \n",
    "    #maxlen = 500\n",
    "    maxlen = 400\n",
    "    num_words = 20000\n",
    "    \n",
    "    tokenizer = tf.keras.preprocessing.text.Tokenizer(num_words = num_words)\n",
    "    tokenizer.fit_on_texts(X_test_text)\n",
    "    \n",
    "    X_test = tokenizer.texts_to_sequences(X_train_text)\n",
    "    X_test = tf.keras.preprocessing.sequence.pad_sequences(X_test,\n",
    "                                                            maxlen = maxlen,\n",
    "                                                            padding='post')\n",
    "\n",
    "    print(\"X_test text created. Size : \", X_test.shape)    \n",
    "    \n",
    "    return X_train, X_test "
   ]
  },
  {
   "cell_type": "code",
   "execution_count": 18,
   "id": "7858e514",
   "metadata": {},
   "outputs": [],
   "source": [
    "def predict_images(model,im_shape, fullpath):\n",
    "    \n",
    "    #fct_name = '[INFO]-[predict_images_proba]'\n",
    "\n",
    "    y_pred_proba_list = []\n",
    "    \n",
    "    for filepath in tqdm(fullpath):\n",
    "        im = cv2.resize(cv2.imread(filepath), im_shape)\n",
    "        im = im/255\n",
    "        im = np.expand_dims(im, axis = 0)\n",
    "        \n",
    "        out = model.predict(im)\n",
    "        \n",
    "        y_pred_proba_list.append(out)\n",
    "        \n",
    "      \n",
    "    y_pred_proba = np.array(y_pred_proba_list)\n",
    "    y_pred_proba = y_pred_proba.reshape(y_pred_proba.shape[0],27)\n",
    "    \n",
    "    permutation = [0, 1, 12, 20, 21, 22, 23, 24, 25, 26, 2, 3,\n",
    "                   4, 5, 6, 7, 8, 9, 10, 11, 13, 14, 15, 16\n",
    "                   ,17, 18, 19]\n",
    "    # swap columns matchs cnn label with real class number\n",
    "    y_pred_proba = y_pred_proba[:, permutation] \n",
    "    y_pred_class = np.argmax(y_pred_proba,axis = 1).astype(int)  # pred with real class labels\n",
    "    \n",
    "    #display(fct_name + 'Probabilities real class num shape:' ,y_pred_proba.shape)\n",
    "    #display(fct_name + 'Predicted real class labels(0 to 26) shape:',y_pred_class.shape)\n",
    "    \n",
    "    return y_pred_proba,  y_pred_class"
   ]
  },
  {
   "cell_type": "code",
   "execution_count": 21,
   "id": "9c3c3ace",
   "metadata": {},
   "outputs": [],
   "source": [
    "def predict_images_data_gen(model, test_df, input_shape, image_Dir):    \n",
    " \n",
    "        test_df.prdtypecode =   test_df.prdtypecode.astype(str)\n",
    "\n",
    "\n",
    "        \n",
    "        datagen = ImageDataGenerator(\n",
    "                                    #tf.keras.applications.mobilenet.preprocess_input,\n",
    "                                    rescale=1./255\n",
    "                                    )\n",
    "        \n",
    "           \n",
    "        test_img_gen = datagen.flow_from_dataframe(dataframe = test_df, \n",
    "                                                    directory = image_Dir,\n",
    "                                                    x_col='image_name', \n",
    "                                                    y_col='prdtypecode',                                                                                 \n",
    "                                                    class_mode='sparse',\n",
    "                                                    target_size=(input_shape[0], input_shape[1]),\n",
    "                                                    batch_size= 64, \n",
    "                                                    shuffle = False                                                   \n",
    "                                                   )\n",
    "        \n",
    "        y_pred_proba = get_true_class(model, test_img_gen)\n",
    "        return y_pred_proba\n",
    "\n",
    "def get_true_class(model, data_gen):\n",
    "    \n",
    "    data_gen.reset()\n",
    "    \n",
    "    #test_score_cnn = model.evaluate(data_gen)\n",
    "    \n",
    "    pred = model.predict(data_gen, verbose = 1)\n",
    "  \n",
    "    class_dict =  data_gen.class_indices  # a dictionary where key is the class name (  assigned by Image Data Generator)\n",
    "                                           #and value is the corresponding label of real class of dataset of images\n",
    "        \n",
    "   # List of permutation corresponding to real class number\n",
    "   \n",
    "    permutation = [data_gen.class_indices[str(i)] for i in range(len(data_gen.class_indices))]\n",
    "    \n",
    "    #print(permutation)   \n",
    "    \n",
    "    y_pred_proba = pred[:, permutation] # swap columns\n",
    "    pred_class_cnn = np.argmax(y_pred_proba, axis = 1).astype(int)\n",
    "    \n",
    "    return y_pred_proba, pred_class_cnn"
   ]
  },
  {
   "cell_type": "markdown",
   "id": "55554a45",
   "metadata": {},
   "source": [
    "# Predict with Images - InceptionV3"
   ]
  },
  {
   "cell_type": "markdown",
   "id": "d23a231b",
   "metadata": {},
   "source": [
    "***Predict Images One by One***"
   ]
  },
  {
   "cell_type": "code",
   "execution_count": 19,
   "id": "74c03348",
   "metadata": {},
   "outputs": [
    {
     "name": "stderr",
     "output_type": "stream",
     "text": [
      "100%|██████████| 16984/16984 [20:24<00:00, 13.87it/s]\n"
     ]
    }
   ],
   "source": [
    "y_pred_proba_cnn_1, pred_class_cnn_1 = predict_images(inceptionNet,\n",
    "                                                  config.inception_im_shape,\n",
    "                                                  X_test['fullpath'])"
   ]
  },
  {
   "cell_type": "markdown",
   "id": "0a438cdd",
   "metadata": {},
   "source": [
    "***Predict with data Generator***"
   ]
  },
  {
   "cell_type": "code",
   "execution_count": 22,
   "id": "a9f16b1a",
   "metadata": {},
   "outputs": [
    {
     "name": "stdout",
     "output_type": "stream",
     "text": [
      "Found 16984 validated image filenames belonging to 27 classes.\n",
      "266/266 [==============================] - 77s 281ms/step\n"
     ]
    }
   ],
   "source": [
    "y_pred_proba_cnn_2, pred_class_cnn_2 = predict_images_data_gen(inceptionNet,\n",
    "                                                           X_test,                                                          \n",
    "                                                           config.inception_im_shape,\n",
    "                                                           config.images_Dir)"
   ]
  },
  {
   "cell_type": "markdown",
   "id": "47aaeda1",
   "metadata": {},
   "source": [
    "***Final CNN prediction***"
   ]
  },
  {
   "cell_type": "code",
   "execution_count": 27,
   "id": "683b45e6",
   "metadata": {},
   "outputs": [],
   "source": [
    "#y_pred_proba_cnn = y_pred_proba_cnn_1\n",
    "#pred_class_cnn =  pred_class_cnn_1\n",
    "\n",
    "y_pred_proba_cnn = y_pred_proba_cnn_2\n",
    "pred_class_cnn =  pred_class_cnn_2"
   ]
  },
  {
   "cell_type": "markdown",
   "id": "652e1a42",
   "metadata": {},
   "source": [
    " "
   ]
  },
  {
   "cell_type": "code",
   "execution_count": 28,
   "id": "444a2dc5",
   "metadata": {},
   "outputs": [
    {
     "name": "stdout",
     "output_type": "stream",
     "text": [
      "              precision    recall  f1-score   support\n",
      "\n",
      "           0       0.59      0.61      0.60       643\n",
      "           1       0.69      0.60      0.65       503\n",
      "           2       0.52      0.34      0.41       319\n",
      "           3       0.70      0.82      0.76       179\n",
      "           4       0.58      0.74      0.65       545\n",
      "           5       0.94      0.89      0.92       793\n",
      "           6       0.60      0.31      0.41       144\n",
      "           7       0.52      0.41      0.46      1002\n",
      "           8       0.36      0.28      0.32       408\n",
      "           9       0.65      0.81      0.72       993\n",
      "          10       0.80      0.51      0.62       162\n",
      "          11       0.62      0.37      0.47       514\n",
      "          12       0.56      0.48      0.51       664\n",
      "          13       0.61      0.54      0.57       993\n",
      "          14       0.66      0.88      0.76       832\n",
      "          15       0.38      0.73      0.50       159\n",
      "          16       0.46      0.58      0.51       970\n",
      "          17       0.43      0.39      0.41       190\n",
      "          18       0.74      0.76      0.75       911\n",
      "          19       0.69      0.70      0.69       961\n",
      "          20       0.88      0.47      0.61       301\n",
      "          21       0.74      0.65      0.69      1011\n",
      "          22       0.47      0.46      0.46       533\n",
      "          23       0.83      0.86      0.84      2083\n",
      "          24       0.45      0.50      0.47       468\n",
      "          25       0.73      0.83      0.78       557\n",
      "          26       0.63      0.69      0.66       146\n",
      "\n",
      "    accuracy                           0.65     16984\n",
      "   macro avg       0.62      0.60      0.60     16984\n",
      "weighted avg       0.65      0.65      0.64     16984\n",
      "\n"
     ]
    }
   ],
   "source": [
    "# With real class num\n",
    "print(metrics.classification_report(y_test_true , pred_class_cnn))"
   ]
  },
  {
   "cell_type": "markdown",
   "id": "85eb3d11",
   "metadata": {},
   "source": [
    "# "
   ]
  },
  {
   "cell_type": "markdown",
   "id": "28a7e19d",
   "metadata": {},
   "source": [
    "# Predict withText - Simple DNN &  Embedding + Conv1D"
   ]
  },
  {
   "cell_type": "code",
   "execution_count": 29,
   "id": "b28900f0",
   "metadata": {},
   "outputs": [
    {
     "name": "stdout",
     "output_type": "stream",
     "text": [
      "X_train text created. Size :  (67932, 400)\n",
      "X_test text created. Size :  (16984, 400)\n"
     ]
    }
   ],
   "source": [
    "X_train_text, X_test_text = tokenize_text(X_train['text'], X_test['text'])"
   ]
  },
  {
   "cell_type": "markdown",
   "id": "2e5a1df6",
   "metadata": {},
   "source": [
    "***Simple DNN***"
   ]
  },
  {
   "cell_type": "code",
   "execution_count": 30,
   "id": "7a46ab3d",
   "metadata": {},
   "outputs": [],
   "source": [
    "y_pred_proba_rnn_1 = simpleDnnNet.predict(X_test_text)\n",
    "y_pred_rnn_1_class = np.argmax(y_pred_proba_rnn_1,axis = 1).astype(int)"
   ]
  },
  {
   "cell_type": "code",
   "execution_count": 31,
   "id": "5127c7f0",
   "metadata": {},
   "outputs": [
    {
     "name": "stdout",
     "output_type": "stream",
     "text": [
      "              precision    recall  f1-score   support\n",
      "\n",
      "           0       0.40      0.62      0.49       643\n",
      "           1       0.75      0.62      0.68       503\n",
      "           2       0.77      0.86      0.81       319\n",
      "           3       0.97      0.82      0.89       179\n",
      "           4       0.77      0.80      0.79       545\n",
      "           5       0.87      0.90      0.88       793\n",
      "           6       0.75      0.47      0.58       144\n",
      "           7       0.72      0.73      0.73      1002\n",
      "           8       0.68      0.54      0.60       408\n",
      "           9       0.94      0.94      0.94       993\n",
      "          10       0.97      0.88      0.92       162\n",
      "          11       0.84      0.77      0.80       514\n",
      "          12       0.79      0.78      0.79       664\n",
      "          13       0.80      0.86      0.83       993\n",
      "          14       0.86      0.95      0.90       832\n",
      "          15       0.85      0.80      0.82       159\n",
      "          16       0.83      0.78      0.80       970\n",
      "          17       0.93      0.73      0.82       190\n",
      "          18       0.71      0.73      0.72       911\n",
      "          19       0.75      0.76      0.76       961\n",
      "          20       0.81      0.78      0.80       301\n",
      "          21       0.92      0.92      0.92      1011\n",
      "          22       0.80      0.71      0.75       533\n",
      "          23       0.96      0.97      0.97      2083\n",
      "          24       0.78      0.80      0.79       468\n",
      "          25       0.87      0.60      0.71       557\n",
      "          26       0.99      1.00      1.00       146\n",
      "\n",
      "    accuracy                           0.81     16984\n",
      "   macro avg       0.82      0.78      0.80     16984\n",
      "weighted avg       0.82      0.81      0.81     16984\n",
      "\n"
     ]
    }
   ],
   "source": [
    "# Report Text predictions\n",
    "print(metrics.classification_report(y_test_true, y_pred_rnn_1_class))"
   ]
  },
  {
   "cell_type": "markdown",
   "id": "0f7d7964",
   "metadata": {},
   "source": [
    "***Embedding + Conv1D***"
   ]
  },
  {
   "cell_type": "code",
   "execution_count": 32,
   "id": "636d92cf",
   "metadata": {},
   "outputs": [],
   "source": [
    "#CONV1D\n",
    "y_pred_proba_rnn_2 = con1DNet.predict(X_test_text)\n",
    "y_pred_rnn_2_class = np.argmax(y_pred_proba_rnn_2,axis = 1).astype(int)"
   ]
  },
  {
   "cell_type": "code",
   "execution_count": 33,
   "id": "3c1fb062",
   "metadata": {},
   "outputs": [
    {
     "name": "stdout",
     "output_type": "stream",
     "text": [
      "              precision    recall  f1-score   support\n",
      "\n",
      "           0       0.40      0.56      0.47       643\n",
      "           1       0.71      0.65      0.68       503\n",
      "           2       0.83      0.76      0.79       319\n",
      "           3       0.88      0.84      0.86       179\n",
      "           4       0.73      0.81      0.77       545\n",
      "           5       0.84      0.89      0.86       793\n",
      "           6       0.89      0.50      0.64       144\n",
      "           7       0.70      0.74      0.72      1002\n",
      "           8       0.63      0.51      0.56       408\n",
      "           9       0.95      0.93      0.94       993\n",
      "          10       0.99      0.89      0.94       162\n",
      "          11       0.80      0.76      0.78       514\n",
      "          12       0.82      0.75      0.79       664\n",
      "          13       0.85      0.81      0.83       993\n",
      "          14       0.90      0.96      0.92       832\n",
      "          15       0.84      0.81      0.82       159\n",
      "          16       0.79      0.82      0.81       970\n",
      "          17       0.84      0.75      0.79       190\n",
      "          18       0.66      0.70      0.68       911\n",
      "          19       0.74      0.73      0.73       961\n",
      "          20       0.82      0.76      0.79       301\n",
      "          21       0.90      0.91      0.91      1011\n",
      "          22       0.82      0.70      0.75       533\n",
      "          23       0.97      0.97      0.97      2083\n",
      "          24       0.74      0.82      0.78       468\n",
      "          25       0.74      0.57      0.65       557\n",
      "          26       0.97      1.00      0.99       146\n",
      "\n",
      "    accuracy                           0.80     16984\n",
      "   macro avg       0.80      0.77      0.79     16984\n",
      "weighted avg       0.81      0.80      0.80     16984\n",
      "\n"
     ]
    }
   ],
   "source": [
    "# Report Text predictions\n",
    "print(metrics.classification_report(y_test_true, y_pred_rnn_2_class))"
   ]
  },
  {
   "cell_type": "markdown",
   "id": "021e508d",
   "metadata": {},
   "source": [
    "# "
   ]
  },
  {
   "cell_type": "markdown",
   "id": "a426f74e",
   "metadata": {},
   "source": [
    "#  Models Voting"
   ]
  },
  {
   "cell_type": "markdown",
   "id": "1c1fbece",
   "metadata": {},
   "source": [
    "Max Voting </br>\n",
    "Weighted Average </br>"
   ]
  },
  {
   "cell_type": "markdown",
   "id": "7c503f3a",
   "metadata": {},
   "source": [
    "***Max Voting***"
   ]
  },
  {
   "cell_type": "code",
   "execution_count": 34,
   "id": "9c18b761",
   "metadata": {},
   "outputs": [],
   "source": [
    "final_pred_max_proba =np.maximum(y_pred_proba_cnn, y_pred_proba_rnn_1, y_pred_proba_rnn_2)"
   ]
  },
  {
   "cell_type": "code",
   "execution_count": 35,
   "id": "06e0a166",
   "metadata": {},
   "outputs": [],
   "source": [
    "final_pred_max = np.argmax(final_pred_max_proba,axis = 1).astype(int)"
   ]
  },
  {
   "cell_type": "code",
   "execution_count": 36,
   "id": "8913bfa2",
   "metadata": {},
   "outputs": [
    {
     "name": "stdout",
     "output_type": "stream",
     "text": [
      "              precision    recall  f1-score   support\n",
      "\n",
      "           0       0.69      0.63      0.66       643\n",
      "           1       0.86      0.75      0.80       503\n",
      "           2       0.80      0.78      0.79       319\n",
      "           3       0.90      0.89      0.90       179\n",
      "           4       0.74      0.86      0.79       545\n",
      "           5       0.94      0.98      0.96       793\n",
      "           6       0.79      0.47      0.59       144\n",
      "           7       0.76      0.70      0.73      1002\n",
      "           8       0.66      0.50      0.57       408\n",
      "           9       0.90      0.96      0.93       993\n",
      "          10       0.96      0.88      0.92       162\n",
      "          11       0.86      0.76      0.80       514\n",
      "          12       0.83      0.75      0.79       664\n",
      "          13       0.81      0.85      0.83       993\n",
      "          14       0.83      0.95      0.88       832\n",
      "          15       0.66      0.87      0.75       159\n",
      "          16       0.80      0.77      0.79       970\n",
      "          17       0.82      0.73      0.77       190\n",
      "          18       0.81      0.83      0.82       911\n",
      "          19       0.80      0.85      0.82       961\n",
      "          20       0.89      0.75      0.82       301\n",
      "          21       0.91      0.91      0.91      1011\n",
      "          22       0.81      0.71      0.76       533\n",
      "          23       0.94      0.98      0.96      2083\n",
      "          24       0.77      0.79      0.78       468\n",
      "          25       0.84      0.92      0.88       557\n",
      "          26       0.83      1.00      0.91       146\n",
      "\n",
      "    accuracy                           0.84     16984\n",
      "   macro avg       0.82      0.81      0.81     16984\n",
      "weighted avg       0.84      0.84      0.83     16984\n",
      "\n"
     ]
    }
   ],
   "source": [
    "print(metrics.classification_report(y_test_true, final_pred_max))"
   ]
  },
  {
   "cell_type": "markdown",
   "id": "5c54bd12",
   "metadata": {},
   "source": [
    "***Weighted Average***"
   ]
  },
  {
   "cell_type": "code",
   "execution_count": 37,
   "id": "f052ccb8",
   "metadata": {},
   "outputs": [],
   "source": [
    "final_pred_weighted_proba = (y_pred_proba_cnn * (config.inception_SC) +    \n",
    "                            y_pred_proba_rnn_1 * (config.simplDNN_SC) +  \n",
    "                            y_pred_proba_rnn_2 * (config.conv1D_SC))/(config.inception_SC + config.simplDNN_SC + config.conv1D_SC)\n"
   ]
  },
  {
   "cell_type": "code",
   "execution_count": 38,
   "id": "93b05aba",
   "metadata": {},
   "outputs": [],
   "source": [
    "final_pred_weighted = np.argmax(final_pred_weighted_proba,axis = 1).astype(int)"
   ]
  },
  {
   "cell_type": "code",
   "execution_count": 39,
   "id": "ec80d6e3",
   "metadata": {},
   "outputs": [
    {
     "name": "stdout",
     "output_type": "stream",
     "text": [
      "              precision    recall  f1-score   support\n",
      "\n",
      "           0       0.67      0.65      0.66       643\n",
      "           1       0.85      0.75      0.80       503\n",
      "           2       0.82      0.82      0.82       319\n",
      "           3       0.93      0.89      0.91       179\n",
      "           4       0.75      0.86      0.80       545\n",
      "           5       0.94      0.98      0.96       793\n",
      "           6       0.84      0.47      0.60       144\n",
      "           7       0.74      0.72      0.73      1002\n",
      "           8       0.69      0.52      0.59       408\n",
      "           9       0.91      0.96      0.93       993\n",
      "          10       0.97      0.88      0.92       162\n",
      "          11       0.86      0.76      0.81       514\n",
      "          12       0.84      0.76      0.80       664\n",
      "          13       0.82      0.86      0.84       993\n",
      "          14       0.84      0.95      0.89       832\n",
      "          15       0.71      0.89      0.79       159\n",
      "          16       0.80      0.79      0.80       970\n",
      "          17       0.86      0.73      0.79       190\n",
      "          18       0.81      0.83      0.82       911\n",
      "          19       0.80      0.85      0.82       961\n",
      "          20       0.89      0.78      0.83       301\n",
      "          21       0.92      0.92      0.92      1011\n",
      "          22       0.83      0.71      0.76       533\n",
      "          23       0.95      0.98      0.96      2083\n",
      "          24       0.78      0.81      0.80       468\n",
      "          25       0.86      0.90      0.88       557\n",
      "          26       0.87      1.00      0.93       146\n",
      "\n",
      "    accuracy                           0.84     16984\n",
      "   macro avg       0.84      0.82      0.82     16984\n",
      "weighted avg       0.84      0.84      0.84     16984\n",
      "\n"
     ]
    }
   ],
   "source": [
    "print(metrics.classification_report(y_test_true, final_pred_weighted))"
   ]
  },
  {
   "cell_type": "markdown",
   "id": "b4cb5d3e",
   "metadata": {},
   "source": [
    "***Save results***"
   ]
  },
  {
   "cell_type": "code",
   "execution_count": 40,
   "id": "5f58653f",
   "metadata": {},
   "outputs": [],
   "source": [
    "def get_org_class_code(y_pred):\n",
    "\n",
    "    df_code = pd.DataFrame(y_pred)\n",
    "\n",
    "    #display('[INFO]-[get_class_code] BEFORE changing Class numbers :',df_code)\n",
    "    df_code.replace({0: \n",
    "                        {0:10, 1:40, 2:50, 3:60, 4:1140,\n",
    "                        5:1160, 6:1180, 7:1280, 8:1281,\n",
    "                        9:1300, 10:1301, 11:1302, 12:1320,\n",
    "                        13:1560, 14:1920, 15:1940, 16:2060,\n",
    "                        17:2220, 18:2280, 19:2403, 20:2462,\n",
    "                        21:2522, 22:2582, 23:2583, 24:2585,\n",
    "                        25:2705, 26:2905,\n",
    "                        }}, inplace = True)\n",
    "\n",
    "    #display('[INFO]-[get_class_code] AFTER changing Class numbers :',df_code)\n",
    "    \n",
    "    return df_code"
   ]
  },
  {
   "cell_type": "code",
   "execution_count": 41,
   "id": "14e94e98",
   "metadata": {},
   "outputs": [],
   "source": [
    "y_test_true_code = X_test['prdtypecode_org']"
   ]
  },
  {
   "cell_type": "code",
   "execution_count": 43,
   "id": "d4125e23",
   "metadata": {},
   "outputs": [],
   "source": [
    "labels = ['adult books',\n",
    "        'imported video games',\n",
    "        'video games accessories',\n",
    "        'games and consoles',\n",
    "        'figurines and Toy Pop',\n",
    "        'playing cards',\n",
    "        'figurines, masks and role playing games',\n",
    "        'toys for children',\n",
    "        'board games',\n",
    "        'remote controlled models',\n",
    "        'accessories children',\n",
    "        'toys, outdoor playing, clothes',\n",
    "        'early childhood',\n",
    "        'interior furniture and bedding',\n",
    "        'interior accessories',\n",
    "        'Food',\n",
    "        'decoration interior',\n",
    "        'supplies for domestic animals',\n",
    "        'magazines',\n",
    "        'children books and magazines',\n",
    "        'games',\n",
    "        'stationery',\n",
    "        'furniture kitchen and garden',\n",
    "        'piscine spa',\n",
    "        'gardening and DIY',\n",
    "        'books',\n",
    "        'online distribution of video games',\n",
    "        '',\n",
    "        '',\n",
    "        '',] \n"
   ]
  },
  {
   "cell_type": "code",
   "execution_count": 44,
   "id": "41492438",
   "metadata": {},
   "outputs": [
    {
     "name": "stdout",
     "output_type": "stream",
     "text": [
      "<class 'pandas.core.frame.DataFrame'>\n",
      "Index: 30 entries, 0 to weighted avg\n",
      "Data columns (total 14 columns):\n",
      " #   Column                    Non-Null Count  Dtype  \n",
      "---  ------                    --------------  -----  \n",
      " 0   Class_Code                30 non-null     object \n",
      " 1   Labels                    30 non-null     object \n",
      " 2   precision_Inception       30 non-null     float64\n",
      " 3   recall_Inception          30 non-null     float64\n",
      " 4   f1-score_Inception        30 non-null     float64\n",
      " 5   f1-score_Simple_DNN       30 non-null     float64\n",
      " 6   precision_Simple_DNN      30 non-null     float64\n",
      " 7   recall_Simple_DNN         30 non-null     float64\n",
      " 8   precision_Conv1D          30 non-null     float64\n",
      " 9   recall_Conv1D             30 non-null     float64\n",
      " 10  f1-score_Conv1D           30 non-null     float64\n",
      " 11  f1-score_max_voting       30 non-null     float64\n",
      " 12  f1-score_weighted_voting  30 non-null     float64\n",
      " 13  support                   30 non-null     int32  \n",
      "dtypes: float64(11), int32(1), object(2)\n",
      "memory usage: 3.4+ KB\n"
     ]
    }
   ],
   "source": [
    "# Single CNN pred with org class code\n",
    "df_pred_cnn_org = get_org_class_code(pred_class_cnn)\n",
    "\n",
    "report = metrics.classification_report(y_test_true, pred_class_cnn, output_dict=True)\n",
    "report_df = pd.DataFrame(report).transpose()\n",
    "report_df = report_df.round(2)\n",
    "report_df['support'] = report_df['support'].astype(int)\n",
    "\n",
    "report_cnn_org_cls = metrics.classification_report(y_test_true_code, df_pred_cnn_org, output_dict=True)\n",
    "df_org_cls = pd.DataFrame(report_cnn_org_cls).transpose()\n",
    "df_org_cls = df_org_cls.round(2)\n",
    "#df_org_cls['support'] = df_org_cls['support'].astype(int)\n",
    "\n",
    "\n",
    "df_report = report_df[['precision', 'recall', 'f1-score', 'support']]\n",
    "#df_report['Class_number'] = report_df.index\n",
    "df_report['Class_Code'] = df_org_cls.index\n",
    "df_report = df_report[['Class_Code','precision', 'recall','f1-score', 'support']]\n",
    "df_report = df_report.rename(columns={\"precision\": \"precision_Inception\",\n",
    "                                      \"recall\": \"recall_Inception\",\n",
    "                                      \"f1-score\": \"f1-score_Inception\"})\n",
    "df_report['Labels'] = labels\n",
    "\n",
    "# Single Simple DNN , Conv1D pred with org class code\n",
    "\n",
    "report_rnn1 = metrics.classification_report(y_test_true, y_pred_rnn_1_class, output_dict=True)\n",
    "df_rnn1 = pd.DataFrame(report_rnn1).transpose()\n",
    "df_rnn1 = df_rnn1.round(2)\n",
    "\n",
    "\n",
    "report_rnn2 = metrics.classification_report(y_test_true, y_pred_rnn_2_class, output_dict=True)\n",
    "df_rnn2 = pd.DataFrame(report_rnn2).transpose()\n",
    "df_rnn2 = df_rnn2.round(2)\n",
    "\n",
    "\n",
    "#df_pred_W = get_org_class_code(final_pred_weighted)\n",
    "\n",
    "report_vote_max = metrics.classification_report(y_test_true, final_pred_max, output_dict=True)\n",
    "df_vote_max = pd.DataFrame(report_vote_max).transpose()\n",
    "df_vote_max = df_vote_max.round(2)\n",
    "\n",
    "report_vote_w = metrics.classification_report(y_test_true, final_pred_weighted, output_dict=True)\n",
    "df_vote_w = pd.DataFrame(report_vote_w).transpose()\n",
    "df_vote_w = df_vote_w.round(2)\n",
    "\n",
    "#precision    recall  f1-score   support\n",
    "df_report['f1-score_Simple_DNN'] = df_rnn1['f1-score']\n",
    "df_report['precision_Simple_DNN'] = df_rnn1['precision']\n",
    "df_report['recall_Simple_DNN'] = df_rnn1['recall']\n",
    "\n",
    "\n",
    "df_report['f1-score_Conv1D'] = df_rnn2['f1-score']\n",
    "df_report['precision_Conv1D'] = df_rnn2['precision']\n",
    "df_report['recall_Conv1D'] = df_rnn2['recall']\n",
    "\n",
    "\n",
    "df_report['f1-score_max_voting'] = df_vote_max['f1-score']\n",
    "df_report['f1-score_weighted_voting'] = df_vote_w['f1-score']\n",
    "\n",
    "col_order = ['Class_Code', 'Labels','precision_Inception', 'recall_Inception','f1-score_Inception',\n",
    "             'f1-score_Simple_DNN', 'precision_Simple_DNN','recall_Simple_DNN',\n",
    "             'precision_Conv1D', 'recall_Conv1D', 'f1-score_Conv1D', \n",
    "             'f1-score_max_voting', 'f1-score_weighted_voting', 'support']\n",
    "\n",
    "\n",
    "df_report = df_report[col_order]\n",
    "df_report.info()\n"
   ]
  },
  {
   "cell_type": "code",
   "execution_count": 45,
   "id": "14cb902e",
   "metadata": {},
   "outputs": [],
   "source": [
    "date = '20022022'\n",
    "\n",
    "df_pred_cnn = pd.DataFrame(pred_class_cnn)\n",
    "df_pred_rnn1 = pd.DataFrame(y_pred_rnn_1_class)\n",
    "df_pred_rnn2 = pd.DataFrame(y_pred_rnn_2_class)\n",
    "\n",
    "\n",
    "df_final_pred_max = pd.DataFrame(final_pred_max)\n",
    "df_final_pred_weighted = pd.DataFrame(final_pred_weighted)\n",
    "\n",
    "# Single models\n",
    "\n",
    " #Images\n",
    "df_pred_cnn.to_csv(f'{config.output_dir}/inception_Predictions_'+ date + '.csv')\n",
    "\n",
    "\n",
    " #Text\n",
    "df_pred_rnn1.to_csv(f'{config.output_dir}/Simple_DNN_Predictions_'+ date + '.csv')\n",
    "df_pred_rnn2.to_csv(f'{config.output_dir}/Conv1D_Predictions_'+ date + '.csv')\n",
    "\n",
    "\n",
    "#Voting\n",
    " #Max Voting\n",
    "df_final_pred_max.to_csv(f'{config.output_dir}/Max_voting_Inception_Simple_DNN_Con1D_'+ date + '.csv')\n",
    "\n",
    " #Weighted Average\n",
    "df_final_pred_weighted.to_csv(f'{config.output_dir}/Weighted_voting_inception_Simple_DNN_Con1D_'+ date + '.csv')\n",
    "\n",
    "\n",
    "#Summury report\n",
    "df_report.to_csv(f'{config.output_dir}/Summury_Voting_Inception_Simple_DNN_Con1D_'+ date + '.csv')\n"
   ]
  },
  {
   "cell_type": "code",
   "execution_count": null,
   "id": "59eb99c0",
   "metadata": {},
   "outputs": [],
   "source": []
  }
 ],
 "metadata": {
  "kernelspec": {
   "display_name": "Python 3 (ipykernel)",
   "language": "python",
   "name": "python3"
  },
  "language_info": {
   "codemirror_mode": {
    "name": "ipython",
    "version": 3
   },
   "file_extension": ".py",
   "mimetype": "text/x-python",
   "name": "python",
   "nbconvert_exporter": "python",
   "pygments_lexer": "ipython3",
   "version": "3.9.7"
  }
 },
 "nbformat": 4,
 "nbformat_minor": 5
}
