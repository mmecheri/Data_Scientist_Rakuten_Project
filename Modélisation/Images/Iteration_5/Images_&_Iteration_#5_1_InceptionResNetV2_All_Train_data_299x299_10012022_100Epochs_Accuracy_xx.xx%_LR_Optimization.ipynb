{
 "cells": [
  {
   "cell_type": "markdown",
   "id": "ba0641ee",
   "metadata": {
    "id": "ba0641ee"
   },
   "source": [
    "# InceptionResNetV2 : Images - Iteration #5_1 : Without Data Augementation - LR Optimization "
   ]
  },
  {
   "cell_type": "markdown",
   "id": "0bd66e8a-5d8b-4838-8b0f-6f40e95d98c8",
   "metadata": {
    "colab": {
     "base_uri": "https://localhost:8080/"
    },
    "executionInfo": {
     "elapsed": 28270,
     "status": "ok",
     "timestamp": 1634134469078,
     "user": {
      "displayName": "Mourad Mecheri",
      "photoUrl": "https://lh3.googleusercontent.com/a/default-user=s64",
      "userId": "08453845245011476141"
     },
     "user_tz": -120
    },
    "id": "b9037513",
    "outputId": "d8d06f9c-4db1-4106-c898-9f91fbecbb89"
   },
   "source": [
    "img_rows = 299 <br>\n",
    "img_cols = 299 <br>\n",
    "batch_size = 64 <br>\n",
    "epochs = 100 <br>\n",
    "Train set size = 67933 <br>\n",
    "Valid set size = 16983 <br>\n",
    "Without Data augmentation <br>\n",
    "Freeze layers of the Base model layers  <br>\n",
    "Optimize LR with LearningRateScheduler <br>\n",
    "Start with small LR: 0,00001 then increase the value evry  epoch until 2.54 <br>\n",
    "then elect a learning rate that achieves the lowest loss <br>"
   ]
  },
  {
   "cell_type": "markdown",
   "id": "cf025bf1-df4a-422b-86ef-1a14d569d10a",
   "metadata": {
    "colab": {
     "base_uri": "https://localhost:8080/"
    },
    "executionInfo": {
     "elapsed": 276,
     "status": "ok",
     "timestamp": 1634134474708,
     "user": {
      "displayName": "Mourad Mecheri",
      "photoUrl": "https://lh3.googleusercontent.com/a/default-user=s64",
      "userId": "08453845245011476141"
     },
     "user_tz": -120
    },
    "id": "2191e30e",
    "outputId": "99169808-7a30-4c91-f3e2-742ab235a6ac"
   },
   "source": [
    "**<u>Results</u>**"
   ]
  },
  {
   "cell_type": "markdown",
   "id": "75e641cb-0371-4933-9d66-039eff9e62e9",
   "metadata": {},
   "source": [
    "Accuracy : 0.?? <br>\n",
    "F1 score weighted : 0.?? <br>"
   ]
  },
  {
   "cell_type": "markdown",
   "id": "27545775",
   "metadata": {
    "id": "27545775"
   },
   "source": [
    "**Import packages**"
   ]
  },
  {
   "cell_type": "code",
   "execution_count": 1,
   "id": "92150877",
   "metadata": {
    "executionInfo": {
     "elapsed": 784,
     "status": "ok",
     "timestamp": 1634134527958,
     "user": {
      "displayName": "Mourad Mecheri",
      "photoUrl": "https://lh3.googleusercontent.com/a/default-user=s64",
      "userId": "08453845245011476141"
     },
     "user_tz": -120
    },
    "id": "92150877"
   },
   "outputs": [],
   "source": [
    "import os\n",
    "import glob\n",
    "import pandas as pd\n",
    "import numpy as np\n",
    "import cv2\n",
    "import matplotlib\n",
    "%matplotlib inline\n",
    "import matplotlib.pyplot as plt\n",
    "import seaborn as sns\n",
    "from tqdm import tqdm\n",
    "from tqdm.notebook import tqdm_notebook\n",
    "import re\n",
    "tqdm_notebook.pandas()\n",
    "import tensorflow as tf\n",
    "#from tensorflow import keras\n",
    "from tensorflow.keras.models import load_model\n",
    "from tensorflow.keras.models import Sequential\n",
    "from tensorflow.keras.layers import Dense, Activation\n",
    "from tensorflow.keras.layers import Dropout\n",
    "from tensorflow.keras.layers import Flatten\n",
    "from tensorflow.keras.layers import GlobalAveragePooling2D\n",
    "from tensorflow.keras.layers import Conv2D\n",
    "from tensorflow.keras.layers import MaxPooling2D\n",
    "from tensorflow.keras.callbacks import ModelCheckpoint, EarlyStopping, ReduceLROnPlateau, LearningRateScheduler\n",
    "from tensorflow.keras.applications.vgg16 import VGG16\n",
    "from tensorflow.keras.applications.efficientnet import EfficientNetB7\n",
    "from tensorflow.keras.applications.mobilenet_v2 import MobileNetV2\n",
    "from tensorflow.keras.applications.densenet import DenseNet121\n",
    "from tensorflow.keras.applications.vgg16 import preprocess_input\n",
    "from tensorflow.keras.applications.xception import Xception\n",
    "from tensorflow.keras.applications.inception_resnet_v2 import InceptionResNetV2\n",
    "from tensorflow.keras.preprocessing.image import ImageDataGenerator\n",
    "from tensorflow.keras.preprocessing import image\n",
    "from tensorflow.keras.optimizers import Adam\n",
    "from sklearn.metrics import f1_score , recall_score, accuracy_score, precision_score, confusion_matrix\n",
    "from keras.utils import np_utils\n",
    "from sklearn.model_selection import train_test_split\n",
    "from sklearn import metrics\n",
    "import itertools\n",
    "import pickle\n",
    "from joblib import dump, load"
   ]
  },
  {
   "cell_type": "markdown",
   "id": "d7a3fcab",
   "metadata": {
    "id": "d7a3fcab"
   },
   "source": [
    "# Iteration #5_1 - InceptionResNetV2"
   ]
  },
  {
   "cell_type": "markdown",
   "id": "a1224583",
   "metadata": {
    "id": "a1224583"
   },
   "source": [
    "***Read DataFrame from saved pickele file - image Train set***"
   ]
  },
  {
   "cell_type": "code",
   "execution_count": 2,
   "id": "8ef548a9",
   "metadata": {
    "executionInfo": {
     "elapsed": 2592,
     "status": "ok",
     "timestamp": 1634134546598,
     "user": {
      "displayName": "Mourad Mecheri",
      "photoUrl": "https://lh3.googleusercontent.com/a/default-user=s64",
      "userId": "08453845245011476141"
     },
     "user_tz": -120
    },
    "id": "8ef548a9"
   },
   "outputs": [],
   "source": [
    "#Load df of images already resized on 256 x 256 \n",
    "#df_train_im = pd.read_pickle(\"./saves/df_save/df_train_combined_19102021.pkl\")\n",
    "\n",
    "#Load df of images with org size 500 x 500\n",
    "df_train_im = pd.read_pickle(\"./saves/df_save/df_train_combined_ORG_im_size_02122021.pkl\")"
   ]
  },
  {
   "cell_type": "code",
   "execution_count": 3,
   "id": "d271de78",
   "metadata": {
    "colab": {
     "base_uri": "https://localhost:8080/",
     "height": 238
    },
    "executionInfo": {
     "elapsed": 198,
     "status": "ok",
     "timestamp": 1634134561983,
     "user": {
      "displayName": "Mourad Mecheri",
      "photoUrl": "https://lh3.googleusercontent.com/a/default-user=s64",
      "userId": "08453845245011476141"
     },
     "user_tz": -120
    },
    "id": "d271de78",
    "outputId": "7c8fd8a1-e44a-4948-cfc7-f477aa1daaa6"
   },
   "outputs": [
    {
     "data": {
      "text/html": [
       "<div>\n",
       "<style scoped>\n",
       "    .dataframe tbody tr th:only-of-type {\n",
       "        vertical-align: middle;\n",
       "    }\n",
       "\n",
       "    .dataframe tbody tr th {\n",
       "        vertical-align: top;\n",
       "    }\n",
       "\n",
       "    .dataframe thead th {\n",
       "        text-align: right;\n",
       "    }\n",
       "</style>\n",
       "<table border=\"1\" class=\"dataframe\">\n",
       "  <thead>\n",
       "    <tr style=\"text-align: right;\">\n",
       "      <th></th>\n",
       "      <th>designation</th>\n",
       "      <th>description</th>\n",
       "      <th>productid</th>\n",
       "      <th>imageid</th>\n",
       "      <th>prdtypecode</th>\n",
       "      <th>imagePath</th>\n",
       "    </tr>\n",
       "  </thead>\n",
       "  <tbody>\n",
       "    <tr>\n",
       "      <th>0</th>\n",
       "      <td>Olivia: Personalisiertes Notizbuch / 150 Seite...</td>\n",
       "      <td>NaN</td>\n",
       "      <td>3804725264</td>\n",
       "      <td>1263597046</td>\n",
       "      <td>10</td>\n",
       "      <td>image_1263597046_product_3804725264.jpg</td>\n",
       "    </tr>\n",
       "    <tr>\n",
       "      <th>1</th>\n",
       "      <td>Journal Des Arts (Le) N° 133 Du 28/09/2001 - L...</td>\n",
       "      <td>NaN</td>\n",
       "      <td>436067568</td>\n",
       "      <td>1008141237</td>\n",
       "      <td>2280</td>\n",
       "      <td>image_1008141237_product_436067568.jpg</td>\n",
       "    </tr>\n",
       "    <tr>\n",
       "      <th>2</th>\n",
       "      <td>Grand Stylet Ergonomique Bleu Gamepad Nintendo...</td>\n",
       "      <td>PILOT STYLE Touch Pen de marque Speedlink est ...</td>\n",
       "      <td>201115110</td>\n",
       "      <td>938777978</td>\n",
       "      <td>50</td>\n",
       "      <td>image_938777978_product_201115110.jpg</td>\n",
       "    </tr>\n",
       "    <tr>\n",
       "      <th>3</th>\n",
       "      <td>Peluche Donald - Europe - Disneyland 2000 (Mar...</td>\n",
       "      <td>NaN</td>\n",
       "      <td>50418756</td>\n",
       "      <td>457047496</td>\n",
       "      <td>1280</td>\n",
       "      <td>image_457047496_product_50418756.jpg</td>\n",
       "    </tr>\n",
       "    <tr>\n",
       "      <th>4</th>\n",
       "      <td>La Guerre Des Tuques</td>\n",
       "      <td>Luc a des id&amp;eacute;es de grandeur. Il veut or...</td>\n",
       "      <td>278535884</td>\n",
       "      <td>1077757786</td>\n",
       "      <td>2705</td>\n",
       "      <td>image_1077757786_product_278535884.jpg</td>\n",
       "    </tr>\n",
       "  </tbody>\n",
       "</table>\n",
       "</div>"
      ],
      "text/plain": [
       "                                         designation  \\\n",
       "0  Olivia: Personalisiertes Notizbuch / 150 Seite...   \n",
       "1  Journal Des Arts (Le) N° 133 Du 28/09/2001 - L...   \n",
       "2  Grand Stylet Ergonomique Bleu Gamepad Nintendo...   \n",
       "3  Peluche Donald - Europe - Disneyland 2000 (Mar...   \n",
       "4                               La Guerre Des Tuques   \n",
       "\n",
       "                                         description   productid     imageid  \\\n",
       "0                                                NaN  3804725264  1263597046   \n",
       "1                                                NaN   436067568  1008141237   \n",
       "2  PILOT STYLE Touch Pen de marque Speedlink est ...   201115110   938777978   \n",
       "3                                                NaN    50418756   457047496   \n",
       "4  Luc a des id&eacute;es de grandeur. Il veut or...   278535884  1077757786   \n",
       "\n",
       "   prdtypecode                                imagePath  \n",
       "0           10  image_1263597046_product_3804725264.jpg  \n",
       "1         2280   image_1008141237_product_436067568.jpg  \n",
       "2           50    image_938777978_product_201115110.jpg  \n",
       "3         1280     image_457047496_product_50418756.jpg  \n",
       "4         2705   image_1077757786_product_278535884.jpg  "
      ]
     },
     "execution_count": 3,
     "metadata": {},
     "output_type": "execute_result"
    }
   ],
   "source": [
    "df_train_im.head()"
   ]
  },
  {
   "cell_type": "code",
   "execution_count": 4,
   "id": "d43d8189",
   "metadata": {
    "colab": {
     "base_uri": "https://localhost:8080/",
     "height": 34
    },
    "executionInfo": {
     "elapsed": 11,
     "status": "ok",
     "timestamp": 1634134564801,
     "user": {
      "displayName": "Mourad Mecheri",
      "photoUrl": "https://lh3.googleusercontent.com/a/default-user=s64",
      "userId": "08453845245011476141"
     },
     "user_tz": -120
    },
    "id": "d43d8189",
    "outputId": "2df9d40d-1f91-4eb1-af2e-61fb2a206a2d"
   },
   "outputs": [
    {
     "data": {
      "text/plain": [
       "(84916, 6)"
      ]
     },
     "metadata": {},
     "output_type": "display_data"
    }
   ],
   "source": [
    "display(df_train_im.shape)"
   ]
  },
  {
   "cell_type": "markdown",
   "id": "380b8623",
   "metadata": {
    "id": "380b8623"
   },
   "source": [
    "***Create Dataframe containing  product classes and their associated labels***"
   ]
  },
  {
   "cell_type": "code",
   "execution_count": 5,
   "id": "c65eaf07",
   "metadata": {},
   "outputs": [
    {
     "data": {
      "text/html": [
       "<div>\n",
       "<style scoped>\n",
       "    .dataframe tbody tr th:only-of-type {\n",
       "        vertical-align: middle;\n",
       "    }\n",
       "\n",
       "    .dataframe tbody tr th {\n",
       "        vertical-align: top;\n",
       "    }\n",
       "\n",
       "    .dataframe thead th {\n",
       "        text-align: right;\n",
       "    }\n",
       "</style>\n",
       "<table border=\"1\" class=\"dataframe\">\n",
       "  <thead>\n",
       "    <tr style=\"text-align: right;\">\n",
       "      <th></th>\n",
       "      <th>prdtypecode</th>\n",
       "      <th>Label</th>\n",
       "    </tr>\n",
       "  </thead>\n",
       "  <tbody>\n",
       "    <tr>\n",
       "      <th>0</th>\n",
       "      <td>50</td>\n",
       "      <td>video games accessories</td>\n",
       "    </tr>\n",
       "    <tr>\n",
       "      <th>1</th>\n",
       "      <td>2705</td>\n",
       "      <td>books</td>\n",
       "    </tr>\n",
       "    <tr>\n",
       "      <th>2</th>\n",
       "      <td>2522</td>\n",
       "      <td>stationery</td>\n",
       "    </tr>\n",
       "    <tr>\n",
       "      <th>3</th>\n",
       "      <td>2582</td>\n",
       "      <td>kitchen and garden</td>\n",
       "    </tr>\n",
       "    <tr>\n",
       "      <th>4</th>\n",
       "      <td>1560</td>\n",
       "      <td>interior furniture and bedding</td>\n",
       "    </tr>\n",
       "    <tr>\n",
       "      <th>5</th>\n",
       "      <td>1281</td>\n",
       "      <td>board games</td>\n",
       "    </tr>\n",
       "    <tr>\n",
       "      <th>6</th>\n",
       "      <td>1920</td>\n",
       "      <td>interior accessories</td>\n",
       "    </tr>\n",
       "    <tr>\n",
       "      <th>7</th>\n",
       "      <td>1280</td>\n",
       "      <td>toys for children</td>\n",
       "    </tr>\n",
       "    <tr>\n",
       "      <th>8</th>\n",
       "      <td>1140</td>\n",
       "      <td>goodies</td>\n",
       "    </tr>\n",
       "    <tr>\n",
       "      <th>9</th>\n",
       "      <td>1300</td>\n",
       "      <td>remote controlled models</td>\n",
       "    </tr>\n",
       "    <tr>\n",
       "      <th>10</th>\n",
       "      <td>2060</td>\n",
       "      <td>decoration interior</td>\n",
       "    </tr>\n",
       "    <tr>\n",
       "      <th>11</th>\n",
       "      <td>2583</td>\n",
       "      <td>piscine spa</td>\n",
       "    </tr>\n",
       "    <tr>\n",
       "      <th>12</th>\n",
       "      <td>60</td>\n",
       "      <td>games and consoles</td>\n",
       "    </tr>\n",
       "    <tr>\n",
       "      <th>13</th>\n",
       "      <td>1320</td>\n",
       "      <td>early childhood</td>\n",
       "    </tr>\n",
       "    <tr>\n",
       "      <th>14</th>\n",
       "      <td>2280</td>\n",
       "      <td>magazines</td>\n",
       "    </tr>\n",
       "    <tr>\n",
       "      <th>15</th>\n",
       "      <td>1302</td>\n",
       "      <td>kids toys</td>\n",
       "    </tr>\n",
       "    <tr>\n",
       "      <th>16</th>\n",
       "      <td>2220</td>\n",
       "      <td>supplies for domestic animals</td>\n",
       "    </tr>\n",
       "    <tr>\n",
       "      <th>17</th>\n",
       "      <td>40</td>\n",
       "      <td>imported video games</td>\n",
       "    </tr>\n",
       "    <tr>\n",
       "      <th>18</th>\n",
       "      <td>2905</td>\n",
       "      <td>online distribution of video games</td>\n",
       "    </tr>\n",
       "    <tr>\n",
       "      <th>19</th>\n",
       "      <td>2585</td>\n",
       "      <td>gardening and DIY</td>\n",
       "    </tr>\n",
       "    <tr>\n",
       "      <th>20</th>\n",
       "      <td>1940</td>\n",
       "      <td>Food</td>\n",
       "    </tr>\n",
       "    <tr>\n",
       "      <th>21</th>\n",
       "      <td>1160</td>\n",
       "      <td>playing cards</td>\n",
       "    </tr>\n",
       "    <tr>\n",
       "      <th>22</th>\n",
       "      <td>1301</td>\n",
       "      <td>accessories children</td>\n",
       "    </tr>\n",
       "    <tr>\n",
       "      <th>23</th>\n",
       "      <td>10</td>\n",
       "      <td>adult books</td>\n",
       "    </tr>\n",
       "    <tr>\n",
       "      <th>24</th>\n",
       "      <td>1180</td>\n",
       "      <td>figurines_wargames</td>\n",
       "    </tr>\n",
       "    <tr>\n",
       "      <th>25</th>\n",
       "      <td>2403</td>\n",
       "      <td>children books</td>\n",
       "    </tr>\n",
       "    <tr>\n",
       "      <th>26</th>\n",
       "      <td>2462</td>\n",
       "      <td>games</td>\n",
       "    </tr>\n",
       "  </tbody>\n",
       "</table>\n",
       "</div>"
      ],
      "text/plain": [
       "    prdtypecode                               Label\n",
       "0            50             video games accessories\n",
       "1          2705                               books\n",
       "2          2522                          stationery\n",
       "3          2582                  kitchen and garden\n",
       "4          1560      interior furniture and bedding\n",
       "5          1281                         board games\n",
       "6          1920                interior accessories\n",
       "7          1280                   toys for children\n",
       "8          1140                             goodies\n",
       "9          1300            remote controlled models\n",
       "10         2060                 decoration interior\n",
       "11         2583                         piscine spa\n",
       "12           60                  games and consoles\n",
       "13         1320                     early childhood\n",
       "14         2280                           magazines\n",
       "15         1302                           kids toys\n",
       "16         2220       supplies for domestic animals\n",
       "17           40                imported video games\n",
       "18         2905  online distribution of video games\n",
       "19         2585                   gardening and DIY\n",
       "20         1940                                Food\n",
       "21         1160                       playing cards\n",
       "22         1301                accessories children\n",
       "23           10                         adult books\n",
       "24         1180                  figurines_wargames\n",
       "25         2403                      children books\n",
       "26         2462                               games"
      ]
     },
     "execution_count": 5,
     "metadata": {},
     "output_type": "execute_result"
    }
   ],
   "source": [
    "#Dictionary of prdtypecode and their corresponding categories\n",
    "dict_prdtypecode = {\"prdtypecode\" : [50, 2705, 2522, 2582, 1560, 1281, 1920, 1280, 1140, 1300, 2060, 2583,\n",
    "                                     60, 1320, 2280, 1302, 2220, 40, 2905, 2585, 1940, 1160, 1301, 10, 1180,\n",
    "                                     2403, 2462],                 \n",
    "            \n",
    "                    \"Label\" : [\"video games accessories\", \"books\", \"stationery\", \"kitchen and garden\", \n",
    "                               \"interior furniture and bedding\", \"board games\", \"interior accessories\",\n",
    "                               \"toys for children\",\"goodies\", \"remote controlled models\", \"decoration interior\",\n",
    "                               \"piscine spa\",\"games and consoles\", \"early childhood\", \"magazines\", \"kids toys\",\n",
    "                               \"supplies for domestic animals\", \"imported video games\", \"online distribution of video games\",\n",
    "                               \"gardening and DIY\",\"Food\",\"playing cards\", \"accessories children\", \"adult books\",\n",
    "                               \"figurines_wargames\", \"children books\",\n",
    "                                \"games\"]\n",
    "                   }\n",
    "df_class = pd.DataFrame(data=dict_prdtypecode)\n",
    "df_class"
   ]
  },
  {
   "cell_type": "code",
   "execution_count": 6,
   "id": "92a6002b",
   "metadata": {},
   "outputs": [
    {
     "data": {
      "text/html": [
       "<div>\n",
       "<style scoped>\n",
       "    .dataframe tbody tr th:only-of-type {\n",
       "        vertical-align: middle;\n",
       "    }\n",
       "\n",
       "    .dataframe tbody tr th {\n",
       "        vertical-align: top;\n",
       "    }\n",
       "\n",
       "    .dataframe thead th {\n",
       "        text-align: right;\n",
       "    }\n",
       "</style>\n",
       "<table border=\"1\" class=\"dataframe\">\n",
       "  <thead>\n",
       "    <tr style=\"text-align: right;\">\n",
       "      <th></th>\n",
       "      <th>prdtypecode</th>\n",
       "      <th>Label</th>\n",
       "      <th>target_prdtypecode</th>\n",
       "    </tr>\n",
       "  </thead>\n",
       "  <tbody>\n",
       "    <tr>\n",
       "      <th>23</th>\n",
       "      <td>10</td>\n",
       "      <td>adult books</td>\n",
       "      <td>0</td>\n",
       "    </tr>\n",
       "    <tr>\n",
       "      <th>17</th>\n",
       "      <td>40</td>\n",
       "      <td>imported video games</td>\n",
       "      <td>1</td>\n",
       "    </tr>\n",
       "    <tr>\n",
       "      <th>0</th>\n",
       "      <td>50</td>\n",
       "      <td>video games accessories</td>\n",
       "      <td>2</td>\n",
       "    </tr>\n",
       "    <tr>\n",
       "      <th>12</th>\n",
       "      <td>60</td>\n",
       "      <td>games and consoles</td>\n",
       "      <td>3</td>\n",
       "    </tr>\n",
       "    <tr>\n",
       "      <th>8</th>\n",
       "      <td>1140</td>\n",
       "      <td>goodies</td>\n",
       "      <td>4</td>\n",
       "    </tr>\n",
       "    <tr>\n",
       "      <th>21</th>\n",
       "      <td>1160</td>\n",
       "      <td>playing cards</td>\n",
       "      <td>5</td>\n",
       "    </tr>\n",
       "    <tr>\n",
       "      <th>24</th>\n",
       "      <td>1180</td>\n",
       "      <td>figurines_wargames</td>\n",
       "      <td>6</td>\n",
       "    </tr>\n",
       "    <tr>\n",
       "      <th>7</th>\n",
       "      <td>1280</td>\n",
       "      <td>toys for children</td>\n",
       "      <td>7</td>\n",
       "    </tr>\n",
       "    <tr>\n",
       "      <th>5</th>\n",
       "      <td>1281</td>\n",
       "      <td>board games</td>\n",
       "      <td>8</td>\n",
       "    </tr>\n",
       "    <tr>\n",
       "      <th>9</th>\n",
       "      <td>1300</td>\n",
       "      <td>remote controlled models</td>\n",
       "      <td>9</td>\n",
       "    </tr>\n",
       "    <tr>\n",
       "      <th>22</th>\n",
       "      <td>1301</td>\n",
       "      <td>accessories children</td>\n",
       "      <td>10</td>\n",
       "    </tr>\n",
       "    <tr>\n",
       "      <th>15</th>\n",
       "      <td>1302</td>\n",
       "      <td>kids toys</td>\n",
       "      <td>11</td>\n",
       "    </tr>\n",
       "    <tr>\n",
       "      <th>13</th>\n",
       "      <td>1320</td>\n",
       "      <td>early childhood</td>\n",
       "      <td>12</td>\n",
       "    </tr>\n",
       "    <tr>\n",
       "      <th>4</th>\n",
       "      <td>1560</td>\n",
       "      <td>interior furniture and bedding</td>\n",
       "      <td>13</td>\n",
       "    </tr>\n",
       "    <tr>\n",
       "      <th>6</th>\n",
       "      <td>1920</td>\n",
       "      <td>interior accessories</td>\n",
       "      <td>14</td>\n",
       "    </tr>\n",
       "    <tr>\n",
       "      <th>20</th>\n",
       "      <td>1940</td>\n",
       "      <td>Food</td>\n",
       "      <td>15</td>\n",
       "    </tr>\n",
       "    <tr>\n",
       "      <th>10</th>\n",
       "      <td>2060</td>\n",
       "      <td>decoration interior</td>\n",
       "      <td>16</td>\n",
       "    </tr>\n",
       "    <tr>\n",
       "      <th>16</th>\n",
       "      <td>2220</td>\n",
       "      <td>supplies for domestic animals</td>\n",
       "      <td>17</td>\n",
       "    </tr>\n",
       "    <tr>\n",
       "      <th>14</th>\n",
       "      <td>2280</td>\n",
       "      <td>magazines</td>\n",
       "      <td>18</td>\n",
       "    </tr>\n",
       "    <tr>\n",
       "      <th>25</th>\n",
       "      <td>2403</td>\n",
       "      <td>children books</td>\n",
       "      <td>19</td>\n",
       "    </tr>\n",
       "    <tr>\n",
       "      <th>26</th>\n",
       "      <td>2462</td>\n",
       "      <td>games</td>\n",
       "      <td>20</td>\n",
       "    </tr>\n",
       "    <tr>\n",
       "      <th>2</th>\n",
       "      <td>2522</td>\n",
       "      <td>stationery</td>\n",
       "      <td>21</td>\n",
       "    </tr>\n",
       "    <tr>\n",
       "      <th>3</th>\n",
       "      <td>2582</td>\n",
       "      <td>kitchen and garden</td>\n",
       "      <td>22</td>\n",
       "    </tr>\n",
       "    <tr>\n",
       "      <th>11</th>\n",
       "      <td>2583</td>\n",
       "      <td>piscine spa</td>\n",
       "      <td>23</td>\n",
       "    </tr>\n",
       "    <tr>\n",
       "      <th>19</th>\n",
       "      <td>2585</td>\n",
       "      <td>gardening and DIY</td>\n",
       "      <td>24</td>\n",
       "    </tr>\n",
       "    <tr>\n",
       "      <th>1</th>\n",
       "      <td>2705</td>\n",
       "      <td>books</td>\n",
       "      <td>25</td>\n",
       "    </tr>\n",
       "    <tr>\n",
       "      <th>18</th>\n",
       "      <td>2905</td>\n",
       "      <td>online distribution of video games</td>\n",
       "      <td>26</td>\n",
       "    </tr>\n",
       "  </tbody>\n",
       "</table>\n",
       "</div>"
      ],
      "text/plain": [
       "    prdtypecode                               Label  target_prdtypecode\n",
       "23           10                         adult books                   0\n",
       "17           40                imported video games                   1\n",
       "0            50             video games accessories                   2\n",
       "12           60                  games and consoles                   3\n",
       "8          1140                             goodies                   4\n",
       "21         1160                       playing cards                   5\n",
       "24         1180                  figurines_wargames                   6\n",
       "7          1280                   toys for children                   7\n",
       "5          1281                         board games                   8\n",
       "9          1300            remote controlled models                   9\n",
       "22         1301                accessories children                  10\n",
       "15         1302                           kids toys                  11\n",
       "13         1320                     early childhood                  12\n",
       "4          1560      interior furniture and bedding                  13\n",
       "6          1920                interior accessories                  14\n",
       "20         1940                                Food                  15\n",
       "10         2060                 decoration interior                  16\n",
       "16         2220       supplies for domestic animals                  17\n",
       "14         2280                           magazines                  18\n",
       "25         2403                      children books                  19\n",
       "26         2462                               games                  20\n",
       "2          2522                          stationery                  21\n",
       "3          2582                  kitchen and garden                  22\n",
       "11         2583                         piscine spa                  23\n",
       "19         2585                   gardening and DIY                  24\n",
       "1          2705                               books                  25\n",
       "18         2905  online distribution of video games                  26"
      ]
     },
     "execution_count": 6,
     "metadata": {},
     "output_type": "execute_result"
    }
   ],
   "source": [
    "# Crate DF containing prdtypecode , categories and corresponding class used by model\n",
    "df_class = df_class.sort_values(by = 'prdtypecode', ascending = True)\n",
    "df_class['target_prdtypecode'] = [i for i in range(27)]\n",
    "df_class"
   ]
  },
  {
   "cell_type": "markdown",
   "id": "4c818d53-2424-43b8-a60f-2bc59d03bc1d",
   "metadata": {},
   "source": [
    "***Change the 27 product codes to 0 to 26***"
   ]
  },
  {
   "cell_type": "code",
   "execution_count": 7,
   "id": "56ea410b",
   "metadata": {
    "executionInfo": {
     "elapsed": 191,
     "status": "ok",
     "timestamp": 1634134621597,
     "user": {
      "displayName": "Mourad Mecheri",
      "photoUrl": "https://lh3.googleusercontent.com/a/default-user=s64",
      "userId": "08453845245011476141"
     },
     "user_tz": -120
    },
    "id": "56ea410b"
   },
   "outputs": [],
   "source": [
    "df_train_im.replace({'prdtypecode':{10:0,\n",
    "                                    40:1,\n",
    "                                    50:2,\n",
    "                                    60:3,\n",
    "                                    1140:4,\n",
    "                                    1160:5,\n",
    "                                    1180:6,\n",
    "                                    1280:7,\n",
    "                                    1281:8,\n",
    "                                    1300:9                                    \n",
    "                                    }}, inplace = True)\n",
    "\n",
    "df_train_im.replace({'prdtypecode':{1301:10,\n",
    "                                    1302:11,\n",
    "                                    1320:12,\n",
    "                                    1560:13,\n",
    "                                    1920:14,\n",
    "                                    1940:15,\n",
    "                                    2060:16,\n",
    "                                    2220:17,\n",
    "                                    2280:18,\n",
    "                                    2403:19,\n",
    "                                    2462:20,\n",
    "                                    2522:21,\n",
    "                                    2582:22,\n",
    "                                    2583:23,\n",
    "                                    2585:24,\n",
    "                                    2705:25,\n",
    "                                    2905:26\n",
    "                                    }}, inplace = True)"
   ]
  },
  {
   "cell_type": "code",
   "execution_count": 8,
   "id": "4eafb15b",
   "metadata": {
    "colab": {
     "base_uri": "https://localhost:8080/",
     "height": 51
    },
    "executionInfo": {
     "elapsed": 220,
     "status": "ok",
     "timestamp": 1634134626306,
     "user": {
      "displayName": "Mourad Mecheri",
      "photoUrl": "https://lh3.googleusercontent.com/a/default-user=s64",
      "userId": "08453845245011476141"
     },
     "user_tz": -120
    },
    "id": "4eafb15b",
    "outputId": "d58b0b3b-65ac-4f95-ed66-7abb38c14a57"
   },
   "outputs": [
    {
     "data": {
      "text/plain": [
       "array([ 0, 18,  2,  7, 25, 21, 22, 13,  8, 14, 19,  4, 23,  6,  9, 20,  5,\n",
       "       16,  1,  3, 12, 11, 17, 26, 24, 15, 10], dtype=int64)"
      ]
     },
     "metadata": {},
     "output_type": "display_data"
    }
   ],
   "source": [
    "display(df_train_im[\"prdtypecode\"].unique())"
   ]
  },
  {
   "cell_type": "markdown",
   "id": "18e21067-7fd3-43df-b815-983af9df9eae",
   "metadata": {},
   "source": [
    " ***Convert product code to string type***"
   ]
  },
  {
   "cell_type": "code",
   "execution_count": 9,
   "id": "26db6db0",
   "metadata": {},
   "outputs": [],
   "source": [
    "df_train_im[\"prdtypecode\"] = df_train_im[\"prdtypecode\"].astype(str)"
   ]
  },
  {
   "cell_type": "code",
   "execution_count": 10,
   "id": "6c853f0c-ac56-4e18-adfc-12e7626bcc61",
   "metadata": {},
   "outputs": [
    {
     "data": {
      "text/plain": [
       "{'0': 3116,\n",
       " '1': 2508,\n",
       " '10': 807,\n",
       " '11': 2491,\n",
       " '12': 3241,\n",
       " '13': 5073,\n",
       " '14': 4303,\n",
       " '15': 803,\n",
       " '16': 4993,\n",
       " '17': 824,\n",
       " '18': 4760,\n",
       " '19': 4774,\n",
       " '2': 1681,\n",
       " '20': 1421,\n",
       " '21': 4989,\n",
       " '22': 2589,\n",
       " '23': 10209,\n",
       " '24': 2496,\n",
       " '25': 2761,\n",
       " '26': 872,\n",
       " '3': 832,\n",
       " '4': 2671,\n",
       " '5': 3953,\n",
       " '6': 764,\n",
       " '7': 4870,\n",
       " '8': 2070,\n",
       " '9': 5045}"
      ]
     },
     "execution_count": 10,
     "metadata": {},
     "output_type": "execute_result"
    }
   ],
   "source": [
    "unique, counts = np.unique(df_train_im[\"prdtypecode\"], return_counts=True)\n",
    "dict(zip(unique, counts))"
   ]
  },
  {
   "cell_type": "markdown",
   "id": "6e0304e8",
   "metadata": {},
   "source": [
    " ***Split Train Set***"
   ]
  },
  {
   "cell_type": "code",
   "execution_count": 11,
   "id": "8b18d8bb",
   "metadata": {},
   "outputs": [],
   "source": [
    "# Split Train set \n",
    "#X_train_im, X_test_im = train_test_split(df_train_im, train_size=0.8, random_state=1234)"
   ]
  },
  {
   "cell_type": "code",
   "execution_count": 12,
   "id": "83a90b61",
   "metadata": {},
   "outputs": [],
   "source": [
    "##display(X_train_im.shape)\n",
    "#display(X_test_im.shape)"
   ]
  },
  {
   "cell_type": "markdown",
   "id": "82625273",
   "metadata": {},
   "source": [
    "***Data Generator***"
   ]
  },
  {
   "cell_type": "code",
   "execution_count": 13,
   "id": "e2c1f1ef",
   "metadata": {
    "colab": {
     "base_uri": "https://localhost:8080/"
    },
    "executionInfo": {
     "elapsed": 215,
     "status": "ok",
     "timestamp": 1634134641759,
     "user": {
      "displayName": "Mourad Mecheri",
      "photoUrl": "https://lh3.googleusercontent.com/a/default-user=s64",
      "userId": "08453845245011476141"
     },
     "user_tz": -120
    },
    "id": "e2c1f1ef",
    "outputId": "11940c5a-39fe-4b68-b766-528d372d90ec"
   },
   "outputs": [],
   "source": [
    "img_rows = 299\n",
    "img_cols = 299\n",
    "batch_size = 64\n",
    "epochs = 100\n",
    "\n",
    "# Directory of images already resized on 256 x 256 \n",
    "#images_dir_train = './data/images/all/image_train_resized/'\n",
    "#images_dir_train = 'E:/WorkSpace_DataScience_E/Rakuten_Projet_Local/My_WS/data/images/all/image_train_resized/'\n",
    "\n",
    "# Directory of images org resize 500 x 500\n",
    "images_dir_train = './data/images/all/image_train/'\n",
    "#images_dir_train = 'E:/WorkSpace_DataScience_E/Rakuten_Projet_Local/My_WS/data/images/all/image_train/'"
   ]
  },
  {
   "cell_type": "code",
   "execution_count": 14,
   "id": "b06e682b",
   "metadata": {},
   "outputs": [
    {
     "name": "stdout",
     "output_type": "stream",
     "text": [
      "Wall time: 0 ns\n"
     ]
    }
   ],
   "source": [
    "%%time\n",
    "#Générateur de données\n",
    "img_gen = ImageDataGenerator(rescale = 1/255, \n",
    "                             validation_split = 0.2)"
   ]
  },
  {
   "cell_type": "code",
   "execution_count": 15,
   "id": "5ad71958",
   "metadata": {},
   "outputs": [
    {
     "name": "stdout",
     "output_type": "stream",
     "text": [
      "Found 67933 validated image filenames belonging to 27 classes.\n",
      "Wall time: 8.98 s\n"
     ]
    }
   ],
   "source": [
    "%%time\n",
    "\n",
    "#Itérateur \n",
    "train_generator = img_gen.flow_from_dataframe(dataframe = df_train_im,\n",
    "                                              directory = images_dir_train,\n",
    "                                              as_ext = True,\n",
    "                                              x_col = 'imagePath',\n",
    "                                              y_col = 'prdtypecode',  #target data                                            \n",
    "                                              class_mode = 'sparse',                                             \n",
    "                                              target_size = (img_rows , img_cols), # default 256 x 256                                             \n",
    "                                              batch_size = batch_size,                                             \n",
    "                                              shuffle = True, # défault\n",
    "                                              subset = 'training'\n",
    "                                             )"
   ]
  },
  {
   "cell_type": "code",
   "execution_count": 16,
   "id": "c7a19b4d",
   "metadata": {},
   "outputs": [
    {
     "name": "stdout",
     "output_type": "stream",
     "text": [
      "Found 16983 validated image filenames belonging to 27 classes.\n",
      "Wall time: 5.55 s\n"
     ]
    }
   ],
   "source": [
    "%%time\n",
    "# validation_split the validation batches ca be retrieved by specifying the subset as validation.\n",
    "valid_generator = img_gen.flow_from_dataframe(dataframe = df_train_im, \n",
    "                                              directory = images_dir_train,\n",
    "                                              as_ext = True,\n",
    "                                              x_col = 'imagePath',\n",
    "                                              y_col = 'prdtypecode',  #target data                                            \n",
    "                                              class_mode = 'sparse',                                        \n",
    "                                              target_size = (img_rows , img_cols), # default 256 x 256                                         \n",
    "                                              batch_size = batch_size, \n",
    "                                              shuffle = False,\n",
    "                                              subset  = 'validation'\n",
    "                                             )"
   ]
  },
  {
   "cell_type": "markdown",
   "id": "3241b27e",
   "metadata": {
    "id": "3241b27e"
   },
   "source": [
    " ***InceptionResNetV2 Implementation***"
   ]
  },
  {
   "cell_type": "code",
   "execution_count": 17,
   "id": "1a56928f",
   "metadata": {
    "id": "1a56928f",
    "outputId": "3309c8d0-8391-4e65-82b1-1a57b201c975"
   },
   "outputs": [
    {
     "name": "stdout",
     "output_type": "stream",
     "text": [
      "Model: \"sequential\"\n",
      "_________________________________________________________________\n",
      "Layer (type)                 Output Shape              Param #   \n",
      "=================================================================\n",
      "inception_resnet_v2 (Functio (None, 8, 8, 1536)        54336736  \n",
      "_________________________________________________________________\n",
      "global_average_pooling2d (Gl (None, 1536)              0         \n",
      "_________________________________________________________________\n",
      "dense (Dense)                (None, 1024)              1573888   \n",
      "_________________________________________________________________\n",
      "dropout (Dropout)            (None, 1024)              0         \n",
      "_________________________________________________________________\n",
      "dense_1 (Dense)              (None, 512)               524800    \n",
      "_________________________________________________________________\n",
      "dropout_1 (Dropout)          (None, 512)               0         \n",
      "_________________________________________________________________\n",
      "dense_2 (Dense)              (None, 27)                13851     \n",
      "=================================================================\n",
      "Total params: 56,449,275\n",
      "Trainable params: 2,112,539\n",
      "Non-trainable params: 54,336,736\n",
      "_________________________________________________________________\n",
      "Wall time: 6.4 s\n"
     ]
    }
   ],
   "source": [
    "%%time\n",
    "# Chargement du modèle InceptionResNetV2\n",
    "inceptionResNetV2 = InceptionResNetV2(weights='imagenet', include_top = False, input_shape=(img_rows,img_rows,3))\n",
    "\n",
    "# Bloquage du blackbone\n",
    "for layer in inceptionResNetV2.layers:\n",
    "    layer.trainable = False   \n",
    "    \n",
    "model = Sequential()\n",
    "model.add(inceptionResNetV2)\n",
    "# Ajout des couche de classification\n",
    "model.add(GlobalAveragePooling2D()) \n",
    "model.add(Dense(units = 1024,activation='relu'))\n",
    "\n",
    "model.add(Dropout(rate = 0.2))\n",
    "model.add(Dense(units = 512, activation='relu'))\n",
    "\n",
    "model.add(Dropout(rate = 0.2))\n",
    "model.add(Dense(units = 27, activation='softmax'))\n",
    "model.summary()"
   ]
  },
  {
   "cell_type": "markdown",
   "id": "233e26ad",
   "metadata": {},
   "source": [
    " ***Compilation***"
   ]
  },
  {
   "cell_type": "code",
   "execution_count": 18,
   "id": "9caba2fb",
   "metadata": {},
   "outputs": [
    {
     "name": "stdout",
     "output_type": "stream",
     "text": [
      "Wall time: 15 ms\n"
     ]
    }
   ],
   "source": [
    "%%time\n",
    "# Compilation\n",
    "model.compile(loss='sparse_categorical_crossentropy',  # fonction de perte\n",
    "              optimizer= Adam(learning_rate= 1e-5) ,   #default lr = 0.001 # algorithme de descente de gradient\n",
    "              metrics=['accuracy'])                    # métrique d'évaluation"
   ]
  },
  {
   "cell_type": "markdown",
   "id": "6266d9a2",
   "metadata": {
    "id": "6266d9a2"
   },
   "source": [
    "***Callbacks***"
   ]
  },
  {
   "cell_type": "code",
   "execution_count": 21,
   "id": "884c6005",
   "metadata": {},
   "outputs": [],
   "source": [
    "def increasinglrUpdate(epoch, learning_rate):\n",
    "    if epoch ==0:\n",
    "        print(\"[INFO] : Starting : epoch: \", epoch , \"learning_rate : \", learning_rate)\n",
    "        return learning_rate\n",
    "    else:\n",
    "        lr_updated = 1e-5 * 100 ** (epoch / 37)\n",
    "        print(\"[INFO] : Learning rate updated from:\", learning_rate, 'to: ',  lr_updated)\n",
    "        return lr_updated"
   ]
  },
  {
   "cell_type": "code",
   "execution_count": 23,
   "id": "cd04edfd",
   "metadata": {
    "id": "cd04edfd",
    "outputId": "19043533-d360-4dfb-d821-8c8f39ea073b"
   },
   "outputs": [
    {
     "name": "stdout",
     "output_type": "stream",
     "text": [
      "Wall time: 0 ns\n"
     ]
    }
   ],
   "source": [
    "%%time\n",
    "path = './saves/InceptionResNetV2/Iteration_5_1/'\n",
    "file_name = 'checkpoint_InceptionResNetV2_10012022_Shape_299x299_100Epochs.h5'\n",
    "\n",
    "#Sauvegarder les meilleurs poids du modèle au cours de l'entraînement :\n",
    "checkpoint = ModelCheckpoint(filepath = path + file_name , \n",
    "                             monitor ='val_accuracy',                            \n",
    "                             save_best_only = True, # (pour que le meilleur modèle ne soit pas écrasé)\n",
    "                             save_weights_only = False,\n",
    "                             mode ='max', #(permet de préciser si la métrique doit croître ou décroitre : ici on choisit 'min'\n",
    "                                           #car la métrique est une perte à minimiser)\n",
    "                             save_freq='epoch',\n",
    "                             verbose = 1\n",
    "                             )\n",
    "#Arrêter l'entraînement si le modèle n'évolue plus (très pratique pour ne pas gérer le\n",
    "#nombre d'epoch) :\n",
    "early = EarlyStopping(monitor='val_loss',\n",
    "                      min_delta = 0.01, # si au bout de 5 epochs la fonction de perte ne varie pas de 1%, \n",
    "                                         # que ce soit à la hausse ou à la baisse, on arrête\n",
    "                      patience = 5, #(nombre d'epochs à attendre avant d'arrêter l'entraînement\n",
    "                      restore_best_weights = True,                     \n",
    "                      mode = 'min',\n",
    "                      verbose = 1,\n",
    "                      )\n",
    "#ReduceLROnPlateau. Lorsque qu'une métrique ne s'améliore plus d'une epoch à l'autre, \n",
    "#on peut diminuer le taux d'apprentissage (*Learning Rate*) pour y remédier. \n",
    "#Pour définir les critères et les conditions de réduction de taux d'apprentissage, \n",
    "#on peut utiliser les paramètres suivants : \n",
    "\n",
    "lr_plateau = ReduceLROnPlateau(monitor = 'val_loss',\n",
    "                               patience = 3,  #si val_loss stagne sur 3 epochs consécutives selon la valeur epsilon                            \n",
    "                               mode='min',\n",
    "                               min_delta = 0.01, # Si val loss n'a pas varié de 1 % on applique \n",
    "                               factor = 0.1,  # On réduit le learning rate d'un facteur 0.1 ( On divise le LR par 10)\n",
    "                               cooldown = 4, # On attend 4 epochs avant de réitérer.\n",
    "                                             #Nombre d'epochs de 'pause' entre deux mesures de suivis du *learning rate*.\n",
    "                               verbose=1\n",
    "                               )\n",
    "\n",
    "\n",
    "lrScheduler = LearningRateScheduler(schedule = increasinglrUpdate, verbose = 1)\n",
    "#lrScheduler = LearningRateScheduler(lambda epoch: 1e-3 * 10 ** (epoch / 37)\n",
    "#We’ll train the model for 100 epochs to test 100 different loss/learning rate combinations.\n",
    "#Here’s the range for the learning rate values: 1e-5 * 100 ** (0 / 37) and 1e-5 * 100 ** (100 / 37)\n",
    "# (1e-05, 2.543345761304648)"
   ]
  },
  {
   "cell_type": "markdown",
   "id": "5ab7aa20",
   "metadata": {
    "id": "5ab7aa20"
   },
   "source": [
    " ***Fit - train_generator***"
   ]
  },
  {
   "cell_type": "code",
   "execution_count": 24,
   "id": "95bc66c7",
   "metadata": {},
   "outputs": [
    {
     "name": "stdout",
     "output_type": "stream",
     "text": [
      "step_size_Train :  1061\n",
      "step_size_Valid  :  265\n"
     ]
    }
   ],
   "source": [
    "step_size_Train = train_generator.n//train_generator.batch_size\n",
    "step_size_Valid = valid_generator.n//valid_generator.batch_size\n",
    "print('step_size_Train : ' , step_size_Train)\n",
    "print('step_size_Valid  : ' , step_size_Valid)"
   ]
  },
  {
   "cell_type": "code",
   "execution_count": 25,
   "id": "6099def0",
   "metadata": {
    "id": "6099def0",
    "outputId": "7aa5fc74-d64e-47c2-dde0-0270be09fc24"
   },
   "outputs": [
    {
     "name": "stdout",
     "output_type": "stream",
     "text": [
      "Epoch 1/100\n",
      "[INFO] : Starting : epoch:  0 learning_rate :  9.999999747378752e-06\n",
      "\n",
      "Epoch 00001: LearningRateScheduler setting learning rate to 9.999999747378752e-06.\n",
      "1061/1061 [==============================] - 486s 443ms/step - loss: 2.4662 - accuracy: 0.3253 - val_loss: 1.9486 - val_accuracy: 0.4499\n",
      "Epoch 2/100\n",
      "[INFO] : Learning rate updated from: 9.999999747378752e-06 to:  1.132541315152812e-05\n",
      "\n",
      "Epoch 00002: LearningRateScheduler setting learning rate to 1.132541315152812e-05.\n",
      "1061/1061 [==============================] - 408s 385ms/step - loss: 1.9134 - accuracy: 0.4515 - val_loss: 1.7267 - val_accuracy: 0.5025\n",
      "Epoch 3/100\n",
      "[INFO] : Learning rate updated from: 1.1325412742735352e-05 to:  1.2826498305280606e-05\n",
      "\n",
      "Epoch 00003: LearningRateScheduler setting learning rate to 1.2826498305280606e-05.\n",
      "1061/1061 [==============================] - 415s 390ms/step - loss: 1.7552 - accuracy: 0.4884 - val_loss: 1.6393 - val_accuracy: 0.5197\n",
      "Epoch 4/100\n",
      "[INFO] : Learning rate updated from: 1.2826498277718201e-05 to:  1.4526539259467809e-05\n",
      "\n",
      "Epoch 00004: LearningRateScheduler setting learning rate to 1.4526539259467809e-05.\n",
      "1061/1061 [==============================] - 447s 421ms/step - loss: 1.6720 - accuracy: 0.5103 - val_loss: 1.5783 - val_accuracy: 0.5337\n",
      "Epoch 5/100\n",
      "[INFO] : Learning rate updated from: 1.4526539416692685e-05 to:  1.6451905877536628e-05\n",
      "\n",
      "Epoch 00005: LearningRateScheduler setting learning rate to 1.6451905877536628e-05.\n",
      "1061/1061 [==============================] - 478s 450ms/step - loss: 1.6073 - accuracy: 0.5281 - val_loss: 1.5392 - val_accuracy: 0.5468\n",
      "Epoch 6/100\n",
      "[INFO] : Learning rate updated from: 1.645190604904201e-05 to:  1.8632463119315606e-05\n",
      "\n",
      "Epoch 00006: LearningRateScheduler setting learning rate to 1.8632463119315606e-05.\n",
      "1061/1061 [==============================] - 500s 471ms/step - loss: 1.5567 - accuracy: 0.5398 - val_loss: 1.4985 - val_accuracy: 0.5603\n",
      "Epoch 7/100\n",
      "[INFO] : Learning rate updated from: 1.863246325228829e-05 to:  2.1102034285685956e-05\n",
      "\n",
      "Epoch 00007: LearningRateScheduler setting learning rate to 2.1102034285685956e-05.\n",
      "1061/1061 [==============================] - 448s 422ms/step - loss: 1.5104 - accuracy: 0.5521 - val_loss: 1.4723 - val_accuracy: 0.5644\n",
      "Epoch 8/100\n",
      "[INFO] : Learning rate updated from: 2.110203422489576e-05 to:  2.38989256623105e-05\n",
      "\n",
      "Epoch 00008: LearningRateScheduler setting learning rate to 2.38989256623105e-05.\n",
      "1061/1061 [==============================] - 516s 487ms/step - loss: 1.4729 - accuracy: 0.5618 - val_loss: 1.4427 - val_accuracy: 0.5715\n",
      "Epoch 9/100\n",
      "[INFO] : Learning rate updated from: 2.3898925064713694e-05 to:  2.7066520700332418e-05\n",
      "\n",
      "Epoch 00009: LearningRateScheduler setting learning rate to 2.7066520700332418e-05.\n",
      "1061/1061 [==============================] - 518s 488ms/step - loss: 1.4352 - accuracy: 0.5719 - val_loss: 1.4159 - val_accuracy: 0.5795\n",
      "Epoch 10/100\n",
      "[INFO] : Learning rate updated from: 2.7066520488006063e-05 to:  3.065395295056528e-05\n",
      "\n",
      "Epoch 00010: LearningRateScheduler setting learning rate to 3.065395295056528e-05.\n",
      "1061/1061 [==============================] - 514s 484ms/step - loss: 1.3985 - accuracy: 0.5822 - val_loss: 1.3935 - val_accuracy: 0.5868\n",
      "Epoch 11/100\n",
      "[INFO] : Learning rate updated from: 3.065395139856264e-05 to:  3.4716868189265614e-05\n",
      "\n",
      "Epoch 00011: LearningRateScheduler setting learning rate to 3.4716868189265614e-05.\n",
      "1061/1061 [==============================] - 516s 487ms/step - loss: 1.3653 - accuracy: 0.5918 - val_loss: 1.3776 - val_accuracy: 0.5915\n",
      "Epoch 12/100\n",
      "[INFO] : Learning rate updated from: 3.471686795819551e-05 to:  3.93182875570577e-05\n",
      "\n",
      "Epoch 00012: LearningRateScheduler setting learning rate to 3.93182875570577e-05.\n",
      "1061/1061 [==============================] - 515s 486ms/step - loss: 1.3312 - accuracy: 0.6016 - val_loss: 1.3598 - val_accuracy: 0.5965\n",
      "Epoch 13/100\n",
      "[INFO] : Learning rate updated from: 3.931828905479051e-05 to:  4.452958509942655e-05\n",
      "\n",
      "Epoch 00013: LearningRateScheduler setting learning rate to 4.452958509942655e-05.\n",
      "1061/1061 [==============================] - 485s 457ms/step - loss: 1.2999 - accuracy: 0.6093 - val_loss: 1.3372 - val_accuracy: 0.6015\n",
      "Epoch 14/100\n",
      "[INFO] : Learning rate updated from: 4.452958455658518e-05 to:  5.043159487171361e-05\n",
      "\n",
      "Epoch 00014: LearningRateScheduler setting learning rate to 5.043159487171361e-05.\n",
      "1061/1061 [==============================] - 516s 486ms/step - loss: 1.2679 - accuracy: 0.6178 - val_loss: 1.3200 - val_accuracy: 0.6069\n",
      "Epoch 15/100\n",
      "[INFO] : Learning rate updated from: 5.043159399065189e-05 to:  5.711586478126433e-05\n",
      "\n",
      "Epoch 00015: LearningRateScheduler setting learning rate to 5.711586478126433e-05.\n",
      "1061/1061 [==============================] - 517s 487ms/step - loss: 1.2343 - accuracy: 0.6279 - val_loss: 1.3053 - val_accuracy: 0.6096\n",
      "Epoch 16/100\n",
      "[INFO] : Learning rate updated from: 5.7115863455692306e-05 to:  6.468607661546327e-05\n",
      "\n",
      "Epoch 00016: LearningRateScheduler setting learning rate to 6.468607661546327e-05.\n",
      "1061/1061 [==============================] - 515s 485ms/step - loss: 1.2036 - accuracy: 0.6341 - val_loss: 1.2913 - val_accuracy: 0.6171\n",
      "Epoch 17/100\n",
      "[INFO] : Learning rate updated from: 6.468607898568735e-05 to:  7.325965428215231e-05\n",
      "\n",
      "Epoch 00017: LearningRateScheduler setting learning rate to 7.325965428215231e-05.\n",
      "1061/1061 [==============================] - 516s 486ms/step - loss: 1.1728 - accuracy: 0.6431 - val_loss: 1.2956 - val_accuracy: 0.6125\n",
      "Epoch 18/100\n",
      "[INFO] : Learning rate updated from: 7.325965270865709e-05 to:  8.29695852083491e-05\n",
      "\n",
      "Epoch 00018: LearningRateScheduler setting learning rate to 8.29695852083491e-05.\n",
      "1061/1061 [==============================] - 518s 488ms/step - loss: 1.1439 - accuracy: 0.6506 - val_loss: 1.2789 - val_accuracy: 0.6166\n",
      "Epoch 19/100\n",
      "[INFO] : Learning rate updated from: 8.296958549181e-05 to:  9.396648314954697e-05\n",
      "\n",
      "Epoch 00019: LearningRateScheduler setting learning rate to 9.396648314954697e-05.\n",
      "1061/1061 [==============================] - 515s 485ms/step - loss: 1.1131 - accuracy: 0.6595 - val_loss: 1.2619 - val_accuracy: 0.6210\n",
      "Epoch 20/100\n",
      "[INFO] : Learning rate updated from: 9.396648238180205e-05 to:  0.00010642092440647242\n",
      "\n",
      "Epoch 00020: LearningRateScheduler setting learning rate to 0.00010642092440647242.\n",
      "1061/1061 [==============================] - 516s 486ms/step - loss: 1.0846 - accuracy: 0.6668 - val_loss: 1.2600 - val_accuracy: 0.6226\n",
      "Epoch 21/100\n",
      "[INFO] : Learning rate updated from: 0.00010642092092894018 to:  0.00012052609368708427\n",
      "\n",
      "Epoch 00021: LearningRateScheduler setting learning rate to 0.00012052609368708427.\n",
      "1061/1061 [==============================] - 517s 487ms/step - loss: 1.0548 - accuracy: 0.6721 - val_loss: 1.2694 - val_accuracy: 0.6234\n",
      "Epoch 22/100\n",
      "[INFO] : Learning rate updated from: 0.00012052609235979617 to:  0.00013650078065460138\n",
      "\n",
      "Epoch 00022: LearningRateScheduler setting learning rate to 0.00013650078065460138.\n",
      "1061/1061 [==============================] - 518s 488ms/step - loss: 1.0320 - accuracy: 0.6797 - val_loss: 1.2561 - val_accuracy: 0.6261\n",
      "Epoch 23/100\n",
      "[INFO] : Learning rate updated from: 0.0001365007774438709 to:  0.00015459277364194779\n",
      "\n",
      "Epoch 00023: LearningRateScheduler setting learning rate to 0.00015459277364194779.\n",
      "1061/1061 [==============================] - 488s 460ms/step - loss: 1.0097 - accuracy: 0.6843 - val_loss: 1.2663 - val_accuracy: 0.6224\n",
      "Epoch 24/100\n",
      "[INFO] : Learning rate updated from: 0.00015459278074558824 to:  0.00017508270317357244\n",
      "\n",
      "Epoch 00024: LearningRateScheduler setting learning rate to 0.00017508270317357244.\n",
      "1061/1061 [==============================] - 422s 398ms/step - loss: 0.9850 - accuracy: 0.6907 - val_loss: 1.2673 - val_accuracy: 0.6241\n",
      "Epoch 25/100\n",
      "[INFO] : Learning rate updated from: 0.0001750827068462968 to:  0.00019828839491270716\n",
      "\n",
      "Epoch 00025: LearningRateScheduler setting learning rate to 0.00019828839491270716.\n",
      "1061/1061 [==============================] - 428s 403ms/step - loss: 0.9682 - accuracy: 0.6946 - val_loss: 1.2692 - val_accuracy: 0.6170\n",
      "Epoch 26/100\n",
      "[INFO] : Learning rate updated from: 0.00019828839867841452 to:  0.0002245697995539774\n",
      "\n",
      "Epoch 00026: LearningRateScheduler setting learning rate to 0.0002245697995539774.\n",
      "1061/1061 [==============================] - 505s 476ms/step - loss: 0.9517 - accuracy: 0.6982 - val_loss: 1.2982 - val_accuracy: 0.6200\n",
      "Epoch 27/100\n",
      "[INFO] : Learning rate updated from: 0.0002245697978651151 to:  0.000254334576130465\n",
      "\n",
      "Epoch 00027: LearningRateScheduler setting learning rate to 0.000254334576130465.\n",
      "1061/1061 [==============================] - 520s 490ms/step - loss: 0.9440 - accuracy: 0.6998 - val_loss: 1.2709 - val_accuracy: 0.6254\n",
      "Epoch 28/100\n",
      "[INFO] : Learning rate updated from: 0.000254334561759606 to:  0.00028804441533962965\n",
      "\n",
      "Epoch 00028: LearningRateScheduler setting learning rate to 0.00028804441533962965.\n",
      "1061/1061 [==============================] - 493s 464ms/step - loss: 0.9341 - accuracy: 0.7032 - val_loss: 1.3045 - val_accuracy: 0.6214\n",
      "Epoch 29/100\n",
      "[INFO] : Learning rate updated from: 0.0002880444226320833 to:  0.000326222200971167\n",
      "\n",
      "Epoch 00029: LearningRateScheduler setting learning rate to 0.000326222200971167.\n",
      "1061/1061 [==============================] - 445s 419ms/step - loss: 0.9328 - accuracy: 0.7023 - val_loss: 1.3160 - val_accuracy: 0.6171\n",
      "Epoch 30/100\n",
      "[INFO] : Learning rate updated from: 0.0003262221871409565 to:  0.00036946012051993025\n",
      "\n",
      "Epoch 00030: LearningRateScheduler setting learning rate to 0.00036946012051993025.\n",
      "1061/1061 [==============================] - 431s 406ms/step - loss: 0.9311 - accuracy: 0.7028 - val_loss: 1.2953 - val_accuracy: 0.6238\n",
      "Epoch 31/100\n",
      "[INFO] : Learning rate updated from: 0.0003694601182360202 to:  0.00041842885079015825\n",
      "\n",
      "Epoch 00031: LearningRateScheduler setting learning rate to 0.00041842885079015825.\n",
      "1061/1061 [==============================] - 427s 402ms/step - loss: 0.9359 - accuracy: 0.7013 - val_loss: 1.3050 - val_accuracy: 0.6212\n",
      "Epoch 32/100\n",
      "[INFO] : Learning rate updated from: 0.00041842885548248887 to:  0.0004738879609717654\n",
      "\n",
      "Epoch 00032: LearningRateScheduler setting learning rate to 0.0004738879609717654.\n",
      "1061/1061 [==============================] - 426s 401ms/step - loss: 0.9425 - accuracy: 0.6960 - val_loss: 1.3465 - val_accuracy: 0.6164\n",
      "Epoch 33/100\n",
      "[INFO] : Learning rate updated from: 0.00047388795064762235 to:  0.0005366976945540477\n",
      "\n",
      "Epoch 00033: LearningRateScheduler setting learning rate to 0.0005366976945540477.\n",
      "1061/1061 [==============================] - 428s 403ms/step - loss: 0.9569 - accuracy: 0.6922 - val_loss: 1.3161 - val_accuracy: 0.6206\n",
      "Epoch 34/100\n",
      "[INFO] : Learning rate updated from: 0.0005366976838558912 to:  0.000607832312829723\n",
      "\n",
      "Epoch 00034: LearningRateScheduler setting learning rate to 0.000607832312829723.\n",
      "1061/1061 [==============================] - 499s 470ms/step - loss: 0.9692 - accuracy: 0.6913 - val_loss: 1.3293 - val_accuracy: 0.6123\n",
      "Epoch 35/100\n",
      "[INFO] : Learning rate updated from: 0.0006078323349356651 to:  0.0006883952069645501\n",
      "\n",
      "Epoch 00035: LearningRateScheduler setting learning rate to 0.0006883952069645501.\n",
      "1061/1061 [==============================] - 451s 425ms/step - loss: 0.9897 - accuracy: 0.6815 - val_loss: 1.3413 - val_accuracy: 0.6146\n",
      "Epoch 36/100\n",
      "[INFO] : Learning rate updated from: 0.0006883952300995588 to:  0.0007796360130405234\n",
      "\n",
      "Epoch 00036: LearningRateScheduler setting learning rate to 0.0007796360130405234.\n",
      "1061/1061 [==============================] - 432s 407ms/step - loss: 1.0072 - accuracy: 0.6776 - val_loss: 1.3079 - val_accuracy: 0.6140\n",
      "Epoch 37/100\n",
      "[INFO] : Learning rate updated from: 0.0007796360296197236 to:  0.0008829699955494093\n",
      "\n",
      "Epoch 00037: LearningRateScheduler setting learning rate to 0.0008829699955494093.\n",
      "1061/1061 [==============================] - 425s 400ms/step - loss: 1.0401 - accuracy: 0.6679 - val_loss: 1.3433 - val_accuracy: 0.6104\n",
      "Epoch 38/100\n",
      "[INFO] : Learning rate updated from: 0.0008829699945636094 to:  0.001\n",
      "\n",
      "Epoch 00038: LearningRateScheduler setting learning rate to 0.001.\n",
      "1061/1061 [==============================] - 425s 400ms/step - loss: 1.0748 - accuracy: 0.6601 - val_loss: 1.3662 - val_accuracy: 0.6001\n",
      "Epoch 39/100\n",
      "[INFO] : Learning rate updated from: 0.0010000000474974513 to:  0.0011325413151528115\n",
      "\n",
      "Epoch 00039: LearningRateScheduler setting learning rate to 0.0011325413151528115.\n",
      "1061/1061 [==============================] - 471s 444ms/step - loss: 1.1037 - accuracy: 0.6490 - val_loss: 1.3641 - val_accuracy: 0.6014\n",
      "Epoch 40/100\n",
      "[INFO] : Learning rate updated from: 0.001132541336119175 to:  0.00128264983052806\n",
      "\n",
      "Epoch 00040: LearningRateScheduler setting learning rate to 0.00128264983052806.\n",
      "1061/1061 [==============================] - 420s 396ms/step - loss: 1.1474 - accuracy: 0.6401 - val_loss: 1.3955 - val_accuracy: 0.5873\n",
      "Epoch 41/100\n",
      "[INFO] : Learning rate updated from: 0.001282649813219905 to:  0.0014526539259467814\n",
      "\n",
      "Epoch 00041: LearningRateScheduler setting learning rate to 0.0014526539259467814.\n",
      "1061/1061 [==============================] - 421s 397ms/step - loss: 1.1860 - accuracy: 0.6286 - val_loss: 1.3867 - val_accuracy: 0.5887\n",
      "Epoch 42/100\n",
      "[INFO] : Learning rate updated from: 0.0014526539016515017 to:  0.0016451905877536625\n",
      "\n",
      "Epoch 00042: LearningRateScheduler setting learning rate to 0.0016451905877536625.\n",
      "1061/1061 [==============================] - 421s 396ms/step - loss: 1.2460 - accuracy: 0.6151 - val_loss: 1.4000 - val_accuracy: 0.5907\n",
      "Epoch 43/100\n",
      "[INFO] : Learning rate updated from: 0.001645190641283989 to:  0.00186324631193156\n",
      "\n",
      "Epoch 00043: LearningRateScheduler setting learning rate to 0.00186324631193156.\n",
      "1061/1061 [==============================] - 426s 401ms/step - loss: 1.2984 - accuracy: 0.6013 - val_loss: 1.4170 - val_accuracy: 0.5830\n",
      "Epoch 44/100\n",
      "[INFO] : Learning rate updated from: 0.0018632463179528713 to:  0.0021102034285685944\n",
      "\n",
      "Epoch 00044: LearningRateScheduler setting learning rate to 0.0021102034285685944.\n",
      "1061/1061 [==============================] - 421s 397ms/step - loss: 1.3475 - accuracy: 0.5910 - val_loss: 1.4838 - val_accuracy: 0.5656\n",
      "Epoch 45/100\n",
      "[INFO] : Learning rate updated from: 0.002110203495249152 to:  0.0023898925662310506\n",
      "\n",
      "Epoch 00045: LearningRateScheduler setting learning rate to 0.0023898925662310506.\n",
      "1061/1061 [==============================] - 422s 398ms/step - loss: 1.4187 - accuracy: 0.5762 - val_loss: 1.4656 - val_accuracy: 0.5719\n",
      "Epoch 46/100\n",
      "[INFO] : Learning rate updated from: 0.0023898924700915813 to:  0.0027066520700332417\n",
      "\n",
      "Epoch 00046: LearningRateScheduler setting learning rate to 0.0027066520700332417.\n",
      "1061/1061 [==============================] - 421s 397ms/step - loss: 1.4630 - accuracy: 0.5659 - val_loss: 1.5132 - val_accuracy: 0.5497\n",
      "Epoch 47/100\n",
      "[INFO] : Learning rate updated from: 0.0027066520415246487 to:  0.0030653952950565272\n",
      "\n",
      "Epoch 00047: LearningRateScheduler setting learning rate to 0.0030653952950565272.\n",
      "1061/1061 [==============================] - 420s 396ms/step - loss: 1.5123 - accuracy: 0.5560 - val_loss: 1.5106 - val_accuracy: 0.5535\n",
      "Epoch 48/100\n",
      "[INFO] : Learning rate updated from: 0.003065395401790738 to:  0.00347168681892656\n",
      "\n",
      "Epoch 00048: LearningRateScheduler setting learning rate to 0.00347168681892656.\n",
      "1061/1061 [==============================] - 421s 396ms/step - loss: 1.5737 - accuracy: 0.5399 - val_loss: 1.5471 - val_accuracy: 0.5452\n",
      "Epoch 49/100\n",
      "[INFO] : Learning rate updated from: 0.00347168673761189 to:  0.003931828755705771\n",
      "\n",
      "Epoch 00049: LearningRateScheduler setting learning rate to 0.003931828755705771.\n",
      "1061/1061 [==============================] - 420s 396ms/step - loss: 1.6168 - accuracy: 0.5310 - val_loss: 1.5251 - val_accuracy: 0.5495\n",
      "Epoch 50/100\n",
      "[INFO] : Learning rate updated from: 0.003931828774511814 to:  0.004452958509942656\n",
      "\n",
      "Epoch 00050: LearningRateScheduler setting learning rate to 0.004452958509942656.\n",
      "1061/1061 [==============================] - 420s 396ms/step - loss: 1.6428 - accuracy: 0.5252 - val_loss: 1.5899 - val_accuracy: 0.5450\n",
      "Epoch 51/100\n",
      "[INFO] : Learning rate updated from: 0.004452958703041077 to:  0.005043159487171359\n",
      "\n",
      "Epoch 00051: LearningRateScheduler setting learning rate to 0.005043159487171359.\n",
      "1061/1061 [==============================] - 419s 395ms/step - loss: 1.6908 - accuracy: 0.5141 - val_loss: 1.5500 - val_accuracy: 0.5513\n",
      "Epoch 52/100\n",
      "[INFO] : Learning rate updated from: 0.005043159704655409 to:  0.005711586478126429\n",
      "\n",
      "Epoch 00052: LearningRateScheduler setting learning rate to 0.005711586478126429.\n"
     ]
    },
    {
     "name": "stdout",
     "output_type": "stream",
     "text": [
      "1061/1061 [==============================] - 418s 394ms/step - loss: 1.7355 - accuracy: 0.5020 - val_loss: 1.5903 - val_accuracy: 0.5384\n",
      "Epoch 53/100\n",
      "[INFO] : Learning rate updated from: 0.005711586680263281 to:  0.0064686076615463285\n",
      "\n",
      "Epoch 00053: LearningRateScheduler setting learning rate to 0.0064686076615463285.\n",
      "1061/1061 [==============================] - 418s 393ms/step - loss: 1.7849 - accuracy: 0.4898 - val_loss: 1.6708 - val_accuracy: 0.5133\n",
      "Epoch 54/100\n",
      "[INFO] : Learning rate updated from: 0.0064686075784265995 to:  0.007325965428215231\n",
      "\n",
      "Epoch 00054: LearningRateScheduler setting learning rate to 0.007325965428215231.\n",
      "1061/1061 [==============================] - 416s 392ms/step - loss: 1.8415 - accuracy: 0.4740 - val_loss: 1.7011 - val_accuracy: 0.5110\n",
      "Epoch 55/100\n",
      "[INFO] : Learning rate updated from: 0.007325965445488691 to:  0.008296958520834907\n",
      "\n",
      "Epoch 00055: LearningRateScheduler setting learning rate to 0.008296958520834907.\n",
      "1061/1061 [==============================] - 410s 386ms/step - loss: 1.8977 - accuracy: 0.4598 - val_loss: 1.7567 - val_accuracy: 0.4870\n",
      "Epoch 56/100\n",
      "[INFO] : Learning rate updated from: 0.008296958170831203 to:  0.009396648314954691\n",
      "\n",
      "Epoch 00056: LearningRateScheduler setting learning rate to 0.009396648314954691.\n",
      "1061/1061 [==============================] - 408s 385ms/step - loss: 1.9333 - accuracy: 0.4492 - val_loss: 1.7119 - val_accuracy: 0.4988\n",
      "Epoch 57/100\n",
      "[INFO] : Learning rate updated from: 0.009396648034453392 to:  0.010642092440647247\n",
      "\n",
      "Epoch 00057: LearningRateScheduler setting learning rate to 0.010642092440647247.\n",
      "1061/1061 [==============================] - 408s 385ms/step - loss: 2.0118 - accuracy: 0.4269 - val_loss: 1.8672 - val_accuracy: 0.4754\n",
      "Epoch 58/100\n",
      "[INFO] : Learning rate updated from: 0.010642092674970627 to:  0.012052609368708427\n",
      "\n",
      "Epoch 00058: LearningRateScheduler setting learning rate to 0.012052609368708427.\n",
      "1061/1061 [==============================] - 407s 384ms/step - loss: 2.0791 - accuracy: 0.4074 - val_loss: 1.7797 - val_accuracy: 0.4843\n",
      "Epoch 59/100\n",
      "[INFO] : Learning rate updated from: 0.012052609585225582 to:  0.01365007806546014\n",
      "\n",
      "Epoch 00059: LearningRateScheduler setting learning rate to 0.01365007806546014.\n",
      "1061/1061 [==============================] - 407s 384ms/step - loss: 2.1082 - accuracy: 0.3999 - val_loss: 1.8628 - val_accuracy: 0.4712\n",
      "Epoch 60/100\n",
      "[INFO] : Learning rate updated from: 0.0136500783264637 to:  0.015459277364194772\n",
      "\n",
      "Epoch 00060: LearningRateScheduler setting learning rate to 0.015459277364194772.\n",
      "1061/1061 [==============================] - 408s 384ms/step - loss: 2.1476 - accuracy: 0.3811 - val_loss: 2.0475 - val_accuracy: 0.4256\n",
      "Epoch 61/100\n",
      "[INFO] : Learning rate updated from: 0.015459277667105198 to:  0.01750827031735725\n",
      "\n",
      "Epoch 00061: LearningRateScheduler setting learning rate to 0.01750827031735725.\n",
      "1061/1061 [==============================] - 407s 383ms/step - loss: 2.2465 - accuracy: 0.3539 - val_loss: 1.9857 - val_accuracy: 0.4183\n",
      "Epoch 62/100\n",
      "[INFO] : Learning rate updated from: 0.01750827021896839 to:  0.019828839491270716\n",
      "\n",
      "Epoch 00062: LearningRateScheduler setting learning rate to 0.019828839491270716.\n",
      "1061/1061 [==============================] - 407s 383ms/step - loss: 2.3062 - accuracy: 0.3294 - val_loss: 2.0322 - val_accuracy: 0.4041\n",
      "Epoch 63/100\n",
      "[INFO] : Learning rate updated from: 0.019828839227557182 to:  0.022456979955397742\n",
      "\n",
      "Epoch 00063: LearningRateScheduler setting learning rate to 0.022456979955397742.\n",
      "1061/1061 [==============================] - 407s 383ms/step - loss: 2.3781 - accuracy: 0.3071 - val_loss: 2.1524 - val_accuracy: 0.3863\n",
      "Epoch 64/100\n",
      "[INFO] : Learning rate updated from: 0.022456979379057884 to:  0.02543345761304648\n",
      "\n",
      "Epoch 00064: LearningRateScheduler setting learning rate to 0.02543345761304648.\n",
      "1061/1061 [==============================] - 407s 384ms/step - loss: 2.5341 - accuracy: 0.2516 - val_loss: 2.4151 - val_accuracy: 0.2899\n",
      "Epoch 65/100\n",
      "[INFO] : Learning rate updated from: 0.025433458387851715 to:  0.028804441533962978\n",
      "\n",
      "Epoch 00065: LearningRateScheduler setting learning rate to 0.028804441533962978.\n",
      "1061/1061 [==============================] - 407s 383ms/step - loss: 2.6385 - accuracy: 0.2273 - val_loss: 2.5043 - val_accuracy: 0.2386\n",
      "Epoch 66/100\n",
      "[INFO] : Learning rate updated from: 0.028804441913962364 to:  0.0326222200971167\n",
      "\n",
      "Epoch 00066: LearningRateScheduler setting learning rate to 0.0326222200971167.\n",
      "1061/1061 [==============================] - 408s 384ms/step - loss: 2.6713 - accuracy: 0.2077 - val_loss: 2.5144 - val_accuracy: 0.2421\n",
      "Epoch 67/100\n",
      "[INFO] : Learning rate updated from: 0.03262222185730934 to:  0.03694601205199303\n",
      "\n",
      "Epoch 00067: LearningRateScheduler setting learning rate to 0.03694601205199303.\n",
      "1061/1061 [==============================] - 408s 384ms/step - loss: 2.7219 - accuracy: 0.1894 - val_loss: 2.6082 - val_accuracy: 0.1936\n",
      "Epoch 68/100\n",
      "[INFO] : Learning rate updated from: 0.03694601356983185 to:  0.04184288507901581\n",
      "\n",
      "Epoch 00068: LearningRateScheduler setting learning rate to 0.04184288507901581.\n",
      "1061/1061 [==============================] - 408s 384ms/step - loss: 2.7991 - accuracy: 0.1600 - val_loss: 2.6823 - val_accuracy: 0.1734\n",
      "Epoch 69/100\n",
      "[INFO] : Learning rate updated from: 0.04184288531541824 to:  0.04738879609717656\n",
      "\n",
      "Epoch 00069: LearningRateScheduler setting learning rate to 0.04738879609717656.\n",
      "1061/1061 [==============================] - 409s 385ms/step - loss: 2.9005 - accuracy: 0.1476 - val_loss: 2.8050 - val_accuracy: 0.1698\n",
      "Epoch 70/100\n",
      "[INFO] : Learning rate updated from: 0.047388795763254166 to:  0.05366976945540476\n",
      "\n",
      "Epoch 00070: LearningRateScheduler setting learning rate to 0.05366976945540476.\n",
      "1061/1061 [==============================] - 408s 384ms/step - loss: 2.8991 - accuracy: 0.1557 - val_loss: 2.7632 - val_accuracy: 0.1637\n",
      "Epoch 71/100\n",
      "[INFO] : Learning rate updated from: 0.0536697693169117 to:  0.060783231282972305\n",
      "\n",
      "Epoch 00071: LearningRateScheduler setting learning rate to 0.060783231282972305.\n",
      "1061/1061 [==============================] - 407s 384ms/step - loss: 3.0776 - accuracy: 0.1224 - val_loss: 3.1112 - val_accuracy: 0.1214\n",
      "Epoch 72/100\n",
      "[INFO] : Learning rate updated from: 0.060783229768276215 to:  0.06883952069645496\n",
      "\n",
      "Epoch 00072: LearningRateScheduler setting learning rate to 0.06883952069645496.\n",
      "1061/1061 [==============================] - 408s 385ms/step - loss: 3.0805 - accuracy: 0.1200 - val_loss: 2.8209 - val_accuracy: 0.1733\n",
      "Epoch 73/100\n",
      "[INFO] : Learning rate updated from: 0.06883952021598816 to:  0.07796360130405237\n",
      "\n",
      "Epoch 00073: LearningRateScheduler setting learning rate to 0.07796360130405237.\n",
      "1061/1061 [==============================] - 408s 384ms/step - loss: 3.0914 - accuracy: 0.1218 - val_loss: 3.1017 - val_accuracy: 0.1214\n",
      "Epoch 74/100\n",
      "[INFO] : Learning rate updated from: 0.07796359807252884 to:  0.08829699955494093\n",
      "\n",
      "Epoch 00074: LearningRateScheduler setting learning rate to 0.08829699955494093.\n",
      "1061/1061 [==============================] - 407s 383ms/step - loss: 3.1068 - accuracy: 0.1200 - val_loss: 3.1063 - val_accuracy: 0.1214\n",
      "Epoch 75/100\n",
      "[INFO] : Learning rate updated from: 0.08829700201749802 to:  0.1\n",
      "\n",
      "Epoch 00075: LearningRateScheduler setting learning rate to 0.1.\n",
      "1061/1061 [==============================] - 407s 384ms/step - loss: 3.1095 - accuracy: 0.1198 - val_loss: 3.1029 - val_accuracy: 0.1214\n",
      "Epoch 76/100\n",
      "[INFO] : Learning rate updated from: 0.10000000149011612 to:  0.11325413151528127\n",
      "\n",
      "Epoch 00076: LearningRateScheduler setting learning rate to 0.11325413151528127.\n",
      "1061/1061 [==============================] - 408s 384ms/step - loss: 3.1097 - accuracy: 0.1200 - val_loss: 3.1096 - val_accuracy: 0.1214\n",
      "Epoch 77/100\n",
      "[INFO] : Learning rate updated from: 0.1132541298866272 to:  0.12826498305280598\n",
      "\n",
      "Epoch 00077: LearningRateScheduler setting learning rate to 0.12826498305280598.\n",
      "1061/1061 [==============================] - 407s 384ms/step - loss: 3.1129 - accuracy: 0.1190 - val_loss: 3.1123 - val_accuracy: 0.1214\n",
      "Epoch 78/100\n",
      "[INFO] : Learning rate updated from: 0.12826497852802277 to:  0.14526539259467813\n",
      "\n",
      "Epoch 00078: LearningRateScheduler setting learning rate to 0.14526539259467813.\n",
      "1061/1061 [==============================] - 408s 384ms/step - loss: 3.1154 - accuracy: 0.1192 - val_loss: 3.1060 - val_accuracy: 0.1214\n",
      "Epoch 79/100\n",
      "[INFO] : Learning rate updated from: 0.1452653855085373 to:  0.16451905877536607\n",
      "\n",
      "Epoch 00079: LearningRateScheduler setting learning rate to 0.16451905877536607.\n",
      "1061/1061 [==============================] - 407s 384ms/step - loss: 3.1179 - accuracy: 0.1187 - val_loss: 3.1177 - val_accuracy: 0.1214\n",
      "Epoch 80/100\n",
      "[INFO] : Learning rate updated from: 0.1645190566778183 to:  0.186324631193156\n",
      "\n",
      "Epoch 00080: LearningRateScheduler setting learning rate to 0.186324631193156.\n",
      "1061/1061 [==============================] - 408s 384ms/step - loss: 3.1208 - accuracy: 0.1176 - val_loss: 3.1102 - val_accuracy: 0.1214\n",
      "Epoch 81/100\n",
      "[INFO] : Learning rate updated from: 0.18632462620735168 to:  0.21102034285685967\n",
      "\n",
      "Epoch 00081: LearningRateScheduler setting learning rate to 0.21102034285685967.\n",
      "1061/1061 [==============================] - 408s 384ms/step - loss: 3.1236 - accuracy: 0.1163 - val_loss: 3.1192 - val_accuracy: 0.1214\n",
      "Epoch 82/100\n",
      "[INFO] : Learning rate updated from: 0.2110203355550766 to:  0.2389892566231048\n",
      "\n",
      "Epoch 00082: LearningRateScheduler setting learning rate to 0.2389892566231048.\n",
      "1061/1061 [==============================] - 415s 391ms/step - loss: 3.1286 - accuracy: 0.1174 - val_loss: 3.1187 - val_accuracy: 0.1214\n",
      "Epoch 83/100\n",
      "[INFO] : Learning rate updated from: 0.23898926377296448 to:  0.27066520700332414\n",
      "\n",
      "Epoch 00083: LearningRateScheduler setting learning rate to 0.27066520700332414.\n",
      "1061/1061 [==============================] - 419s 395ms/step - loss: 3.1338 - accuracy: 0.1134 - val_loss: 3.1161 - val_accuracy: 0.1214\n",
      "Epoch 84/100\n",
      "[INFO] : Learning rate updated from: 0.2706651985645294 to:  0.306539529505653\n",
      "\n",
      "Epoch 00084: LearningRateScheduler setting learning rate to 0.306539529505653.\n",
      "1061/1061 [==============================] - 422s 397ms/step - loss: 3.1370 - accuracy: 0.1141 - val_loss: 3.1456 - val_accuracy: 0.1214\n",
      "Epoch 85/100\n",
      "[INFO] : Learning rate updated from: 0.30653953552246094 to:  0.347168681892656\n",
      "\n",
      "Epoch 00085: LearningRateScheduler setting learning rate to 0.347168681892656.\n",
      "1061/1061 [==============================] - 411s 388ms/step - loss: 3.1398 - accuracy: 0.1130 - val_loss: 3.1205 - val_accuracy: 0.1214\n",
      "Epoch 86/100\n",
      "[INFO] : Learning rate updated from: 0.3471686840057373 to:  0.3931828755705771\n",
      "\n",
      "Epoch 00086: LearningRateScheduler setting learning rate to 0.3931828755705771.\n",
      "1061/1061 [==============================] - 414s 390ms/step - loss: 3.1473 - accuracy: 0.1093 - val_loss: 3.1477 - val_accuracy: 0.1214\n",
      "Epoch 87/100\n",
      "[INFO] : Learning rate updated from: 0.3931828737258911 to:  0.4452958509942651\n",
      "\n",
      "Epoch 00087: LearningRateScheduler setting learning rate to 0.4452958509942651.\n",
      "1061/1061 [==============================] - 421s 396ms/step - loss: 3.1538 - accuracy: 0.1092 - val_loss: 3.1416 - val_accuracy: 0.1214\n",
      "Epoch 88/100\n",
      "[INFO] : Learning rate updated from: 0.4452958405017853 to:  0.5043159487171359\n",
      "\n",
      "Epoch 00088: LearningRateScheduler setting learning rate to 0.5043159487171359.\n",
      "1061/1061 [==============================] - 422s 398ms/step - loss: 3.1629 - accuracy: 0.1055 - val_loss: 3.1683 - val_accuracy: 0.0602\n",
      "Epoch 89/100\n",
      "[INFO] : Learning rate updated from: 0.504315972328186 to:  0.5711586478126435\n",
      "\n",
      "Epoch 00089: LearningRateScheduler setting learning rate to 0.5711586478126435.\n",
      "1061/1061 [==============================] - 423s 398ms/step - loss: 3.1708 - accuracy: 0.1047 - val_loss: 3.1778 - val_accuracy: 0.1214\n",
      "Epoch 90/100\n",
      "[INFO] : Learning rate updated from: 0.5711586475372314 to:  0.6468607661546322\n",
      "\n",
      "Epoch 00090: LearningRateScheduler setting learning rate to 0.6468607661546322.\n",
      "1061/1061 [==============================] - 427s 402ms/step - loss: 3.1773 - accuracy: 0.1033 - val_loss: 3.1313 - val_accuracy: 0.1214\n",
      "Epoch 91/100\n",
      "[INFO] : Learning rate updated from: 0.6468607783317566 to:  0.7325965428215231\n",
      "\n",
      "Epoch 00091: LearningRateScheduler setting learning rate to 0.7325965428215231.\n",
      "1061/1061 [==============================] - 470s 443ms/step - loss: 3.1919 - accuracy: 0.0999 - val_loss: 3.2154 - val_accuracy: 0.1214\n",
      "Epoch 92/100\n",
      "[INFO] : Learning rate updated from: 0.7325965166091919 to:  0.8296958520834915\n",
      "\n",
      "Epoch 00092: LearningRateScheduler setting learning rate to 0.8296958520834915.\n",
      "1061/1061 [==============================] - 422s 397ms/step - loss: 3.2002 - accuracy: 0.1002 - val_loss: 3.2075 - val_accuracy: 0.1214\n",
      "Epoch 93/100\n",
      "[INFO] : Learning rate updated from: 0.8296958804130554 to:  0.9396648314954692\n",
      "\n",
      "Epoch 00093: LearningRateScheduler setting learning rate to 0.9396648314954692.\n",
      "1061/1061 [==============================] - 422s 398ms/step - loss: 3.2204 - accuracy: 0.0938 - val_loss: 3.2438 - val_accuracy: 0.0602\n",
      "Epoch 94/100\n",
      "[INFO] : Learning rate updated from: 0.9396648406982422 to:  1.0642092440647246\n",
      "\n",
      "Epoch 00094: LearningRateScheduler setting learning rate to 1.0642092440647246.\n",
      "1061/1061 [==============================] - 422s 397ms/step - loss: 3.2260 - accuracy: 0.0937 - val_loss: 3.1842 - val_accuracy: 0.1214\n",
      "Epoch 95/100\n",
      "[INFO] : Learning rate updated from: 1.064209222793579 to:  1.2052609368708416\n",
      "\n",
      "Epoch 00095: LearningRateScheduler setting learning rate to 1.2052609368708416.\n",
      "1061/1061 [==============================] - 422s 397ms/step - loss: 3.2502 - accuracy: 0.0889 - val_loss: 3.2226 - val_accuracy: 0.0602\n",
      "Epoch 96/100\n",
      "[INFO] : Learning rate updated from: 1.205260992050171 to:  1.3650078065460138\n",
      "\n",
      "Epoch 00096: LearningRateScheduler setting learning rate to 1.3650078065460138.\n",
      "1061/1061 [==============================] - 428s 404ms/step - loss: 3.2607 - accuracy: 0.0884 - val_loss: 3.2282 - val_accuracy: 0.1214\n",
      "Epoch 97/100\n",
      "[INFO] : Learning rate updated from: 1.365007758140564 to:  1.5459277364194788\n",
      "\n",
      "Epoch 00097: LearningRateScheduler setting learning rate to 1.5459277364194788.\n",
      "1061/1061 [==============================] - 421s 397ms/step - loss: 3.2782 - accuracy: 0.0881 - val_loss: 3.3411 - val_accuracy: 0.0499\n",
      "Epoch 98/100\n",
      "[INFO] : Learning rate updated from: 1.5459277629852295 to:  1.7508270317357235\n",
      "\n",
      "Epoch 00098: LearningRateScheduler setting learning rate to 1.7508270317357235.\n",
      "1061/1061 [==============================] - 421s 397ms/step - loss: 3.3178 - accuracy: 0.0841 - val_loss: 3.3022 - val_accuracy: 0.1214\n",
      "Epoch 99/100\n",
      "[INFO] : Learning rate updated from: 1.7508270740509033 to:  1.9828839491270713\n",
      "\n",
      "Epoch 00099: LearningRateScheduler setting learning rate to 1.9828839491270713.\n",
      "1061/1061 [==============================] - 420s 396ms/step - loss: 3.3177 - accuracy: 0.0843 - val_loss: 3.2814 - val_accuracy: 0.1214\n",
      "Epoch 100/100\n",
      "[INFO] : Learning rate updated from: 1.9828839302062988 to:  2.2456979955397762\n",
      "\n",
      "Epoch 00100: LearningRateScheduler setting learning rate to 2.2456979955397762.\n",
      "1061/1061 [==============================] - 477s 449ms/step - loss: 3.3544 - accuracy: 0.0838 - val_loss: 3.2994 - val_accuracy: 0.1214\n",
      "Wall time: 12h 13min 45s\n"
     ]
    }
   ],
   "source": [
    "%%time\n",
    "# Fit Train generator\n",
    "history = model.fit(train_generator,                    \n",
    "                    epochs = epochs,                   \n",
    "                    steps_per_epoch = step_size_Train,\n",
    "                    validation_data = valid_generator,\n",
    "                    validation_steps = step_size_Valid,\n",
    "                    #callbacks=[checkpoint, early, lr_plateau]\n",
    "                    callbacks=[lrScheduler]                    \n",
    "                    )"
   ]
  },
  {
   "cell_type": "markdown",
   "id": "479d4c18",
   "metadata": {},
   "source": [
    "***Save History results***"
   ]
  },
  {
   "cell_type": "code",
   "execution_count": 28,
   "id": "aa9d47d5",
   "metadata": {},
   "outputs": [],
   "source": [
    "# Save History results\n",
    "path = './saves/InceptionResNetV2/Iteration_5_1/'\n",
    "filename = 'history_InceptionResNetV2_all_train_10012022_Shape_299x299_100Epochs'"
   ]
  },
  {
   "cell_type": "code",
   "execution_count": 29,
   "id": "8944dcc5",
   "metadata": {},
   "outputs": [],
   "source": [
    "#convert the history.history dict to a pandas DataFrame:     \n",
    "hist_df = pd.DataFrame(history.history) \n",
    "\n",
    "# history to json:  \n",
    "hist_json_file = path + filename + '.json'\n",
    "with open(hist_json_file, mode='w') as f:\n",
    "    hist_df.to_json(f)\n",
    "\n",
    "# history to csv: \n",
    "hist_csv_file = path + filename +'.csv'\n",
    "with open(hist_csv_file, mode='w') as f:\n",
    "    hist_df.to_csv(f)\n",
    "\n",
    "# history to pickle file\n",
    "hist_df.to_pickle(path + filename +'.pkl')"
   ]
  },
  {
   "cell_type": "markdown",
   "id": "437e2b15",
   "metadata": {},
   "source": [
    "***Display Model loss , accuracy per epoch***"
   ]
  },
  {
   "cell_type": "code",
   "execution_count": 30,
   "id": "7e148e9a",
   "metadata": {},
   "outputs": [
    {
     "data": {
      "image/png": "[encoded data removed]",
      "text/plain": [
       "<Figure size 864x288 with 2 Axes>"
      ]
     },
     "metadata": {
      "needs_background": "light"
     },
     "output_type": "display_data"
    }
   ],
   "source": [
    "plt.figure(figsize=(12,4))\n",
    "plt.subplot(121)\n",
    "plt.plot(history.history['loss'])\n",
    "plt.plot(history.history['val_loss'])\n",
    "plt.title('Model loss by epoch')\n",
    "plt.ylabel('loss')\n",
    "plt.xlabel('epoch')\n",
    "plt.legend(['train', 'valid'], loc='right')\n",
    "\n",
    "plt.subplot(122)\n",
    "plt.plot(history.history['accuracy'])\n",
    "plt.plot(history.history['val_accuracy'])\n",
    "plt.title('Model acc by epoch')\n",
    "plt.ylabel('acc')\n",
    "plt.xlabel('epoch')\n",
    "plt.legend(['train', 'valid'], loc='right')\n",
    "plt.show()"
   ]
  },
  {
   "cell_type": "code",
   "execution_count": 31,
   "id": "debb5d71",
   "metadata": {},
   "outputs": [
    {
     "data": {
      "text/plain": [
       "[<matplotlib.lines.Line2D at 0x171c8489370>]"
      ]
     },
     "execution_count": 31,
     "metadata": {},
     "output_type": "execute_result"
    },
    {
     "data": {
      "image/png": "[encoded data removed]",
      "text/plain": [
       "<Figure size 432x288 with 1 Axes>"
      ]
     },
     "metadata": {
      "needs_background": "light"
     },
     "output_type": "display_data"
    }
   ],
   "source": [
    "plt.plot(\n",
    "    np.arange(1, 101), \n",
    "    history.history['lr'], \n",
    "    label='Learning rate', color='#000', lw=3, linestyle='--')\n",
    "\n",
    "plt.plot(\n",
    "    np.arange(1, 101), \n",
    "    history.history['loss'], \n",
    "    label='Loss', lw=3\n",
    ")"
   ]
  },
  {
   "cell_type": "code",
   "execution_count": 32,
   "id": "1d2784b0",
   "metadata": {},
   "outputs": [
    {
     "data": {
      "image/png": "[encoded data removed]",
      "text/plain": [
       "<Figure size 1296x576 with 1 Axes>"
      ]
     },
     "metadata": {
      "needs_background": "light"
     },
     "output_type": "display_data"
    }
   ],
   "source": [
    "from matplotlib import rcParams\n",
    "rcParams['figure.figsize'] = (18, 8)\n",
    "rcParams['axes.spines.top'] = False\n",
    "rcParams['axes.spines.right'] = False \n",
    "\n",
    "plt.plot(\n",
    "    np.arange(1, 101), \n",
    "    history.history['loss'], \n",
    "    label='Loss', lw=3\n",
    ")\n",
    "plt.plot(\n",
    "    np.arange(1, 101), \n",
    "    history.history['accuracy'], \n",
    "    label='Accuracy', lw=3\n",
    ")\n",
    "plt.plot(\n",
    "    np.arange(1, 101), \n",
    "    history.history['lr'], \n",
    "    label='Learning rate', color='#000', lw=3, linestyle='--'\n",
    ")\n",
    "plt.title('Evaluation metrics', size=20)\n",
    "plt.xlabel('Epoch', size=14)\n",
    "plt.legend();"
   ]
  },
  {
   "cell_type": "code",
   "execution_count": null,
   "id": "b608fd64",
   "metadata": {},
   "outputs": [],
   "source": [
    "\"\"\"\n",
    "L'accuracy augmente lègèrement jusqu'à l'Epoch 40 \n",
    "avant de commencer à baisser jusqu'à l'Epoch 63 \n",
    "fluctue légèrement entre l'Epoch 64 et 67\n",
    "Ensuite s'est pratiquement aplatie juqu'à la fin de training \n",
    "\n",
    "\n",
    "L'exact opposé est arrivé à la Loss jusqu'à l'Epoch 79 ( Ce qui est logique)\n",
    "ensuite fluctue significativicement à partir de l'Epoch 80 jusqu'à la fin de training\n",
    "\n",
    "\"\"\""
   ]
  },
  {
   "cell_type": "code",
   "execution_count": 33,
   "id": "e6f4b2ca",
   "metadata": {},
   "outputs": [
    {
     "data": {
      "image/png": "[encoded data removed]",
      "text/plain": [
       "<Figure size 1296x576 with 1 Axes>"
      ]
     },
     "metadata": {
      "needs_background": "light"
     },
     "output_type": "display_data"
    }
   ],
   "source": [
    "#1e-5 * 10 ** (epoch / 37)\n",
    "learning_rates = 1e-5 * (10 ** (np.arange(100) / 37))\n",
    "plt.semilogx(\n",
    "    learning_rates, \n",
    "    history.history['loss'], \n",
    "    lw=3, color='#000'\n",
    ")\n",
    "plt.title('Learning rate vs. loss', size=20)\n",
    "plt.xlabel('Learning rate', size=14)\n",
    "plt.ylabel('Loss', size=14);"
   ]
  },
  {
   "cell_type": "code",
   "execution_count": 34,
   "id": "2dc6973b",
   "metadata": {},
   "outputs": [
    {
     "data": {
      "text/plain": [
       "<matplotlib.legend.Legend at 0x171d2a62fa0>"
      ]
     },
     "execution_count": 34,
     "metadata": {},
     "output_type": "execute_result"
    },
    {
     "data": {
      "image/png": "[encoded data removed]",
      "text/plain": [
       "<Figure size 1296x576 with 1 Axes>"
      ]
     },
     "metadata": {
      "needs_background": "light"
     },
     "output_type": "display_data"
    }
   ],
   "source": [
    "plt.plot(\n",
    "    np.arange(1, 101), \n",
    "    history.history['loss'], \n",
    "    label='Loss', lw=3\n",
    ")\n",
    "plt.plot(\n",
    "    np.arange(1, 101), \n",
    "    history.history['accuracy'], \n",
    "    label='Accuracy', lw=3\n",
    ")\n",
    "plt.title('Accuracy vs. Loss per epoch', size=20)\n",
    "plt.xlabel('Epoch', size=14)\n",
    "plt.legend()"
   ]
  },
  {
   "cell_type": "markdown",
   "id": "7e64f5a7",
   "metadata": {
    "id": "7e64f5a7"
   },
   "source": [
    " ***Prediction - test_generator***"
   ]
  },
  {
   "cell_type": "code",
   "execution_count": 35,
   "id": "13bf0290",
   "metadata": {
    "id": "13bf0290"
   },
   "outputs": [
    {
     "name": "stdout",
     "output_type": "stream",
     "text": [
      "Wall time: 5min 29s\n"
     ]
    }
   ],
   "source": [
    "%%time\n",
    "#Prediction - Valid set\n",
    "y_pred_proba = model.predict(valid_generator)\n",
    "\n",
    "# l'argmax pour obtenir les classes prédites\n",
    "y_pred_class = np.argmax(y_pred_proba,axis = 1).astype(int)\n",
    "\n",
    "# To get classes from test generator\n",
    "y_true = valid_generator.classes"
   ]
  },
  {
   "cell_type": "markdown",
   "id": "e199b13a",
   "metadata": {
    "id": "e199b13a"
   },
   "source": [
    " ***Evaluation - test_generator***"
   ]
  },
  {
   "cell_type": "code",
   "execution_count": null,
   "id": "a149ee6a",
   "metadata": {
    "id": "a149ee6a"
   },
   "outputs": [
    {
     "name": "stdout",
     "output_type": "stream",
     "text": [
      " 43/266 [===>..........................] - ETA: 9:06 - loss: 3.3072 - accuracy: 0.1090"
     ]
    }
   ],
   "source": [
    "%%time\n",
    "#Get the accuracy score\n",
    "valid_score = model.evaluate(valid_generator)\n",
    "print(\"[INFO] Model metrics names:\", model.metrics_names)\n",
    "print(\"[INFO] Accuracy: {:.2f}%\".format(valid_score[1] * 100)) \n",
    "print(\"[INFO] Loss: \",valid_score[0])"
   ]
  },
  {
   "cell_type": "code",
   "execution_count": 1,
   "id": "a67c8f8e",
   "metadata": {},
   "outputs": [
    {
     "ename": "NameError",
     "evalue": "name 'f1_score' is not defined",
     "output_type": "error",
     "traceback": [
      "\u001b[1;31m---------------------------------------------------------------------------\u001b[0m",
      "\u001b[1;31mNameError\u001b[0m                                 Traceback (most recent call last)",
      "\u001b[1;32m~\\AppData\\Local\\Temp/ipykernel_1136/3721437162.py\u001b[0m in \u001b[0;36m<module>\u001b[1;34m\u001b[0m\n\u001b[1;32m----> 1\u001b[1;33m \u001b[0mf1_macro\u001b[0m \u001b[1;33m=\u001b[0m \u001b[0mf1_score\u001b[0m\u001b[1;33m(\u001b[0m\u001b[0my_true\u001b[0m\u001b[1;33m,\u001b[0m \u001b[0my_pred_class\u001b[0m\u001b[1;33m,\u001b[0m \u001b[0maverage\u001b[0m\u001b[1;33m=\u001b[0m\u001b[1;34m'macro'\u001b[0m\u001b[1;33m)\u001b[0m\u001b[1;33m\u001b[0m\u001b[1;33m\u001b[0m\u001b[0m\n\u001b[0m\u001b[0;32m      2\u001b[0m \u001b[0mprint\u001b[0m\u001b[1;33m(\u001b[0m\u001b[1;34m\"[INFO] f1 score macro average: \"\u001b[0m\u001b[1;33m,\u001b[0m\u001b[0mf1_macro\u001b[0m\u001b[1;33m)\u001b[0m\u001b[1;33m\u001b[0m\u001b[1;33m\u001b[0m\u001b[0m\n\u001b[0;32m      3\u001b[0m \u001b[1;33m\u001b[0m\u001b[0m\n\u001b[0;32m      4\u001b[0m \u001b[0mf1_micro\u001b[0m \u001b[1;33m=\u001b[0m \u001b[0mf1_score\u001b[0m\u001b[1;33m(\u001b[0m\u001b[0my_true\u001b[0m\u001b[1;33m,\u001b[0m \u001b[0my_pred_class\u001b[0m\u001b[1;33m,\u001b[0m \u001b[0maverage\u001b[0m\u001b[1;33m=\u001b[0m\u001b[1;34m'micro'\u001b[0m\u001b[1;33m)\u001b[0m\u001b[1;33m\u001b[0m\u001b[1;33m\u001b[0m\u001b[0m\n\u001b[0;32m      5\u001b[0m \u001b[0mprint\u001b[0m\u001b[1;33m(\u001b[0m\u001b[1;34m\"[INFO] f1 score micro average: \"\u001b[0m\u001b[1;33m,\u001b[0m\u001b[0mf1_micro\u001b[0m\u001b[1;33m)\u001b[0m\u001b[1;33m\u001b[0m\u001b[1;33m\u001b[0m\u001b[0m\n",
      "\u001b[1;31mNameError\u001b[0m: name 'f1_score' is not defined"
     ]
    }
   ],
   "source": [
    "f1_macro = f1_score(y_true, y_pred_class, average='macro')\n",
    "print(\"[INFO] f1 score macro average: \",f1_macro)\n",
    "\n",
    "f1_micro = f1_score(y_true, y_pred_class, average='micro')\n",
    "print(\"[INFO] f1 score micro average: \",f1_micro)\n",
    "\n",
    "f1_weighted = f1_score(y_true, y_pred_class, average='weighted')\n",
    "print(\"[INFO] f1 score weighted average: \",f1_weighted)"
   ]
  },
  {
   "cell_type": "code",
   "execution_count": null,
   "id": "e956f70d",
   "metadata": {},
   "outputs": [],
   "source": [
    "#Confusion matrix\n",
    "matrix = confusion_matrix(y_true, y_pred_class)\n",
    "fig , ax = plt.subplots(figsize = (24,20))\n",
    "ax.matshow(matrix, cmap = plt.cm.Oranges , alpha = 0.3)\n",
    "for i in range(matrix.shape[0]):\n",
    "    for j in range (matrix.shape[1]):\n",
    "        ax.text (x = j , y= i, s= matrix[i,j], va = 'center', ha = 'center', size = 'xx-large')\n",
    "        \n",
    "plt.xlabel('predicted', fontsize = 18)\n",
    "plt.ylabel('Acutals', fontsize = 18)\n",
    "plt.title('Confusion Matrix', fontsize = 18)\n",
    "plt.show()\n",
    "#print(matrix)"
   ]
  },
  {
   "cell_type": "code",
   "execution_count": null,
   "id": "f9af2dc6",
   "metadata": {
    "id": "f9af2dc6"
   },
   "outputs": [],
   "source": [
    "print(metrics.classification_report(y_true, y_pred_class))"
   ]
  },
  {
   "cell_type": "markdown",
   "id": "9af02844",
   "metadata": {},
   "source": [
    " ***Predict input image using trained model***"
   ]
  },
  {
   "cell_type": "code",
   "execution_count": null,
   "id": "f7fbf10a",
   "metadata": {},
   "outputs": [],
   "source": [
    "# Predict With Pre Trained\n",
    "\n",
    "# Load an image\n",
    "im_id = 253\n",
    "#img_path ='./data/images/all/image_train_resized/'+ df_train_im['imagePath'][im_id]\n",
    "img_path ='./data/images/all/image_train/'+ df_train_im['imagePath'][im_id]\n",
    "\n",
    "img = image.load_img(img_path,target_size=(224, 224))\n",
    "plt.figure(figsize=(6,4))\n",
    "plt.imshow(img)\n",
    "plt.title(\"class: \" + str(df_train_im['prdtypecode'][im_id]))\n",
    "plt.xticks([])\n",
    "plt.yticks([])\n",
    "#plt.axis('off')\n",
    "plt.show();"
   ]
  },
  {
   "cell_type": "code",
   "execution_count": null,
   "id": "d6021667",
   "metadata": {},
   "outputs": [],
   "source": [
    "im = cv2.resize(cv2.imread(img_path), (299, 299))\n",
    "im = np.expand_dims(im, axis=0)"
   ]
  },
  {
   "cell_type": "code",
   "execution_count": null,
   "id": "2ed5439b",
   "metadata": {},
   "outputs": [],
   "source": [
    "out = model.predict(im)\n",
    "print(\"------------------Predicted Class and Label ------------------------------\")\n",
    "print(\"target class(used by model) :\", np.argmax(out))\n",
    "print(\"\\n\"  ,df_class[df_class['target_prdtypecode'] == np.argmax(out)][['prdtypecode', 'Label']].to_string(index=False)) \n",
    "\n",
    "prd_code = df_train_im['prdtypecode'][im_id]\n",
    "\n",
    "print(\"\\n\\n------------------Real Class and Label ------------------------------\")\n",
    "print(\"target class(used by model): \" ,  df_class[df_class['target_prdtypecode'] == int(prd_code)]['target_prdtypecode'].to_string(index=False))\n",
    "print(\"\\n\"  ,df_class[df_class['target_prdtypecode'] == int(prd_code)][['prdtypecode', 'Label']].to_string(index=False)) \n"
   ]
  },
  {
   "cell_type": "markdown",
   "id": "ba25e415",
   "metadata": {
    "id": "ba25e415"
   },
   "source": [
    " ***Save InceptionResNetV2 Model***"
   ]
  },
  {
   "cell_type": "code",
   "execution_count": null,
   "id": "2756f2e9",
   "metadata": {
    "id": "2756f2e9"
   },
   "outputs": [],
   "source": [
    "#Enregistrement du modèle\n",
    "model.save(\"./saves/InceptionResNetV2/Iteration_5_1/Model_InceptionResNetV2_All_train_data_10012022_Shape_299x299_100Epochs.hdf5\")\n",
    "#The SavedModel and HDF5 file contains:\n",
    "#the model's configuration (topology)\n",
    "#the model's weights\n",
    "#the model's optimizer's state (if any)"
   ]
  },
  {
   "cell_type": "markdown",
   "id": "636fb9cf",
   "metadata": {
    "id": "636fb9cf"
   },
   "source": [
    " ***Load InceptionResNetV2 Model***"
   ]
  },
  {
   "cell_type": "code",
   "execution_count": null,
   "id": "9ee47aed",
   "metadata": {
    "id": "9ee47aed"
   },
   "outputs": [],
   "source": [
    "#Rechargement du modèle :\n",
    "model = load_model(\"./saves/InceptionResNetV2/Iteration_5_1/Model_InceptionResNetV2_All_train_data_10012022_Shape_299x299_100Epochs.hdf\"5)"
   ]
  },
  {
   "cell_type": "code",
   "execution_count": 2,
   "id": "4cc9c8dd",
   "metadata": {},
   "outputs": [],
   "source": [
    "dirc_hist = 'D:/DataScienTest_WorkSpace/Iterations_and_Github_Saves/Iteration_#5_1/Images_&_Iteration_#5_1_InceptionResNetV2_All_Train_data_299x299_10012022_100Epochs_Accuracy_xx.xx%_LR_Optimization/'"
   ]
  },
  {
   "cell_type": "code",
   "execution_count": 3,
   "id": "8e6f58ac",
   "metadata": {},
   "outputs": [],
   "source": [
    "#Load df of images already resized on 256 x 256 \n",
    "#df_train_im = pd.read_pickle(\"./saves/df_save/df_train_combined_19102021.pkl\")\n",
    "\n",
    "#Load df of images with org size 500 x 500\n",
    "df_hist = pd.read_pickle(dirc_hist + \"history_InceptionResNetV2_all_train_10012022_Shape_299x299_100Epochs.pkl\")"
   ]
  },
  {
   "cell_type": "code",
   "execution_count": 4,
   "id": "94351ca1",
   "metadata": {},
   "outputs": [
    {
     "data": {
      "text/html": [
       "<div>\n",
       "<style scoped>\n",
       "    .dataframe tbody tr th:only-of-type {\n",
       "        vertical-align: middle;\n",
       "    }\n",
       "\n",
       "    .dataframe tbody tr th {\n",
       "        vertical-align: top;\n",
       "    }\n",
       "\n",
       "    .dataframe thead th {\n",
       "        text-align: right;\n",
       "    }\n",
       "</style>\n",
       "<table border=\"1\" class=\"dataframe\">\n",
       "  <thead>\n",
       "    <tr style=\"text-align: right;\">\n",
       "      <th></th>\n",
       "      <th>loss</th>\n",
       "      <th>accuracy</th>\n",
       "      <th>val_loss</th>\n",
       "      <th>val_accuracy</th>\n",
       "      <th>lr</th>\n",
       "    </tr>\n",
       "  </thead>\n",
       "  <tbody>\n",
       "    <tr>\n",
       "      <th>0</th>\n",
       "      <td>2.466172</td>\n",
       "      <td>0.325318</td>\n",
       "      <td>1.948636</td>\n",
       "      <td>0.449882</td>\n",
       "      <td>0.000010</td>\n",
       "    </tr>\n",
       "    <tr>\n",
       "      <th>1</th>\n",
       "      <td>1.913353</td>\n",
       "      <td>0.451487</td>\n",
       "      <td>1.726668</td>\n",
       "      <td>0.502535</td>\n",
       "      <td>0.000011</td>\n",
       "    </tr>\n",
       "    <tr>\n",
       "      <th>2</th>\n",
       "      <td>1.755161</td>\n",
       "      <td>0.488441</td>\n",
       "      <td>1.639319</td>\n",
       "      <td>0.519693</td>\n",
       "      <td>0.000013</td>\n",
       "    </tr>\n",
       "    <tr>\n",
       "      <th>3</th>\n",
       "      <td>1.672023</td>\n",
       "      <td>0.510277</td>\n",
       "      <td>1.578333</td>\n",
       "      <td>0.533726</td>\n",
       "      <td>0.000015</td>\n",
       "    </tr>\n",
       "    <tr>\n",
       "      <th>4</th>\n",
       "      <td>1.607303</td>\n",
       "      <td>0.528091</td>\n",
       "      <td>1.539237</td>\n",
       "      <td>0.546757</td>\n",
       "      <td>0.000016</td>\n",
       "    </tr>\n",
       "    <tr>\n",
       "      <th>...</th>\n",
       "      <td>...</td>\n",
       "      <td>...</td>\n",
       "      <td>...</td>\n",
       "      <td>...</td>\n",
       "      <td>...</td>\n",
       "    </tr>\n",
       "    <tr>\n",
       "      <th>95</th>\n",
       "      <td>3.260737</td>\n",
       "      <td>0.088435</td>\n",
       "      <td>3.228206</td>\n",
       "      <td>0.121403</td>\n",
       "      <td>1.365008</td>\n",
       "    </tr>\n",
       "    <tr>\n",
       "      <th>96</th>\n",
       "      <td>3.278165</td>\n",
       "      <td>0.088096</td>\n",
       "      <td>3.341138</td>\n",
       "      <td>0.049882</td>\n",
       "      <td>1.545928</td>\n",
       "    </tr>\n",
       "    <tr>\n",
       "      <th>97</th>\n",
       "      <td>3.317831</td>\n",
       "      <td>0.084059</td>\n",
       "      <td>3.302152</td>\n",
       "      <td>0.121403</td>\n",
       "      <td>1.750827</td>\n",
       "    </tr>\n",
       "    <tr>\n",
       "      <th>98</th>\n",
       "      <td>3.317653</td>\n",
       "      <td>0.084265</td>\n",
       "      <td>3.281440</td>\n",
       "      <td>0.121403</td>\n",
       "      <td>1.982884</td>\n",
       "    </tr>\n",
       "    <tr>\n",
       "      <th>99</th>\n",
       "      <td>3.354358</td>\n",
       "      <td>0.083823</td>\n",
       "      <td>3.299384</td>\n",
       "      <td>0.121403</td>\n",
       "      <td>2.245698</td>\n",
       "    </tr>\n",
       "  </tbody>\n",
       "</table>\n",
       "<p>100 rows × 5 columns</p>\n",
       "</div>"
      ],
      "text/plain": [
       "        loss  accuracy  val_loss  val_accuracy        lr\n",
       "0   2.466172  0.325318  1.948636      0.449882  0.000010\n",
       "1   1.913353  0.451487  1.726668      0.502535  0.000011\n",
       "2   1.755161  0.488441  1.639319      0.519693  0.000013\n",
       "3   1.672023  0.510277  1.578333      0.533726  0.000015\n",
       "4   1.607303  0.528091  1.539237      0.546757  0.000016\n",
       "..       ...       ...       ...           ...       ...\n",
       "95  3.260737  0.088435  3.228206      0.121403  1.365008\n",
       "96  3.278165  0.088096  3.341138      0.049882  1.545928\n",
       "97  3.317831  0.084059  3.302152      0.121403  1.750827\n",
       "98  3.317653  0.084265  3.281440      0.121403  1.982884\n",
       "99  3.354358  0.083823  3.299384      0.121403  2.245698\n",
       "\n",
       "[100 rows x 5 columns]"
      ]
     },
     "execution_count": 4,
     "metadata": {},
     "output_type": "execute_result"
    }
   ],
   "source": [
    "df_hist"
   ]
  },
  {
   "cell_type": "code",
   "execution_count": 6,
   "id": "bf838470",
   "metadata": {},
   "outputs": [
    {
     "ename": "FileNotFoundError",
     "evalue": "[Errno 2] No such file or directory: 'D:/DataScienTest_WorkSpace/Iterations_and_Github_Saves/Iteration_#5_1/Images_&_Iteration_#5_1_InceptionResNetV2_All_Train_data_299x299_10012022_100Epochs_Accuracy_xx.xx%_LR_Optimization/history_InceptionResNetV2_all_train_10012022_Shape_299x299_100Epochs_2.csv'",
     "output_type": "error",
     "traceback": [
      "\u001b[1;31m---------------------------------------------------------------------------\u001b[0m",
      "\u001b[1;31mFileNotFoundError\u001b[0m                         Traceback (most recent call last)",
      "\u001b[1;32m~\\AppData\\Local\\Temp/ipykernel_18408/191376964.py\u001b[0m in \u001b[0;36m<module>\u001b[1;34m\u001b[0m\n\u001b[1;32m----> 1\u001b[1;33m \u001b[0mdf_hist\u001b[0m\u001b[1;33m.\u001b[0m\u001b[0mto_csv\u001b[0m\u001b[1;33m(\u001b[0m\u001b[0mdirc_hist\u001b[0m \u001b[1;33m+\u001b[0m \u001b[1;34m'history_InceptionResNetV2_all_train_10012022_Shape_299x299_100Epochs_2.csv'\u001b[0m\u001b[1;33m)\u001b[0m\u001b[1;33m\u001b[0m\u001b[1;33m\u001b[0m\u001b[0m\n\u001b[0m",
      "\u001b[1;32m~\\anaconda3\\envs\\datascientestEnv\\lib\\site-packages\\pandas\\core\\generic.py\u001b[0m in \u001b[0;36mto_csv\u001b[1;34m(self, path_or_buf, sep, na_rep, float_format, columns, header, index, index_label, mode, encoding, compression, quoting, quotechar, line_terminator, chunksize, date_format, doublequote, escapechar, decimal, errors, storage_options)\u001b[0m\n\u001b[0;32m   3464\u001b[0m         )\n\u001b[0;32m   3465\u001b[0m \u001b[1;33m\u001b[0m\u001b[0m\n\u001b[1;32m-> 3466\u001b[1;33m         return DataFrameRenderer(formatter).to_csv(\n\u001b[0m\u001b[0;32m   3467\u001b[0m             \u001b[0mpath_or_buf\u001b[0m\u001b[1;33m,\u001b[0m\u001b[1;33m\u001b[0m\u001b[1;33m\u001b[0m\u001b[0m\n\u001b[0;32m   3468\u001b[0m             \u001b[0mline_terminator\u001b[0m\u001b[1;33m=\u001b[0m\u001b[0mline_terminator\u001b[0m\u001b[1;33m,\u001b[0m\u001b[1;33m\u001b[0m\u001b[1;33m\u001b[0m\u001b[0m\n",
      "\u001b[1;32m~\\anaconda3\\envs\\datascientestEnv\\lib\\site-packages\\pandas\\io\\formats\\format.py\u001b[0m in \u001b[0;36mto_csv\u001b[1;34m(self, path_or_buf, encoding, sep, columns, index_label, mode, compression, quoting, quotechar, line_terminator, chunksize, date_format, doublequote, escapechar, errors, storage_options)\u001b[0m\n\u001b[0;32m   1103\u001b[0m             \u001b[0mformatter\u001b[0m\u001b[1;33m=\u001b[0m\u001b[0mself\u001b[0m\u001b[1;33m.\u001b[0m\u001b[0mfmt\u001b[0m\u001b[1;33m,\u001b[0m\u001b[1;33m\u001b[0m\u001b[1;33m\u001b[0m\u001b[0m\n\u001b[0;32m   1104\u001b[0m         )\n\u001b[1;32m-> 1105\u001b[1;33m         \u001b[0mcsv_formatter\u001b[0m\u001b[1;33m.\u001b[0m\u001b[0msave\u001b[0m\u001b[1;33m(\u001b[0m\u001b[1;33m)\u001b[0m\u001b[1;33m\u001b[0m\u001b[1;33m\u001b[0m\u001b[0m\n\u001b[0m\u001b[0;32m   1106\u001b[0m \u001b[1;33m\u001b[0m\u001b[0m\n\u001b[0;32m   1107\u001b[0m         \u001b[1;32mif\u001b[0m \u001b[0mcreated_buffer\u001b[0m\u001b[1;33m:\u001b[0m\u001b[1;33m\u001b[0m\u001b[1;33m\u001b[0m\u001b[0m\n",
      "\u001b[1;32m~\\anaconda3\\envs\\datascientestEnv\\lib\\site-packages\\pandas\\io\\formats\\csvs.py\u001b[0m in \u001b[0;36msave\u001b[1;34m(self)\u001b[0m\n\u001b[0;32m    235\u001b[0m         \"\"\"\n\u001b[0;32m    236\u001b[0m         \u001b[1;31m# apply compression and byte/text conversion\u001b[0m\u001b[1;33m\u001b[0m\u001b[1;33m\u001b[0m\u001b[0m\n\u001b[1;32m--> 237\u001b[1;33m         with get_handle(\n\u001b[0m\u001b[0;32m    238\u001b[0m             \u001b[0mself\u001b[0m\u001b[1;33m.\u001b[0m\u001b[0mfilepath_or_buffer\u001b[0m\u001b[1;33m,\u001b[0m\u001b[1;33m\u001b[0m\u001b[1;33m\u001b[0m\u001b[0m\n\u001b[0;32m    239\u001b[0m             \u001b[0mself\u001b[0m\u001b[1;33m.\u001b[0m\u001b[0mmode\u001b[0m\u001b[1;33m,\u001b[0m\u001b[1;33m\u001b[0m\u001b[1;33m\u001b[0m\u001b[0m\n",
      "\u001b[1;32m~\\anaconda3\\envs\\datascientestEnv\\lib\\site-packages\\pandas\\io\\common.py\u001b[0m in \u001b[0;36mget_handle\u001b[1;34m(path_or_buf, mode, encoding, compression, memory_map, is_text, errors, storage_options)\u001b[0m\n\u001b[0;32m    700\u001b[0m         \u001b[1;32mif\u001b[0m \u001b[0mioargs\u001b[0m\u001b[1;33m.\u001b[0m\u001b[0mencoding\u001b[0m \u001b[1;32mand\u001b[0m \u001b[1;34m\"b\"\u001b[0m \u001b[1;32mnot\u001b[0m \u001b[1;32min\u001b[0m \u001b[0mioargs\u001b[0m\u001b[1;33m.\u001b[0m\u001b[0mmode\u001b[0m\u001b[1;33m:\u001b[0m\u001b[1;33m\u001b[0m\u001b[1;33m\u001b[0m\u001b[0m\n\u001b[0;32m    701\u001b[0m             \u001b[1;31m# Encoding\u001b[0m\u001b[1;33m\u001b[0m\u001b[1;33m\u001b[0m\u001b[0m\n\u001b[1;32m--> 702\u001b[1;33m             handle = open(\n\u001b[0m\u001b[0;32m    703\u001b[0m                 \u001b[0mhandle\u001b[0m\u001b[1;33m,\u001b[0m\u001b[1;33m\u001b[0m\u001b[1;33m\u001b[0m\u001b[0m\n\u001b[0;32m    704\u001b[0m                 \u001b[0mioargs\u001b[0m\u001b[1;33m.\u001b[0m\u001b[0mmode\u001b[0m\u001b[1;33m,\u001b[0m\u001b[1;33m\u001b[0m\u001b[1;33m\u001b[0m\u001b[0m\n",
      "\u001b[1;31mFileNotFoundError\u001b[0m: [Errno 2] No such file or directory: 'D:/DataScienTest_WorkSpace/Iterations_and_Github_Saves/Iteration_#5_1/Images_&_Iteration_#5_1_InceptionResNetV2_All_Train_data_299x299_10012022_100Epochs_Accuracy_xx.xx%_LR_Optimization/history_InceptionResNetV2_all_train_10012022_Shape_299x299_100Epochs_2.csv'"
     ]
    }
   ],
   "source": [
    "df_hist.to_csv(dirc_hist + 'history_InceptionResNetV2_all_train_10012022_Shape_299x299_100Epochs_2.csv')"
   ]
  }
 ],
 "metadata": {
  "accelerator": "GPU",
  "colab": {
   "collapsed_sections": [
    "X4gG6_IvrZ10"
   ],
   "name": "Images_&_Iteration_#1_ResNet50_Without_image_Preprocesing.ipynb",
   "provenance": [
    {
     "file_id": "17N2ubF_zjn2M-2g3bJ0lXH7vsD0mgLMb",
     "timestamp": 1629109577507
    }
   ]
  },
  "kernelspec": {
   "display_name": "Python 3 (ipykernel)",
   "language": "python",
   "name": "python3"
  },
  "language_info": {
   "codemirror_mode": {
    "name": "ipython",
    "version": 3
   },
   "file_extension": ".py",
   "mimetype": "text/x-python",
   "name": "python",
   "nbconvert_exporter": "python",
   "pygments_lexer": "ipython3",
   "version": "3.9.7"
  }
 },
 "nbformat": 4,
 "nbformat_minor": 5
}
