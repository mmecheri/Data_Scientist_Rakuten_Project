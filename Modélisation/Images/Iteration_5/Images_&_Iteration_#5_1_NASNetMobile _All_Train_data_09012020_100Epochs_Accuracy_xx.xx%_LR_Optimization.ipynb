{
 "cells": [
  {
   "cell_type": "markdown",
   "id": "ba0641ee",
   "metadata": {
    "id": "ba0641ee"
   },
   "source": [
    "# NASNetMobile : Images - Iteration #5_1 : Without Data Augementation - LR Optimization"
   ]
  },
  {
   "cell_type": "markdown",
   "id": "062915fa-8574-4710-a062-abeaf74442e1",
   "metadata": {
    "colab": {
     "base_uri": "https://localhost:8080/"
    },
    "executionInfo": {
     "elapsed": 28270,
     "status": "ok",
     "timestamp": 1634134469078,
     "user": {
      "displayName": "Mourad Mecheri",
      "photoUrl": "https://lh3.googleusercontent.com/a/default-user=s64",
      "userId": "08453845245011476141"
     },
     "user_tz": -120
    },
    "id": "b9037513",
    "outputId": "d8d06f9c-4db1-4106-c898-9f91fbecbb89"
   },
   "source": [
    "img_rows = 224 <br>\n",
    "img_cols = 224 <br>\n",
    "batch_size = 64 <br>\n",
    "pochs = 100 <br>\n",
    "Train set size = 67933 <br>\n",
    "Valid set size = 16983 <br>\n",
    "Without Data augmentation <br>\n",
    "Freeze layers of the Base model layers  <br>\n",
    "Optimize LR with LearningRateScheduler <br>\n",
    "Start with small LR: 0,00001 then increase the value evry  epoch until 2.54 <br>\n",
    "then elect a learning rate that achieves the lowest loss <br>"
   ]
  },
  {
   "cell_type": "markdown",
   "id": "0e852c9f-0580-460f-ad1c-d8a432dfcf44",
   "metadata": {
    "colab": {
     "base_uri": "https://localhost:8080/"
    },
    "executionInfo": {
     "elapsed": 276,
     "status": "ok",
     "timestamp": 1634134474708,
     "user": {
      "displayName": "Mourad Mecheri",
      "photoUrl": "https://lh3.googleusercontent.com/a/default-user=s64",
      "userId": "08453845245011476141"
     },
     "user_tz": -120
    },
    "id": "2191e30e",
    "outputId": "99169808-7a30-4c91-f3e2-742ab235a6ac"
   },
   "source": [
    "**<u>Results</u>**"
   ]
  },
  {
   "cell_type": "markdown",
   "id": "0af03ad9-4a4f-489d-8ff4-bfd5e7197e38",
   "metadata": {},
   "source": [
    "Accuracy : ?? <br>\n",
    "F1 score weighted : ??"
   ]
  },
  {
   "cell_type": "markdown",
   "id": "27545775",
   "metadata": {
    "id": "27545775"
   },
   "source": [
    "**Import packages**"
   ]
  },
  {
   "cell_type": "code",
   "execution_count": 1,
   "id": "92150877",
   "metadata": {
    "executionInfo": {
     "elapsed": 784,
     "status": "ok",
     "timestamp": 1634134527958,
     "user": {
      "displayName": "Mourad Mecheri",
      "photoUrl": "https://lh3.googleusercontent.com/a/default-user=s64",
      "userId": "08453845245011476141"
     },
     "user_tz": -120
    },
    "id": "92150877"
   },
   "outputs": [],
   "source": [
    "import os\n",
    "import glob\n",
    "import pandas as pd\n",
    "import numpy as np\n",
    "import cv2\n",
    "import matplotlib\n",
    "%matplotlib inline\n",
    "import matplotlib.pyplot as plt\n",
    "import seaborn as sns\n",
    "from tqdm import tqdm\n",
    "from tqdm.notebook import tqdm_notebook\n",
    "import re\n",
    "tqdm_notebook.pandas()\n",
    "import tensorflow as tf\n",
    "#from tensorflow import keras\n",
    "from tensorflow.keras.models import load_model\n",
    "from tensorflow.keras.models import Sequential\n",
    "from tensorflow.keras.layers import Dense, Activation\n",
    "from tensorflow.keras.layers import Dropout\n",
    "from tensorflow.keras.layers import Flatten\n",
    "from tensorflow.keras.layers import GlobalAveragePooling2D\n",
    "from tensorflow.keras.layers import Conv2D\n",
    "from tensorflow.keras.layers import MaxPooling2D\n",
    "from tensorflow.keras.callbacks import ModelCheckpoint, EarlyStopping, ReduceLROnPlateau, LearningRateScheduler\n",
    "from tensorflow.keras.applications.vgg16 import VGG16\n",
    "from tensorflow.keras.applications.efficientnet import EfficientNetB7\n",
    "from tensorflow.keras.applications.mobilenet_v2 import MobileNetV2\n",
    "from tensorflow.keras.applications.nasnet import NASNetMobile\n",
    "from tensorflow.keras.applications.vgg16 import preprocess_input\n",
    "from tensorflow.keras.preprocessing.image import ImageDataGenerator\n",
    "from tensorflow.keras.preprocessing import image\n",
    "from tensorflow.keras.optimizers import Adam\n",
    "from sklearn.metrics import f1_score , recall_score, accuracy_score, precision_score, confusion_matrix\n",
    "from keras.utils import np_utils\n",
    "from sklearn.model_selection import train_test_split\n",
    "from sklearn import metrics\n",
    "import itertools\n",
    "import pickle\n",
    "from joblib import dump, load"
   ]
  },
  {
   "cell_type": "markdown",
   "id": "d7a3fcab",
   "metadata": {
    "id": "d7a3fcab"
   },
   "source": [
    "# Iteration #5_1 - NASNetMobile"
   ]
  },
  {
   "cell_type": "markdown",
   "id": "a1224583",
   "metadata": {
    "id": "a1224583"
   },
   "source": [
    "***Read DataFrame from saved pickele file - image Train set***"
   ]
  },
  {
   "cell_type": "code",
   "execution_count": 2,
   "id": "8ef548a9",
   "metadata": {
    "executionInfo": {
     "elapsed": 2592,
     "status": "ok",
     "timestamp": 1634134546598,
     "user": {
      "displayName": "Mourad Mecheri",
      "photoUrl": "https://lh3.googleusercontent.com/a/default-user=s64",
      "userId": "08453845245011476141"
     },
     "user_tz": -120
    },
    "id": "8ef548a9"
   },
   "outputs": [],
   "source": [
    "#Load df of images already resized on 256 x 256 \n",
    "df_train_im = pd.read_pickle(\"./saves/df_save/df_train_combined_19102021.pkl\")\n",
    "\n",
    "#Load df of images with org size 500 x 500\n",
    "#df_train_im = pd.read_pickle(\"./saves/df_save/df_train_combined_ORG_im_size_23112021.pkl\")"
   ]
  },
  {
   "cell_type": "code",
   "execution_count": 3,
   "id": "d271de78",
   "metadata": {
    "colab": {
     "base_uri": "https://localhost:8080/",
     "height": 238
    },
    "executionInfo": {
     "elapsed": 198,
     "status": "ok",
     "timestamp": 1634134561983,
     "user": {
      "displayName": "Mourad Mecheri",
      "photoUrl": "https://lh3.googleusercontent.com/a/default-user=s64",
      "userId": "08453845245011476141"
     },
     "user_tz": -120
    },
    "id": "d271de78",
    "outputId": "7c8fd8a1-e44a-4948-cfc7-f477aa1daaa6"
   },
   "outputs": [
    {
     "data": {
      "text/html": [
       "<div>\n",
       "<style scoped>\n",
       "    .dataframe tbody tr th:only-of-type {\n",
       "        vertical-align: middle;\n",
       "    }\n",
       "\n",
       "    .dataframe tbody tr th {\n",
       "        vertical-align: top;\n",
       "    }\n",
       "\n",
       "    .dataframe thead th {\n",
       "        text-align: right;\n",
       "    }\n",
       "</style>\n",
       "<table border=\"1\" class=\"dataframe\">\n",
       "  <thead>\n",
       "    <tr style=\"text-align: right;\">\n",
       "      <th></th>\n",
       "      <th>designation</th>\n",
       "      <th>description</th>\n",
       "      <th>productid</th>\n",
       "      <th>imageid</th>\n",
       "      <th>prdtypecode</th>\n",
       "      <th>imagePath</th>\n",
       "    </tr>\n",
       "  </thead>\n",
       "  <tbody>\n",
       "    <tr>\n",
       "      <th>0</th>\n",
       "      <td>Olivia: Personalisiertes Notizbuch / 150 Seite...</td>\n",
       "      <td>NaN</td>\n",
       "      <td>3804725264</td>\n",
       "      <td>1263597046</td>\n",
       "      <td>10</td>\n",
       "      <td>resized_image_1263597046_product_3804725264.jpg</td>\n",
       "    </tr>\n",
       "    <tr>\n",
       "      <th>1</th>\n",
       "      <td>Journal Des Arts (Le) N° 133 Du 28/09/2001 - L...</td>\n",
       "      <td>NaN</td>\n",
       "      <td>436067568</td>\n",
       "      <td>1008141237</td>\n",
       "      <td>2280</td>\n",
       "      <td>resized_image_1008141237_product_436067568.jpg</td>\n",
       "    </tr>\n",
       "    <tr>\n",
       "      <th>2</th>\n",
       "      <td>Grand Stylet Ergonomique Bleu Gamepad Nintendo...</td>\n",
       "      <td>PILOT STYLE Touch Pen de marque Speedlink est ...</td>\n",
       "      <td>201115110</td>\n",
       "      <td>938777978</td>\n",
       "      <td>50</td>\n",
       "      <td>resized_image_938777978_product_201115110.jpg</td>\n",
       "    </tr>\n",
       "    <tr>\n",
       "      <th>3</th>\n",
       "      <td>Peluche Donald - Europe - Disneyland 2000 (Mar...</td>\n",
       "      <td>NaN</td>\n",
       "      <td>50418756</td>\n",
       "      <td>457047496</td>\n",
       "      <td>1280</td>\n",
       "      <td>resized_image_457047496_product_50418756.jpg</td>\n",
       "    </tr>\n",
       "    <tr>\n",
       "      <th>4</th>\n",
       "      <td>La Guerre Des Tuques</td>\n",
       "      <td>Luc a des id&amp;eacute;es de grandeur. Il veut or...</td>\n",
       "      <td>278535884</td>\n",
       "      <td>1077757786</td>\n",
       "      <td>2705</td>\n",
       "      <td>resized_image_1077757786_product_278535884.jpg</td>\n",
       "    </tr>\n",
       "  </tbody>\n",
       "</table>\n",
       "</div>"
      ],
      "text/plain": [
       "                                         designation  \\\n",
       "0  Olivia: Personalisiertes Notizbuch / 150 Seite...   \n",
       "1  Journal Des Arts (Le) N° 133 Du 28/09/2001 - L...   \n",
       "2  Grand Stylet Ergonomique Bleu Gamepad Nintendo...   \n",
       "3  Peluche Donald - Europe - Disneyland 2000 (Mar...   \n",
       "4                               La Guerre Des Tuques   \n",
       "\n",
       "                                         description   productid     imageid  \\\n",
       "0                                                NaN  3804725264  1263597046   \n",
       "1                                                NaN   436067568  1008141237   \n",
       "2  PILOT STYLE Touch Pen de marque Speedlink est ...   201115110   938777978   \n",
       "3                                                NaN    50418756   457047496   \n",
       "4  Luc a des id&eacute;es de grandeur. Il veut or...   278535884  1077757786   \n",
       "\n",
       "   prdtypecode                                        imagePath  \n",
       "0           10  resized_image_1263597046_product_3804725264.jpg  \n",
       "1         2280   resized_image_1008141237_product_436067568.jpg  \n",
       "2           50    resized_image_938777978_product_201115110.jpg  \n",
       "3         1280     resized_image_457047496_product_50418756.jpg  \n",
       "4         2705   resized_image_1077757786_product_278535884.jpg  "
      ]
     },
     "execution_count": 3,
     "metadata": {},
     "output_type": "execute_result"
    }
   ],
   "source": [
    "df_train_im.head()"
   ]
  },
  {
   "cell_type": "code",
   "execution_count": 4,
   "id": "d43d8189",
   "metadata": {
    "colab": {
     "base_uri": "https://localhost:8080/",
     "height": 34
    },
    "executionInfo": {
     "elapsed": 11,
     "status": "ok",
     "timestamp": 1634134564801,
     "user": {
      "displayName": "Mourad Mecheri",
      "photoUrl": "https://lh3.googleusercontent.com/a/default-user=s64",
      "userId": "08453845245011476141"
     },
     "user_tz": -120
    },
    "id": "d43d8189",
    "outputId": "2df9d40d-1f91-4eb1-af2e-61fb2a206a2d"
   },
   "outputs": [
    {
     "data": {
      "text/plain": [
       "(84916, 6)"
      ]
     },
     "metadata": {},
     "output_type": "display_data"
    }
   ],
   "source": [
    "display(df_train_im.shape)"
   ]
  },
  {
   "cell_type": "markdown",
   "id": "380b8623",
   "metadata": {
    "id": "380b8623"
   },
   "source": [
    "***Create Dataframe containing  product classes and their associated labels***"
   ]
  },
  {
   "cell_type": "code",
   "execution_count": 5,
   "id": "c65eaf07",
   "metadata": {},
   "outputs": [
    {
     "data": {
      "text/html": [
       "<div>\n",
       "<style scoped>\n",
       "    .dataframe tbody tr th:only-of-type {\n",
       "        vertical-align: middle;\n",
       "    }\n",
       "\n",
       "    .dataframe tbody tr th {\n",
       "        vertical-align: top;\n",
       "    }\n",
       "\n",
       "    .dataframe thead th {\n",
       "        text-align: right;\n",
       "    }\n",
       "</style>\n",
       "<table border=\"1\" class=\"dataframe\">\n",
       "  <thead>\n",
       "    <tr style=\"text-align: right;\">\n",
       "      <th></th>\n",
       "      <th>prdtypecode</th>\n",
       "      <th>Label</th>\n",
       "    </tr>\n",
       "  </thead>\n",
       "  <tbody>\n",
       "    <tr>\n",
       "      <th>0</th>\n",
       "      <td>50</td>\n",
       "      <td>video games accessories</td>\n",
       "    </tr>\n",
       "    <tr>\n",
       "      <th>1</th>\n",
       "      <td>2705</td>\n",
       "      <td>books</td>\n",
       "    </tr>\n",
       "    <tr>\n",
       "      <th>2</th>\n",
       "      <td>2522</td>\n",
       "      <td>stationery</td>\n",
       "    </tr>\n",
       "    <tr>\n",
       "      <th>3</th>\n",
       "      <td>2582</td>\n",
       "      <td>kitchen and garden</td>\n",
       "    </tr>\n",
       "    <tr>\n",
       "      <th>4</th>\n",
       "      <td>1560</td>\n",
       "      <td>interior furniture and bedding</td>\n",
       "    </tr>\n",
       "    <tr>\n",
       "      <th>5</th>\n",
       "      <td>1281</td>\n",
       "      <td>board games</td>\n",
       "    </tr>\n",
       "    <tr>\n",
       "      <th>6</th>\n",
       "      <td>1920</td>\n",
       "      <td>interior accessories</td>\n",
       "    </tr>\n",
       "    <tr>\n",
       "      <th>7</th>\n",
       "      <td>1280</td>\n",
       "      <td>toys for children</td>\n",
       "    </tr>\n",
       "    <tr>\n",
       "      <th>8</th>\n",
       "      <td>1140</td>\n",
       "      <td>goodies</td>\n",
       "    </tr>\n",
       "    <tr>\n",
       "      <th>9</th>\n",
       "      <td>1300</td>\n",
       "      <td>remote controlled models</td>\n",
       "    </tr>\n",
       "    <tr>\n",
       "      <th>10</th>\n",
       "      <td>2060</td>\n",
       "      <td>decoration interior</td>\n",
       "    </tr>\n",
       "    <tr>\n",
       "      <th>11</th>\n",
       "      <td>2583</td>\n",
       "      <td>piscine spa</td>\n",
       "    </tr>\n",
       "    <tr>\n",
       "      <th>12</th>\n",
       "      <td>60</td>\n",
       "      <td>games and consoles</td>\n",
       "    </tr>\n",
       "    <tr>\n",
       "      <th>13</th>\n",
       "      <td>1320</td>\n",
       "      <td>early childhood</td>\n",
       "    </tr>\n",
       "    <tr>\n",
       "      <th>14</th>\n",
       "      <td>2280</td>\n",
       "      <td>magazines</td>\n",
       "    </tr>\n",
       "    <tr>\n",
       "      <th>15</th>\n",
       "      <td>1302</td>\n",
       "      <td>kids toys</td>\n",
       "    </tr>\n",
       "    <tr>\n",
       "      <th>16</th>\n",
       "      <td>2220</td>\n",
       "      <td>supplies for domestic animals</td>\n",
       "    </tr>\n",
       "    <tr>\n",
       "      <th>17</th>\n",
       "      <td>40</td>\n",
       "      <td>imported video games</td>\n",
       "    </tr>\n",
       "    <tr>\n",
       "      <th>18</th>\n",
       "      <td>2905</td>\n",
       "      <td>online distribution of video games</td>\n",
       "    </tr>\n",
       "    <tr>\n",
       "      <th>19</th>\n",
       "      <td>2585</td>\n",
       "      <td>gardening and DIY</td>\n",
       "    </tr>\n",
       "    <tr>\n",
       "      <th>20</th>\n",
       "      <td>1940</td>\n",
       "      <td>Food</td>\n",
       "    </tr>\n",
       "    <tr>\n",
       "      <th>21</th>\n",
       "      <td>1160</td>\n",
       "      <td>playing cards</td>\n",
       "    </tr>\n",
       "    <tr>\n",
       "      <th>22</th>\n",
       "      <td>1301</td>\n",
       "      <td>accessories children</td>\n",
       "    </tr>\n",
       "    <tr>\n",
       "      <th>23</th>\n",
       "      <td>10</td>\n",
       "      <td>adult books</td>\n",
       "    </tr>\n",
       "    <tr>\n",
       "      <th>24</th>\n",
       "      <td>1180</td>\n",
       "      <td>figurines_wargames</td>\n",
       "    </tr>\n",
       "    <tr>\n",
       "      <th>25</th>\n",
       "      <td>2403</td>\n",
       "      <td>children books</td>\n",
       "    </tr>\n",
       "    <tr>\n",
       "      <th>26</th>\n",
       "      <td>2462</td>\n",
       "      <td>games</td>\n",
       "    </tr>\n",
       "  </tbody>\n",
       "</table>\n",
       "</div>"
      ],
      "text/plain": [
       "    prdtypecode                               Label\n",
       "0            50             video games accessories\n",
       "1          2705                               books\n",
       "2          2522                          stationery\n",
       "3          2582                  kitchen and garden\n",
       "4          1560      interior furniture and bedding\n",
       "5          1281                         board games\n",
       "6          1920                interior accessories\n",
       "7          1280                   toys for children\n",
       "8          1140                             goodies\n",
       "9          1300            remote controlled models\n",
       "10         2060                 decoration interior\n",
       "11         2583                         piscine spa\n",
       "12           60                  games and consoles\n",
       "13         1320                     early childhood\n",
       "14         2280                           magazines\n",
       "15         1302                           kids toys\n",
       "16         2220       supplies for domestic animals\n",
       "17           40                imported video games\n",
       "18         2905  online distribution of video games\n",
       "19         2585                   gardening and DIY\n",
       "20         1940                                Food\n",
       "21         1160                       playing cards\n",
       "22         1301                accessories children\n",
       "23           10                         adult books\n",
       "24         1180                  figurines_wargames\n",
       "25         2403                      children books\n",
       "26         2462                               games"
      ]
     },
     "execution_count": 5,
     "metadata": {},
     "output_type": "execute_result"
    }
   ],
   "source": [
    "#Dictionary of prdtypecode and their corresponding categories\n",
    "dict_prdtypecode = {\"prdtypecode\" : [50, 2705, 2522, 2582, 1560, 1281, 1920, 1280, 1140, 1300, 2060, 2583,\n",
    "                                     60, 1320, 2280, 1302, 2220, 40, 2905, 2585, 1940, 1160, 1301, 10, 1180,\n",
    "                                     2403, 2462],                 \n",
    "            \n",
    "                    \"Label\" : [\"video games accessories\", \"books\", \"stationery\", \"kitchen and garden\", \n",
    "                               \"interior furniture and bedding\", \"board games\", \"interior accessories\",\n",
    "                               \"toys for children\",\"goodies\", \"remote controlled models\", \"decoration interior\",\n",
    "                               \"piscine spa\",\"games and consoles\", \"early childhood\", \"magazines\", \"kids toys\",\n",
    "                               \"supplies for domestic animals\", \"imported video games\", \"online distribution of video games\",\n",
    "                               \"gardening and DIY\",\"Food\",\"playing cards\", \"accessories children\", \"adult books\",\n",
    "                               \"figurines_wargames\", \"children books\",\n",
    "                                \"games\"]\n",
    "                   }\n",
    "df_class = pd.DataFrame(data=dict_prdtypecode)\n",
    "df_class"
   ]
  },
  {
   "cell_type": "code",
   "execution_count": 6,
   "id": "92a6002b",
   "metadata": {},
   "outputs": [
    {
     "data": {
      "text/html": [
       "<div>\n",
       "<style scoped>\n",
       "    .dataframe tbody tr th:only-of-type {\n",
       "        vertical-align: middle;\n",
       "    }\n",
       "\n",
       "    .dataframe tbody tr th {\n",
       "        vertical-align: top;\n",
       "    }\n",
       "\n",
       "    .dataframe thead th {\n",
       "        text-align: right;\n",
       "    }\n",
       "</style>\n",
       "<table border=\"1\" class=\"dataframe\">\n",
       "  <thead>\n",
       "    <tr style=\"text-align: right;\">\n",
       "      <th></th>\n",
       "      <th>prdtypecode</th>\n",
       "      <th>Label</th>\n",
       "      <th>target_prdtypecode</th>\n",
       "    </tr>\n",
       "  </thead>\n",
       "  <tbody>\n",
       "    <tr>\n",
       "      <th>23</th>\n",
       "      <td>10</td>\n",
       "      <td>adult books</td>\n",
       "      <td>0</td>\n",
       "    </tr>\n",
       "    <tr>\n",
       "      <th>17</th>\n",
       "      <td>40</td>\n",
       "      <td>imported video games</td>\n",
       "      <td>1</td>\n",
       "    </tr>\n",
       "    <tr>\n",
       "      <th>0</th>\n",
       "      <td>50</td>\n",
       "      <td>video games accessories</td>\n",
       "      <td>2</td>\n",
       "    </tr>\n",
       "    <tr>\n",
       "      <th>12</th>\n",
       "      <td>60</td>\n",
       "      <td>games and consoles</td>\n",
       "      <td>3</td>\n",
       "    </tr>\n",
       "    <tr>\n",
       "      <th>8</th>\n",
       "      <td>1140</td>\n",
       "      <td>goodies</td>\n",
       "      <td>4</td>\n",
       "    </tr>\n",
       "    <tr>\n",
       "      <th>21</th>\n",
       "      <td>1160</td>\n",
       "      <td>playing cards</td>\n",
       "      <td>5</td>\n",
       "    </tr>\n",
       "    <tr>\n",
       "      <th>24</th>\n",
       "      <td>1180</td>\n",
       "      <td>figurines_wargames</td>\n",
       "      <td>6</td>\n",
       "    </tr>\n",
       "    <tr>\n",
       "      <th>7</th>\n",
       "      <td>1280</td>\n",
       "      <td>toys for children</td>\n",
       "      <td>7</td>\n",
       "    </tr>\n",
       "    <tr>\n",
       "      <th>5</th>\n",
       "      <td>1281</td>\n",
       "      <td>board games</td>\n",
       "      <td>8</td>\n",
       "    </tr>\n",
       "    <tr>\n",
       "      <th>9</th>\n",
       "      <td>1300</td>\n",
       "      <td>remote controlled models</td>\n",
       "      <td>9</td>\n",
       "    </tr>\n",
       "    <tr>\n",
       "      <th>22</th>\n",
       "      <td>1301</td>\n",
       "      <td>accessories children</td>\n",
       "      <td>10</td>\n",
       "    </tr>\n",
       "    <tr>\n",
       "      <th>15</th>\n",
       "      <td>1302</td>\n",
       "      <td>kids toys</td>\n",
       "      <td>11</td>\n",
       "    </tr>\n",
       "    <tr>\n",
       "      <th>13</th>\n",
       "      <td>1320</td>\n",
       "      <td>early childhood</td>\n",
       "      <td>12</td>\n",
       "    </tr>\n",
       "    <tr>\n",
       "      <th>4</th>\n",
       "      <td>1560</td>\n",
       "      <td>interior furniture and bedding</td>\n",
       "      <td>13</td>\n",
       "    </tr>\n",
       "    <tr>\n",
       "      <th>6</th>\n",
       "      <td>1920</td>\n",
       "      <td>interior accessories</td>\n",
       "      <td>14</td>\n",
       "    </tr>\n",
       "    <tr>\n",
       "      <th>20</th>\n",
       "      <td>1940</td>\n",
       "      <td>Food</td>\n",
       "      <td>15</td>\n",
       "    </tr>\n",
       "    <tr>\n",
       "      <th>10</th>\n",
       "      <td>2060</td>\n",
       "      <td>decoration interior</td>\n",
       "      <td>16</td>\n",
       "    </tr>\n",
       "    <tr>\n",
       "      <th>16</th>\n",
       "      <td>2220</td>\n",
       "      <td>supplies for domestic animals</td>\n",
       "      <td>17</td>\n",
       "    </tr>\n",
       "    <tr>\n",
       "      <th>14</th>\n",
       "      <td>2280</td>\n",
       "      <td>magazines</td>\n",
       "      <td>18</td>\n",
       "    </tr>\n",
       "    <tr>\n",
       "      <th>25</th>\n",
       "      <td>2403</td>\n",
       "      <td>children books</td>\n",
       "      <td>19</td>\n",
       "    </tr>\n",
       "    <tr>\n",
       "      <th>26</th>\n",
       "      <td>2462</td>\n",
       "      <td>games</td>\n",
       "      <td>20</td>\n",
       "    </tr>\n",
       "    <tr>\n",
       "      <th>2</th>\n",
       "      <td>2522</td>\n",
       "      <td>stationery</td>\n",
       "      <td>21</td>\n",
       "    </tr>\n",
       "    <tr>\n",
       "      <th>3</th>\n",
       "      <td>2582</td>\n",
       "      <td>kitchen and garden</td>\n",
       "      <td>22</td>\n",
       "    </tr>\n",
       "    <tr>\n",
       "      <th>11</th>\n",
       "      <td>2583</td>\n",
       "      <td>piscine spa</td>\n",
       "      <td>23</td>\n",
       "    </tr>\n",
       "    <tr>\n",
       "      <th>19</th>\n",
       "      <td>2585</td>\n",
       "      <td>gardening and DIY</td>\n",
       "      <td>24</td>\n",
       "    </tr>\n",
       "    <tr>\n",
       "      <th>1</th>\n",
       "      <td>2705</td>\n",
       "      <td>books</td>\n",
       "      <td>25</td>\n",
       "    </tr>\n",
       "    <tr>\n",
       "      <th>18</th>\n",
       "      <td>2905</td>\n",
       "      <td>online distribution of video games</td>\n",
       "      <td>26</td>\n",
       "    </tr>\n",
       "  </tbody>\n",
       "</table>\n",
       "</div>"
      ],
      "text/plain": [
       "    prdtypecode                               Label  target_prdtypecode\n",
       "23           10                         adult books                   0\n",
       "17           40                imported video games                   1\n",
       "0            50             video games accessories                   2\n",
       "12           60                  games and consoles                   3\n",
       "8          1140                             goodies                   4\n",
       "21         1160                       playing cards                   5\n",
       "24         1180                  figurines_wargames                   6\n",
       "7          1280                   toys for children                   7\n",
       "5          1281                         board games                   8\n",
       "9          1300            remote controlled models                   9\n",
       "22         1301                accessories children                  10\n",
       "15         1302                           kids toys                  11\n",
       "13         1320                     early childhood                  12\n",
       "4          1560      interior furniture and bedding                  13\n",
       "6          1920                interior accessories                  14\n",
       "20         1940                                Food                  15\n",
       "10         2060                 decoration interior                  16\n",
       "16         2220       supplies for domestic animals                  17\n",
       "14         2280                           magazines                  18\n",
       "25         2403                      children books                  19\n",
       "26         2462                               games                  20\n",
       "2          2522                          stationery                  21\n",
       "3          2582                  kitchen and garden                  22\n",
       "11         2583                         piscine spa                  23\n",
       "19         2585                   gardening and DIY                  24\n",
       "1          2705                               books                  25\n",
       "18         2905  online distribution of video games                  26"
      ]
     },
     "execution_count": 6,
     "metadata": {},
     "output_type": "execute_result"
    }
   ],
   "source": [
    "# Crate DF containing prdtypecode , categories and corresponding class used by model\n",
    "df_class = df_class.sort_values(by = 'prdtypecode', ascending = True)\n",
    "df_class['target_prdtypecode'] = [i for i in range(27)]\n",
    "df_class"
   ]
  },
  {
   "cell_type": "markdown",
   "id": "623eac95-808a-439d-a6f5-71bbd7de6169",
   "metadata": {},
   "source": [
    "***Change the 27 product codes to 0 to 26***"
   ]
  },
  {
   "cell_type": "code",
   "execution_count": 7,
   "id": "56ea410b",
   "metadata": {
    "executionInfo": {
     "elapsed": 191,
     "status": "ok",
     "timestamp": 1634134621597,
     "user": {
      "displayName": "Mourad Mecheri",
      "photoUrl": "https://lh3.googleusercontent.com/a/default-user=s64",
      "userId": "08453845245011476141"
     },
     "user_tz": -120
    },
    "id": "56ea410b"
   },
   "outputs": [],
   "source": [
    "df_train_im.replace({'prdtypecode':{10:0,\n",
    "                                    40:1,\n",
    "                                    50:2,\n",
    "                                    60:3,\n",
    "                                    1140:4,\n",
    "                                    1160:5,\n",
    "                                    1180:6,\n",
    "                                    1280:7,\n",
    "                                    1281:8,\n",
    "                                    1300:9                                    \n",
    "                                    }}, inplace = True)\n",
    "\n",
    "df_train_im.replace({'prdtypecode':{1301:10,\n",
    "                                    1302:11,\n",
    "                                    1320:12,\n",
    "                                    1560:13,\n",
    "                                    1920:14,\n",
    "                                    1940:15,\n",
    "                                    2060:16,\n",
    "                                    2220:17,\n",
    "                                    2280:18,\n",
    "                                    2403:19,\n",
    "                                    2462:20,\n",
    "                                    2522:21,\n",
    "                                    2582:22,\n",
    "                                    2583:23,\n",
    "                                    2585:24,\n",
    "                                    2705:25,\n",
    "                                    2905:26\n",
    "                                    }}, inplace = True)"
   ]
  },
  {
   "cell_type": "code",
   "execution_count": 8,
   "id": "4eafb15b",
   "metadata": {
    "colab": {
     "base_uri": "https://localhost:8080/",
     "height": 51
    },
    "executionInfo": {
     "elapsed": 220,
     "status": "ok",
     "timestamp": 1634134626306,
     "user": {
      "displayName": "Mourad Mecheri",
      "photoUrl": "https://lh3.googleusercontent.com/a/default-user=s64",
      "userId": "08453845245011476141"
     },
     "user_tz": -120
    },
    "id": "4eafb15b",
    "outputId": "d58b0b3b-65ac-4f95-ed66-7abb38c14a57"
   },
   "outputs": [
    {
     "data": {
      "text/plain": [
       "array([ 0, 18,  2,  7, 25, 21, 22, 13,  8, 14, 19,  4, 23,  6,  9, 20,  5,\n",
       "       16,  1,  3, 12, 11, 17, 26, 24, 15, 10], dtype=int64)"
      ]
     },
     "metadata": {},
     "output_type": "display_data"
    }
   ],
   "source": [
    "display(df_train_im[\"prdtypecode\"].unique())"
   ]
  },
  {
   "cell_type": "markdown",
   "id": "0dc304a2",
   "metadata": {
    "id": "0dc304a2"
   },
   "source": [
    " ***Convert product code to string type***"
   ]
  },
  {
   "cell_type": "code",
   "execution_count": 9,
   "id": "7193561c",
   "metadata": {},
   "outputs": [],
   "source": [
    "df_train_im[\"prdtypecode\"] = df_train_im[\"prdtypecode\"].astype(str)"
   ]
  },
  {
   "cell_type": "code",
   "execution_count": 10,
   "id": "e2c1f1ef",
   "metadata": {
    "colab": {
     "base_uri": "https://localhost:8080/"
    },
    "executionInfo": {
     "elapsed": 215,
     "status": "ok",
     "timestamp": 1634134641759,
     "user": {
      "displayName": "Mourad Mecheri",
      "photoUrl": "https://lh3.googleusercontent.com/a/default-user=s64",
      "userId": "08453845245011476141"
     },
     "user_tz": -120
    },
    "id": "e2c1f1ef",
    "outputId": "11940c5a-39fe-4b68-b766-528d372d90ec"
   },
   "outputs": [
    {
     "data": {
      "text/plain": [
       "{'0': 3116,\n",
       " '1': 2508,\n",
       " '10': 807,\n",
       " '11': 2491,\n",
       " '12': 3241,\n",
       " '13': 5073,\n",
       " '14': 4303,\n",
       " '15': 803,\n",
       " '16': 4993,\n",
       " '17': 824,\n",
       " '18': 4760,\n",
       " '19': 4774,\n",
       " '2': 1681,\n",
       " '20': 1421,\n",
       " '21': 4989,\n",
       " '22': 2589,\n",
       " '23': 10209,\n",
       " '24': 2496,\n",
       " '25': 2761,\n",
       " '26': 872,\n",
       " '3': 832,\n",
       " '4': 2671,\n",
       " '5': 3953,\n",
       " '6': 764,\n",
       " '7': 4870,\n",
       " '8': 2070,\n",
       " '9': 5045}"
      ]
     },
     "execution_count": 10,
     "metadata": {},
     "output_type": "execute_result"
    }
   ],
   "source": [
    "unique, counts = np.unique(df_train_im[\"prdtypecode\"], return_counts=True)\n",
    "dict(zip(unique, counts))"
   ]
  },
  {
   "cell_type": "markdown",
   "id": "0c38b088-b6f3-43c5-9d26-51100e4e75b7",
   "metadata": {},
   "source": [
    " ***Split Train Set***"
   ]
  },
  {
   "cell_type": "code",
   "execution_count": 11,
   "id": "fcf06805-39bc-4276-9f81-a8db1e0857c2",
   "metadata": {},
   "outputs": [],
   "source": [
    "# Split Train set \n",
    "#X_train_im, X_test_im = train_test_split(df_train_im, train_size=0.8, random_state=1234)"
   ]
  },
  {
   "cell_type": "code",
   "execution_count": 12,
   "id": "0ff53856-41fb-4719-aca5-65d05f0891e9",
   "metadata": {},
   "outputs": [],
   "source": [
    "##display(X_train_im.shape)\n",
    "#display(X_test_im.shape)"
   ]
  },
  {
   "cell_type": "markdown",
   "id": "81265433-9786-44d3-8f17-78604660ab3a",
   "metadata": {},
   "source": [
    "***Data Generator***"
   ]
  },
  {
   "cell_type": "code",
   "execution_count": 13,
   "id": "d3f04ff5",
   "metadata": {},
   "outputs": [],
   "source": [
    "img_rows = 224\n",
    "img_cols = 224\n",
    "batch_size = 64\n",
    "epochs = 100\n",
    "# Directory of images already resized on 256 x 256 \n",
    "images_dir_train = './data/images/all/image_train_resized/'\n",
    "#images_dir_train = 'E:/WorkSpace_DataScience_E/Rakuten_Projet_Local/My_WS/data/images/all/image_train_resized/'\n",
    "\n",
    "# Directory of images org resize 500 x 500\n",
    "#images_dir_train = './data/images/all/image_train/'\n",
    "#images_dir_train = 'E:/WorkSpace_DataScience_E/Rakuten_Projet_Local/My_WS/data/images/all/image_train/'"
   ]
  },
  {
   "cell_type": "code",
   "execution_count": 14,
   "id": "a997ecb5",
   "metadata": {},
   "outputs": [
    {
     "name": "stdout",
     "output_type": "stream",
     "text": [
      "Wall time: 0 ns\n"
     ]
    }
   ],
   "source": [
    "%%time\n",
    "#Générateur de données\n",
    "img_gen = ImageDataGenerator(rescale = 1/255, \n",
    "                             validation_split = 0.2)"
   ]
  },
  {
   "cell_type": "code",
   "execution_count": 15,
   "id": "e494d4f0",
   "metadata": {},
   "outputs": [
    {
     "name": "stdout",
     "output_type": "stream",
     "text": [
      "Found 67933 validated image filenames belonging to 27 classes.\n",
      "Wall time: 3.8 s\n"
     ]
    }
   ],
   "source": [
    "%%time\n",
    "\n",
    "#Itérateur \n",
    "train_generator = img_gen.flow_from_dataframe(dataframe = df_train_im,\n",
    "                                              directory = images_dir_train,\n",
    "                                              as_ext = True,\n",
    "                                              x_col = 'imagePath',\n",
    "                                              y_col = 'prdtypecode',  #target data                                            \n",
    "                                              class_mode = 'sparse',                                             \n",
    "                                              target_size = (img_rows , img_cols), # default 256 x 256                                             \n",
    "                                              batch_size = batch_size,                                             \n",
    "                                              shuffle = True, # défault\n",
    "                                              subset = 'training'\n",
    "                                             )"
   ]
  },
  {
   "cell_type": "code",
   "execution_count": 16,
   "id": "a8d5fe38",
   "metadata": {},
   "outputs": [
    {
     "name": "stdout",
     "output_type": "stream",
     "text": [
      "Found 16983 validated image filenames belonging to 27 classes.\n",
      "Wall time: 4.68 s\n"
     ]
    }
   ],
   "source": [
    "%%time\n",
    "# validation_split the validation batches ca be retrieved by specifying the subset as validation.\n",
    "valid_generator = img_gen.flow_from_dataframe(dataframe = df_train_im, \n",
    "                                              directory = images_dir_train,\n",
    "                                              as_ext = True,\n",
    "                                              x_col = 'imagePath',\n",
    "                                              y_col = 'prdtypecode',  #target data                                            \n",
    "                                              class_mode = 'sparse',                                        \n",
    "                                              target_size = (img_rows , img_cols), # default 256 x 256                                         \n",
    "                                              batch_size = batch_size, \n",
    "                                              shuffle = False,\n",
    "                                              subset  = 'validation'\n",
    "                                             )"
   ]
  },
  {
   "cell_type": "markdown",
   "id": "3241b27e",
   "metadata": {
    "id": "3241b27e"
   },
   "source": [
    " ***NASNetMobile Implementation***"
   ]
  },
  {
   "cell_type": "code",
   "execution_count": 17,
   "id": "1a56928f",
   "metadata": {
    "id": "1a56928f",
    "outputId": "3309c8d0-8391-4e65-82b1-1a57b201c975"
   },
   "outputs": [
    {
     "name": "stdout",
     "output_type": "stream",
     "text": [
      "Model: \"sequential\"\n",
      "_________________________________________________________________\n",
      "Layer (type)                 Output Shape              Param #   \n",
      "=================================================================\n",
      "NASNet (Functional)          (None, 7, 7, 1056)        4269716   \n",
      "_________________________________________________________________\n",
      "global_average_pooling2d (Gl (None, 1056)              0         \n",
      "_________________________________________________________________\n",
      "dense (Dense)                (None, 1024)              1082368   \n",
      "_________________________________________________________________\n",
      "dropout (Dropout)            (None, 1024)              0         \n",
      "_________________________________________________________________\n",
      "dense_1 (Dense)              (None, 512)               524800    \n",
      "_________________________________________________________________\n",
      "dropout_1 (Dropout)          (None, 512)               0         \n",
      "_________________________________________________________________\n",
      "dense_2 (Dense)              (None, 27)                13851     \n",
      "=================================================================\n",
      "Total params: 5,890,735\n",
      "Trainable params: 1,621,019\n",
      "Non-trainable params: 4,269,716\n",
      "_________________________________________________________________\n",
      "Wall time: 30.5 s\n"
     ]
    }
   ],
   "source": [
    "%%time\n",
    "# Chargement du modèle NASNetMobile\n",
    "nasNetMobile = NASNetMobile(weights='imagenet', include_top = False, input_shape=(img_rows,img_rows,3))\n",
    "#nasNetMobile = NASNetMobile(weights='imagenet', include_top = False)\n",
    "# Whith 266 x 256 ValueError: When setting `include_top=True` and loading `imagenet` weights, `input_shape` should be (224, 224, 3).\n",
    "#even include_top set to False!!!\n",
    "\n",
    "# Bloquage du blackbone\n",
    "for layer in nasNetMobile.layers:\n",
    "    layer.trainable = False\n",
    "    \n",
    "model = Sequential()\n",
    "model.add(nasNetMobile)\n",
    "# Ajout des couche de classification\n",
    "model.add(GlobalAveragePooling2D()) \n",
    "model.add(Dense(units = 1024,activation='relu'))\n",
    "\n",
    "model.add(Dropout(rate = 0.2))\n",
    "model.add(Dense(units = 512, activation='relu'))\n",
    "\n",
    "model.add(Dropout(rate = 0.2))\n",
    "model.add(Dense(units = 27, activation='softmax'))\n",
    "model.summary()"
   ]
  },
  {
   "cell_type": "markdown",
   "id": "233e26ad",
   "metadata": {},
   "source": [
    " ***Compilation***"
   ]
  },
  {
   "cell_type": "code",
   "execution_count": 18,
   "id": "9caba2fb",
   "metadata": {},
   "outputs": [
    {
     "name": "stdout",
     "output_type": "stream",
     "text": [
      "Wall time: 1.12 s\n"
     ]
    }
   ],
   "source": [
    "%%time\n",
    "# Compilation\n",
    "model.compile(loss='sparse_categorical_crossentropy',  # fonction de perte\n",
    "              optimizer= Adam(learning_rate= 1e-5) ,   #default lr = 0.001 # algorithme de descente de gradient\n",
    "              metrics=['accuracy'])                    # métrique d'évaluation"
   ]
  },
  {
   "cell_type": "markdown",
   "id": "6266d9a2",
   "metadata": {
    "id": "6266d9a2"
   },
   "source": [
    "***Callbacks***"
   ]
  },
  {
   "cell_type": "code",
   "execution_count": 20,
   "id": "dddb74c3",
   "metadata": {},
   "outputs": [],
   "source": [
    "def increasinglrUpdate(epoch, learning_rate):\n",
    "    if epoch ==0:\n",
    "        print(\"[INFO] : Starting : epoch: \", epoch , \"learning_rate : \", learning_rate)\n",
    "        return learning_rate\n",
    "    else:\n",
    "        lr_updated = 1e-5 * 100 ** (epoch / 37)\n",
    "        print(\"[INFO] : Learning rate updated from:\", learning_rate, 'to: ',  lr_updated)\n",
    "        return lr_updated"
   ]
  },
  {
   "cell_type": "code",
   "execution_count": 21,
   "id": "cd04edfd",
   "metadata": {
    "id": "cd04edfd",
    "outputId": "19043533-d360-4dfb-d821-8c8f39ea073b"
   },
   "outputs": [
    {
     "name": "stdout",
     "output_type": "stream",
     "text": [
      "Wall time: 0 ns\n"
     ]
    }
   ],
   "source": [
    "%%time\n",
    "path = './saves/NASNetMobile/Iteration_5_1/'\n",
    "file_name = 'checkpoint_NASNetMobile_09012020_100Epochs.h5'\n",
    "\n",
    "#Sauvegarder les meilleurs poids du modèle au cours de l'entraînement :\n",
    "checkpoint = ModelCheckpoint(filepath = path + file_name , \n",
    "                             monitor ='val_accuracy',                            \n",
    "                             save_best_only = True, # (pour que le meilleur modèle ne soit pas écrasé)\n",
    "                             save_weights_only = False,\n",
    "                             mode ='max', #(permet de préciser si la métrique doit croître ou décroitre : ici on choisit 'min'\n",
    "                                           #car la métrique est une perte à minimiser)\n",
    "                             save_freq='epoch',\n",
    "                             verbose = 1\n",
    "                             )\n",
    "#Arrêter l'entraînement si le modèle n'évolue plus (très pratique pour ne pas gérer le\n",
    "#nombre d'epoch) :\n",
    "early = EarlyStopping(monitor='val_loss',\n",
    "                      min_delta = 0.01, # si au bout de 5 epochs la fonction de perte ne varie pas de 1%, \n",
    "                                         # que ce soit à la hausse ou à la baisse, on arrête\n",
    "                      patience = 5, #(nombre d'epochs à attendre avant d'arrêter l'entraînement\n",
    "                      restore_best_weights = True,                     \n",
    "                      mode = 'min',\n",
    "                      verbose = 1,\n",
    "                      )\n",
    "#ReduceLROnPlateau. Lorsque qu'une métrique ne s'améliore plus d'une epoch à l'autre, \n",
    "#on peut diminuer le taux d'apprentissage (*Learning Rate*) pour y remédier. \n",
    "#Pour définir les critères et les conditions de réduction de taux d'apprentissage, \n",
    "#on peut utiliser les paramètres suivants : \n",
    "\n",
    "lr_plateau = ReduceLROnPlateau(monitor = 'val_loss',\n",
    "                               patience = 3,  #si val_loss stagne sur 3 epochs consécutives selon la valeur epsilon                            \n",
    "                               mode='min',\n",
    "                               min_delta = 0.01, # Si val loss n'a pas varié de 1 % on applique \n",
    "                               factor = 0.1,  # On réduit le learning rate d'un facteur 0.1 ( On divise le LR par 10)\n",
    "                               cooldown = 4, # On attend 4 epochs avant de réitérer.\n",
    "                                             #Nombre d'epochs de 'pause' entre deux mesures de suivis du *learning rate*.\n",
    "                               verbose=1\n",
    "                               )\n",
    "\n",
    "\n",
    "lrScheduler = LearningRateScheduler(schedule = increasinglrUpdate, verbose = 1)\n",
    "#lrScheduler = LearningRateScheduler(lambda epoch: 1e-3 * 10 ** (epoch / 37)\n",
    "#We’ll train the model for 100 epochs to test 100 different loss/learning rate combinations.\n",
    "#Here’s the range for the learning rate values: 1e-5 * 100 ** (0 / 37) and 1e-5 * 100 ** (100 / 37)\n",
    "# (1e-05, 2.543345761304648)"
   ]
  },
  {
   "cell_type": "markdown",
   "id": "5ab7aa20",
   "metadata": {
    "id": "5ab7aa20"
   },
   "source": [
    " ***Fit - train_generator***"
   ]
  },
  {
   "cell_type": "code",
   "execution_count": 22,
   "id": "95bc66c7",
   "metadata": {},
   "outputs": [
    {
     "name": "stdout",
     "output_type": "stream",
     "text": [
      "step_size_Train :  1061\n",
      "step_size_Valid  :  265\n"
     ]
    }
   ],
   "source": [
    "step_size_Train = train_generator.n//train_generator.batch_size\n",
    "step_size_Valid = valid_generator.n//valid_generator.batch_size\n",
    "print('step_size_Train : ' , step_size_Train)\n",
    "print('step_size_Valid  : ' , step_size_Valid)"
   ]
  },
  {
   "cell_type": "code",
   "execution_count": 23,
   "id": "6099def0",
   "metadata": {
    "id": "6099def0",
    "outputId": "7aa5fc74-d64e-47c2-dde0-0270be09fc24",
    "scrolled": true
   },
   "outputs": [
    {
     "name": "stdout",
     "output_type": "stream",
     "text": [
      "Epoch 1/100\n",
      "[INFO] : Starting : epoch:  0 learning_rate :  9.999999747378752e-06\n",
      "\n",
      "Epoch 00001: LearningRateScheduler setting learning rate to 9.999999747378752e-06.\n",
      "1061/1061 [==============================] - 211s 179ms/step - loss: 2.6205 - accuracy: 0.2712 - val_loss: 2.1534 - val_accuracy: 0.3998\n",
      "Epoch 2/100\n",
      "[INFO] : Learning rate updated from: 9.999999747378752e-06 to:  1.132541315152812e-05\n",
      "\n",
      "Epoch 00002: LearningRateScheduler setting learning rate to 1.132541315152812e-05.\n",
      "1061/1061 [==============================] - 142s 134ms/step - loss: 2.0974 - accuracy: 0.3947 - val_loss: 1.9072 - val_accuracy: 0.4430\n",
      "Epoch 3/100\n",
      "[INFO] : Learning rate updated from: 1.1325412742735352e-05 to:  1.2826498305280606e-05\n",
      "\n",
      "Epoch 00003: LearningRateScheduler setting learning rate to 1.2826498305280606e-05.\n",
      "1061/1061 [==============================] - 137s 129ms/step - loss: 1.9340 - accuracy: 0.4332 - val_loss: 1.7997 - val_accuracy: 0.4712\n",
      "Epoch 4/100\n",
      "[INFO] : Learning rate updated from: 1.2826498277718201e-05 to:  1.4526539259467809e-05\n",
      "\n",
      "Epoch 00004: LearningRateScheduler setting learning rate to 1.4526539259467809e-05.\n",
      "1061/1061 [==============================] - 138s 130ms/step - loss: 1.8406 - accuracy: 0.4589 - val_loss: 1.7386 - val_accuracy: 0.4880\n",
      "Epoch 5/100\n",
      "[INFO] : Learning rate updated from: 1.4526539416692685e-05 to:  1.6451905877536628e-05\n",
      "\n",
      "Epoch 00005: LearningRateScheduler setting learning rate to 1.6451905877536628e-05.\n",
      "1061/1061 [==============================] - 139s 131ms/step - loss: 1.7727 - accuracy: 0.4757 - val_loss: 1.6902 - val_accuracy: 0.5032\n",
      "Epoch 6/100\n",
      "[INFO] : Learning rate updated from: 1.645190604904201e-05 to:  1.8632463119315606e-05\n",
      "\n",
      "Epoch 00006: LearningRateScheduler setting learning rate to 1.8632463119315606e-05.\n",
      "1061/1061 [==============================] - 138s 130ms/step - loss: 1.7178 - accuracy: 0.4891 - val_loss: 1.6526 - val_accuracy: 0.5146\n",
      "Epoch 7/100\n",
      "[INFO] : Learning rate updated from: 1.863246325228829e-05 to:  2.1102034285685956e-05\n",
      "\n",
      "Epoch 00007: LearningRateScheduler setting learning rate to 2.1102034285685956e-05.\n",
      "1061/1061 [==============================] - 138s 130ms/step - loss: 1.6701 - accuracy: 0.5033 - val_loss: 1.6239 - val_accuracy: 0.5225\n",
      "Epoch 8/100\n",
      "[INFO] : Learning rate updated from: 2.110203422489576e-05 to:  2.38989256623105e-05\n",
      "\n",
      "Epoch 00008: LearningRateScheduler setting learning rate to 2.38989256623105e-05.\n",
      "1061/1061 [==============================] - 138s 130ms/step - loss: 1.6308 - accuracy: 0.5142 - val_loss: 1.5971 - val_accuracy: 0.5303\n",
      "Epoch 9/100\n",
      "[INFO] : Learning rate updated from: 2.3898925064713694e-05 to:  2.7066520700332418e-05\n",
      "\n",
      "Epoch 00009: LearningRateScheduler setting learning rate to 2.7066520700332418e-05.\n",
      "1061/1061 [==============================] - 139s 131ms/step - loss: 1.5879 - accuracy: 0.5262 - val_loss: 1.5737 - val_accuracy: 0.5333\n",
      "Epoch 10/100\n",
      "[INFO] : Learning rate updated from: 2.7066520488006063e-05 to:  3.065395295056528e-05\n",
      "\n",
      "Epoch 00010: LearningRateScheduler setting learning rate to 3.065395295056528e-05.\n",
      "1061/1061 [==============================] - 139s 131ms/step - loss: 1.5533 - accuracy: 0.5359 - val_loss: 1.5485 - val_accuracy: 0.5407\n",
      "Epoch 11/100\n",
      "[INFO] : Learning rate updated from: 3.065395139856264e-05 to:  3.4716868189265614e-05\n",
      "\n",
      "Epoch 00011: LearningRateScheduler setting learning rate to 3.4716868189265614e-05.\n",
      "1061/1061 [==============================] - 140s 132ms/step - loss: 1.5124 - accuracy: 0.5486 - val_loss: 1.5270 - val_accuracy: 0.5485\n",
      "Epoch 12/100\n",
      "[INFO] : Learning rate updated from: 3.471686795819551e-05 to:  3.93182875570577e-05\n",
      "\n",
      "Epoch 00012: LearningRateScheduler setting learning rate to 3.93182875570577e-05.\n",
      "1061/1061 [==============================] - 140s 132ms/step - loss: 1.4755 - accuracy: 0.5562 - val_loss: 1.5105 - val_accuracy: 0.5522\n",
      "Epoch 13/100\n",
      "[INFO] : Learning rate updated from: 3.931828905479051e-05 to:  4.452958509942655e-05\n",
      "\n",
      "Epoch 00013: LearningRateScheduler setting learning rate to 4.452958509942655e-05.\n",
      "1061/1061 [==============================] - 139s 131ms/step - loss: 1.4396 - accuracy: 0.5680 - val_loss: 1.4909 - val_accuracy: 0.5581\n",
      "Epoch 14/100\n",
      "[INFO] : Learning rate updated from: 4.452958455658518e-05 to:  5.043159487171361e-05\n",
      "\n",
      "Epoch 00014: LearningRateScheduler setting learning rate to 5.043159487171361e-05.\n",
      "1061/1061 [==============================] - 139s 131ms/step - loss: 1.4027 - accuracy: 0.5759 - val_loss: 1.4792 - val_accuracy: 0.5617\n",
      "Epoch 15/100\n",
      "[INFO] : Learning rate updated from: 5.043159399065189e-05 to:  5.711586478126433e-05\n",
      "\n",
      "Epoch 00015: LearningRateScheduler setting learning rate to 5.711586478126433e-05.\n",
      "1061/1061 [==============================] - 139s 131ms/step - loss: 1.3675 - accuracy: 0.5871 - val_loss: 1.4600 - val_accuracy: 0.5692\n",
      "Epoch 16/100\n",
      "[INFO] : Learning rate updated from: 5.7115863455692306e-05 to:  6.468607661546327e-05\n",
      "\n",
      "Epoch 00016: LearningRateScheduler setting learning rate to 6.468607661546327e-05.\n",
      "1061/1061 [==============================] - 139s 131ms/step - loss: 1.3307 - accuracy: 0.5977 - val_loss: 1.4498 - val_accuracy: 0.5722\n",
      "Epoch 17/100\n",
      "[INFO] : Learning rate updated from: 6.468607898568735e-05 to:  7.325965428215231e-05\n",
      "\n",
      "Epoch 00017: LearningRateScheduler setting learning rate to 7.325965428215231e-05.\n",
      "1061/1061 [==============================] - 140s 132ms/step - loss: 1.2909 - accuracy: 0.6104 - val_loss: 1.4409 - val_accuracy: 0.5718\n",
      "Epoch 18/100\n",
      "[INFO] : Learning rate updated from: 7.325965270865709e-05 to:  8.29695852083491e-05\n",
      "\n",
      "Epoch 00018: LearningRateScheduler setting learning rate to 8.29695852083491e-05.\n",
      "1061/1061 [==============================] - 139s 131ms/step - loss: 1.2532 - accuracy: 0.6202 - val_loss: 1.4295 - val_accuracy: 0.5782\n",
      "Epoch 19/100\n",
      "[INFO] : Learning rate updated from: 8.296958549181e-05 to:  9.396648314954697e-05\n",
      "\n",
      "Epoch 00019: LearningRateScheduler setting learning rate to 9.396648314954697e-05.\n",
      "1061/1061 [==============================] - 139s 131ms/step - loss: 1.2104 - accuracy: 0.6307 - val_loss: 1.4180 - val_accuracy: 0.5819\n",
      "Epoch 20/100\n",
      "[INFO] : Learning rate updated from: 9.396648238180205e-05 to:  0.00010642092440647242\n",
      "\n",
      "Epoch 00020: LearningRateScheduler setting learning rate to 0.00010642092440647242.\n",
      "1061/1061 [==============================] - 140s 132ms/step - loss: 1.1682 - accuracy: 0.6412 - val_loss: 1.4061 - val_accuracy: 0.5842\n",
      "Epoch 21/100\n",
      "[INFO] : Learning rate updated from: 0.00010642092092894018 to:  0.00012052609368708427\n",
      "\n",
      "Epoch 00021: LearningRateScheduler setting learning rate to 0.00012052609368708427.\n",
      "1061/1061 [==============================] - 141s 133ms/step - loss: 1.1290 - accuracy: 0.6537 - val_loss: 1.4251 - val_accuracy: 0.5814\n",
      "Epoch 22/100\n",
      "[INFO] : Learning rate updated from: 0.00012052609235979617 to:  0.00013650078065460138\n",
      "\n",
      "Epoch 00022: LearningRateScheduler setting learning rate to 0.00013650078065460138.\n",
      "1061/1061 [==============================] - 136s 128ms/step - loss: 1.0864 - accuracy: 0.6618 - val_loss: 1.4316 - val_accuracy: 0.5848\n",
      "Epoch 23/100\n",
      "[INFO] : Learning rate updated from: 0.0001365007774438709 to:  0.00015459277364194779\n",
      "\n",
      "Epoch 00023: LearningRateScheduler setting learning rate to 0.00015459277364194779.\n",
      "1061/1061 [==============================] - 138s 130ms/step - loss: 1.0444 - accuracy: 0.6737 - val_loss: 1.4327 - val_accuracy: 0.5850\n",
      "Epoch 24/100\n",
      "[INFO] : Learning rate updated from: 0.00015459278074558824 to:  0.00017508270317357244\n",
      "\n",
      "Epoch 00024: LearningRateScheduler setting learning rate to 0.00017508270317357244.\n",
      "1061/1061 [==============================] - 137s 129ms/step - loss: 1.0037 - accuracy: 0.6871 - val_loss: 1.4269 - val_accuracy: 0.5889\n",
      "Epoch 25/100\n",
      "[INFO] : Learning rate updated from: 0.0001750827068462968 to:  0.00019828839491270716\n",
      "\n",
      "Epoch 00025: LearningRateScheduler setting learning rate to 0.00019828839491270716.\n",
      "1061/1061 [==============================] - 138s 130ms/step - loss: 0.9599 - accuracy: 0.6972 - val_loss: 1.4476 - val_accuracy: 0.5881\n",
      "Epoch 26/100\n",
      "[INFO] : Learning rate updated from: 0.00019828839867841452 to:  0.0002245697995539774\n",
      "\n",
      "Epoch 00026: LearningRateScheduler setting learning rate to 0.0002245697995539774.\n",
      "1061/1061 [==============================] - 138s 130ms/step - loss: 0.9205 - accuracy: 0.7085 - val_loss: 1.4894 - val_accuracy: 0.5853\n",
      "Epoch 27/100\n",
      "[INFO] : Learning rate updated from: 0.0002245697978651151 to:  0.000254334576130465\n",
      "\n",
      "Epoch 00027: LearningRateScheduler setting learning rate to 0.000254334576130465.\n",
      "1061/1061 [==============================] - 138s 130ms/step - loss: 0.8899 - accuracy: 0.7140 - val_loss: 1.4811 - val_accuracy: 0.5862\n",
      "Epoch 28/100\n",
      "[INFO] : Learning rate updated from: 0.000254334561759606 to:  0.00028804441533962965\n",
      "\n",
      "Epoch 00028: LearningRateScheduler setting learning rate to 0.00028804441533962965.\n",
      "1061/1061 [==============================] - 138s 130ms/step - loss: 0.8523 - accuracy: 0.7258 - val_loss: 1.5036 - val_accuracy: 0.5862\n",
      "Epoch 29/100\n",
      "[INFO] : Learning rate updated from: 0.0002880444226320833 to:  0.000326222200971167\n",
      "\n",
      "Epoch 00029: LearningRateScheduler setting learning rate to 0.000326222200971167.\n",
      "1061/1061 [==============================] - 141s 132ms/step - loss: 0.8294 - accuracy: 0.7316 - val_loss: 1.5367 - val_accuracy: 0.5813\n",
      "Epoch 30/100\n",
      "[INFO] : Learning rate updated from: 0.0003262221871409565 to:  0.00036946012051993025\n",
      "\n",
      "Epoch 00030: LearningRateScheduler setting learning rate to 0.00036946012051993025.\n",
      "1061/1061 [==============================] - 139s 131ms/step - loss: 0.8128 - accuracy: 0.7364 - val_loss: 1.5518 - val_accuracy: 0.5813\n",
      "Epoch 31/100\n",
      "[INFO] : Learning rate updated from: 0.0003694601182360202 to:  0.00041842885079015825\n",
      "\n",
      "Epoch 00031: LearningRateScheduler setting learning rate to 0.00041842885079015825.\n",
      "1061/1061 [==============================] - 138s 130ms/step - loss: 0.7993 - accuracy: 0.7392 - val_loss: 1.5682 - val_accuracy: 0.5825\n",
      "Epoch 32/100\n",
      "[INFO] : Learning rate updated from: 0.00041842885548248887 to:  0.0004738879609717654\n",
      "\n",
      "Epoch 00032: LearningRateScheduler setting learning rate to 0.0004738879609717654.\n",
      "1061/1061 [==============================] - 137s 129ms/step - loss: 0.7982 - accuracy: 0.7395 - val_loss: 1.5818 - val_accuracy: 0.5804\n",
      "Epoch 33/100\n",
      "[INFO] : Learning rate updated from: 0.00047388795064762235 to:  0.0005366976945540477\n",
      "\n",
      "Epoch 00033: LearningRateScheduler setting learning rate to 0.0005366976945540477.\n",
      "1061/1061 [==============================] - 137s 129ms/step - loss: 0.8018 - accuracy: 0.7374 - val_loss: 1.6233 - val_accuracy: 0.5787\n",
      "Epoch 34/100\n",
      "[INFO] : Learning rate updated from: 0.0005366976838558912 to:  0.000607832312829723\n",
      "\n",
      "Epoch 00034: LearningRateScheduler setting learning rate to 0.000607832312829723.\n",
      "1061/1061 [==============================] - 137s 129ms/step - loss: 0.8033 - accuracy: 0.7368 - val_loss: 1.6435 - val_accuracy: 0.5709\n",
      "Epoch 35/100\n",
      "[INFO] : Learning rate updated from: 0.0006078323349356651 to:  0.0006883952069645501\n",
      "\n",
      "Epoch 00035: LearningRateScheduler setting learning rate to 0.0006883952069645501.\n",
      "1061/1061 [==============================] - 138s 130ms/step - loss: 0.8233 - accuracy: 0.7323 - val_loss: 1.6077 - val_accuracy: 0.5727\n",
      "Epoch 36/100\n",
      "[INFO] : Learning rate updated from: 0.0006883952300995588 to:  0.0007796360130405234\n",
      "\n",
      "Epoch 00036: LearningRateScheduler setting learning rate to 0.0007796360130405234.\n",
      "1061/1061 [==============================] - 137s 129ms/step - loss: 0.8460 - accuracy: 0.7229 - val_loss: 1.6770 - val_accuracy: 0.5670\n",
      "Epoch 37/100\n",
      "[INFO] : Learning rate updated from: 0.0007796360296197236 to:  0.0008829699955494093\n",
      "\n",
      "Epoch 00037: LearningRateScheduler setting learning rate to 0.0008829699955494093.\n",
      "1061/1061 [==============================] - 137s 129ms/step - loss: 0.8790 - accuracy: 0.7119 - val_loss: 1.6354 - val_accuracy: 0.5675\n",
      "Epoch 38/100\n",
      "[INFO] : Learning rate updated from: 0.0008829699945636094 to:  0.001\n",
      "\n",
      "Epoch 00038: LearningRateScheduler setting learning rate to 0.001.\n",
      "1061/1061 [==============================] - 139s 131ms/step - loss: 0.9078 - accuracy: 0.7040 - val_loss: 1.6314 - val_accuracy: 0.5665\n",
      "Epoch 39/100\n",
      "[INFO] : Learning rate updated from: 0.0010000000474974513 to:  0.0011325413151528115\n",
      "\n",
      "Epoch 00039: LearningRateScheduler setting learning rate to 0.0011325413151528115.\n",
      "1061/1061 [==============================] - 139s 131ms/step - loss: 0.9445 - accuracy: 0.6944 - val_loss: 1.6283 - val_accuracy: 0.5630\n",
      "Epoch 40/100\n",
      "[INFO] : Learning rate updated from: 0.001132541336119175 to:  0.00128264983052806\n",
      "\n",
      "Epoch 00040: LearningRateScheduler setting learning rate to 0.00128264983052806.\n",
      "1061/1061 [==============================] - 137s 129ms/step - loss: 0.9958 - accuracy: 0.6816 - val_loss: 1.6553 - val_accuracy: 0.5511\n",
      "Epoch 41/100\n",
      "[INFO] : Learning rate updated from: 0.001282649813219905 to:  0.0014526539259467814\n",
      "\n",
      "Epoch 00041: LearningRateScheduler setting learning rate to 0.0014526539259467814.\n",
      "1061/1061 [==============================] - 138s 130ms/step - loss: 1.0467 - accuracy: 0.6659 - val_loss: 1.6303 - val_accuracy: 0.5515\n",
      "Epoch 42/100\n",
      "[INFO] : Learning rate updated from: 0.0014526539016515017 to:  0.0016451905877536625\n",
      "\n",
      "Epoch 00042: LearningRateScheduler setting learning rate to 0.0016451905877536625.\n",
      "1061/1061 [==============================] - 137s 129ms/step - loss: 1.1229 - accuracy: 0.6466 - val_loss: 1.5913 - val_accuracy: 0.5524\n",
      "Epoch 43/100\n",
      "[INFO] : Learning rate updated from: 0.001645190641283989 to:  0.00186324631193156\n",
      "\n",
      "Epoch 00043: LearningRateScheduler setting learning rate to 0.00186324631193156.\n",
      "1061/1061 [==============================] - 137s 129ms/step - loss: 1.1876 - accuracy: 0.6281 - val_loss: 1.6194 - val_accuracy: 0.5499\n",
      "Epoch 44/100\n",
      "[INFO] : Learning rate updated from: 0.0018632463179528713 to:  0.0021102034285685944\n",
      "\n",
      "Epoch 00044: LearningRateScheduler setting learning rate to 0.0021102034285685944.\n",
      "1061/1061 [==============================] - 138s 130ms/step - loss: 1.2724 - accuracy: 0.6078 - val_loss: 1.6172 - val_accuracy: 0.5424\n",
      "Epoch 45/100\n",
      "[INFO] : Learning rate updated from: 0.002110203495249152 to:  0.0023898925662310506\n",
      "\n",
      "Epoch 00045: LearningRateScheduler setting learning rate to 0.0023898925662310506.\n",
      "1061/1061 [==============================] - 138s 130ms/step - loss: 1.3475 - accuracy: 0.5890 - val_loss: 1.6130 - val_accuracy: 0.5414\n",
      "Epoch 46/100\n",
      "[INFO] : Learning rate updated from: 0.0023898924700915813 to:  0.0027066520700332417\n",
      "\n",
      "Epoch 00046: LearningRateScheduler setting learning rate to 0.0027066520700332417.\n",
      "1061/1061 [==============================] - 137s 129ms/step - loss: 1.4427 - accuracy: 0.5667 - val_loss: 1.6446 - val_accuracy: 0.5196\n",
      "Epoch 47/100\n",
      "[INFO] : Learning rate updated from: 0.0027066520415246487 to:  0.0030653952950565272\n",
      "\n",
      "Epoch 00047: LearningRateScheduler setting learning rate to 0.0030653952950565272.\n",
      "1061/1061 [==============================] - 138s 130ms/step - loss: 1.5409 - accuracy: 0.5454 - val_loss: 1.6781 - val_accuracy: 0.5168\n",
      "Epoch 48/100\n",
      "[INFO] : Learning rate updated from: 0.003065395401790738 to:  0.00347168681892656\n",
      "\n",
      "Epoch 00048: LearningRateScheduler setting learning rate to 0.00347168681892656.\n",
      "1061/1061 [==============================] - 138s 130ms/step - loss: 1.6238 - accuracy: 0.5276 - val_loss: 1.7120 - val_accuracy: 0.5050\n",
      "Epoch 49/100\n",
      "[INFO] : Learning rate updated from: 0.00347168673761189 to:  0.003931828755705771\n",
      "\n",
      "Epoch 00049: LearningRateScheduler setting learning rate to 0.003931828755705771.\n",
      "1061/1061 [==============================] - 137s 129ms/step - loss: 1.6936 - accuracy: 0.5105 - val_loss: 1.7373 - val_accuracy: 0.4937\n",
      "Epoch 50/100\n",
      "[INFO] : Learning rate updated from: 0.003931828774511814 to:  0.004452958509942656\n",
      "\n",
      "Epoch 00050: LearningRateScheduler setting learning rate to 0.004452958509942656.\n",
      "1061/1061 [==============================] - 138s 130ms/step - loss: 1.7515 - accuracy: 0.4964 - val_loss: 1.7653 - val_accuracy: 0.5001\n",
      "Epoch 51/100\n",
      "[INFO] : Learning rate updated from: 0.004452958703041077 to:  0.005043159487171359\n",
      "\n",
      "Epoch 00051: LearningRateScheduler setting learning rate to 0.005043159487171359.\n",
      "1061/1061 [==============================] - 138s 130ms/step - loss: 1.8013 - accuracy: 0.4857 - val_loss: 1.7815 - val_accuracy: 0.4974\n",
      "Epoch 52/100\n",
      "[INFO] : Learning rate updated from: 0.005043159704655409 to:  0.005711586478126429\n",
      "\n",
      "Epoch 00052: LearningRateScheduler setting learning rate to 0.005711586478126429.\n"
     ]
    },
    {
     "name": "stdout",
     "output_type": "stream",
     "text": [
      "1061/1061 [==============================] - 137s 129ms/step - loss: 1.8291 - accuracy: 0.4804 - val_loss: 1.7790 - val_accuracy: 0.5027\n",
      "Epoch 53/100\n",
      "[INFO] : Learning rate updated from: 0.005711586680263281 to:  0.0064686076615463285\n",
      "\n",
      "Epoch 00053: LearningRateScheduler setting learning rate to 0.0064686076615463285.\n",
      "1061/1061 [==============================] - 138s 130ms/step - loss: 1.8759 - accuracy: 0.4637 - val_loss: 1.7746 - val_accuracy: 0.4920\n",
      "Epoch 54/100\n",
      "[INFO] : Learning rate updated from: 0.0064686075784265995 to:  0.007325965428215231\n",
      "\n",
      "Epoch 00054: LearningRateScheduler setting learning rate to 0.007325965428215231.\n",
      "1061/1061 [==============================] - 138s 130ms/step - loss: 1.9073 - accuracy: 0.4570 - val_loss: 1.8414 - val_accuracy: 0.4731\n",
      "Epoch 55/100\n",
      "[INFO] : Learning rate updated from: 0.007325965445488691 to:  0.008296958520834907\n",
      "\n",
      "Epoch 00055: LearningRateScheduler setting learning rate to 0.008296958520834907.\n",
      "1061/1061 [==============================] - 138s 130ms/step - loss: 1.9771 - accuracy: 0.4373 - val_loss: 1.8848 - val_accuracy: 0.4609\n",
      "Epoch 56/100\n",
      "[INFO] : Learning rate updated from: 0.008296958170831203 to:  0.009396648314954691\n",
      "\n",
      "Epoch 00056: LearningRateScheduler setting learning rate to 0.009396648314954691.\n",
      "1061/1061 [==============================] - 139s 131ms/step - loss: 2.0245 - accuracy: 0.4222 - val_loss: 1.8816 - val_accuracy: 0.4605\n",
      "Epoch 57/100\n",
      "[INFO] : Learning rate updated from: 0.009396648034453392 to:  0.010642092440647247\n",
      "\n",
      "Epoch 00057: LearningRateScheduler setting learning rate to 0.010642092440647247.\n",
      "1061/1061 [==============================] - 138s 130ms/step - loss: 2.1024 - accuracy: 0.4020 - val_loss: 2.1006 - val_accuracy: 0.3774\n",
      "Epoch 58/100\n",
      "[INFO] : Learning rate updated from: 0.010642092674970627 to:  0.012052609368708427\n",
      "\n",
      "Epoch 00058: LearningRateScheduler setting learning rate to 0.012052609368708427.\n",
      "1061/1061 [==============================] - 139s 131ms/step - loss: 2.1836 - accuracy: 0.3783 - val_loss: 2.0166 - val_accuracy: 0.4218\n",
      "Epoch 59/100\n",
      "[INFO] : Learning rate updated from: 0.012052609585225582 to:  0.01365007806546014\n",
      "\n",
      "Epoch 00059: LearningRateScheduler setting learning rate to 0.01365007806546014.\n",
      "1061/1061 [==============================] - 140s 132ms/step - loss: 2.2480 - accuracy: 0.3562 - val_loss: 2.1325 - val_accuracy: 0.3942\n",
      "Epoch 60/100\n",
      "[INFO] : Learning rate updated from: 0.0136500783264637 to:  0.015459277364194772\n",
      "\n",
      "Epoch 00060: LearningRateScheduler setting learning rate to 0.015459277364194772.\n",
      "1061/1061 [==============================] - 137s 129ms/step - loss: 2.3366 - accuracy: 0.3252 - val_loss: 2.1009 - val_accuracy: 0.3792\n",
      "Epoch 61/100\n",
      "[INFO] : Learning rate updated from: 0.015459277667105198 to:  0.01750827031735725\n",
      "\n",
      "Epoch 00061: LearningRateScheduler setting learning rate to 0.01750827031735725.\n",
      "1061/1061 [==============================] - 137s 129ms/step - loss: 2.4174 - accuracy: 0.2969 - val_loss: 2.2229 - val_accuracy: 0.3514\n",
      "Epoch 62/100\n",
      "[INFO] : Learning rate updated from: 0.01750827021896839 to:  0.019828839491270716\n",
      "\n",
      "Epoch 00062: LearningRateScheduler setting learning rate to 0.019828839491270716.\n",
      "1061/1061 [==============================] - 140s 132ms/step - loss: 2.4831 - accuracy: 0.2740 - val_loss: 2.3705 - val_accuracy: 0.3199\n",
      "Epoch 63/100\n",
      "[INFO] : Learning rate updated from: 0.019828839227557182 to:  0.022456979955397742\n",
      "\n",
      "Epoch 00063: LearningRateScheduler setting learning rate to 0.022456979955397742.\n",
      "1061/1061 [==============================] - 138s 130ms/step - loss: 2.6033 - accuracy: 0.2465 - val_loss: 2.5341 - val_accuracy: 0.2601\n",
      "Epoch 64/100\n",
      "[INFO] : Learning rate updated from: 0.022456979379057884 to:  0.02543345761304648\n",
      "\n",
      "Epoch 00064: LearningRateScheduler setting learning rate to 0.02543345761304648.\n",
      "1061/1061 [==============================] - 139s 131ms/step - loss: 2.7563 - accuracy: 0.1962 - val_loss: 2.6185 - val_accuracy: 0.2253\n",
      "Epoch 65/100\n",
      "[INFO] : Learning rate updated from: 0.025433458387851715 to:  0.028804441533962978\n",
      "\n",
      "Epoch 00065: LearningRateScheduler setting learning rate to 0.028804441533962978.\n",
      "1061/1061 [==============================] - 140s 132ms/step - loss: 2.7232 - accuracy: 0.1935 - val_loss: 2.6316 - val_accuracy: 0.2196\n",
      "Epoch 66/100\n",
      "[INFO] : Learning rate updated from: 0.028804441913962364 to:  0.0326222200971167\n",
      "\n",
      "Epoch 00066: LearningRateScheduler setting learning rate to 0.0326222200971167.\n",
      "1061/1061 [==============================] - 139s 131ms/step - loss: 2.7518 - accuracy: 0.1927 - val_loss: 2.6622 - val_accuracy: 0.2132\n",
      "Epoch 67/100\n",
      "[INFO] : Learning rate updated from: 0.03262222185730934 to:  0.03694601205199303\n",
      "\n",
      "Epoch 00067: LearningRateScheduler setting learning rate to 0.03694601205199303.\n",
      "1061/1061 [==============================] - 138s 130ms/step - loss: 2.8036 - accuracy: 0.1769 - val_loss: 2.7672 - val_accuracy: 0.1736\n",
      "Epoch 68/100\n",
      "[INFO] : Learning rate updated from: 0.03694601356983185 to:  0.04184288507901581\n",
      "\n",
      "Epoch 00068: LearningRateScheduler setting learning rate to 0.04184288507901581.\n",
      "1061/1061 [==============================] - 138s 130ms/step - loss: 2.8755 - accuracy: 0.1581 - val_loss: 3.1038 - val_accuracy: 0.1215\n",
      "Epoch 69/100\n",
      "[INFO] : Learning rate updated from: 0.04184288531541824 to:  0.04738879609717656\n",
      "\n",
      "Epoch 00069: LearningRateScheduler setting learning rate to 0.04738879609717656.\n",
      "1061/1061 [==============================] - 138s 130ms/step - loss: 2.9422 - accuracy: 0.1490 - val_loss: 2.7972 - val_accuracy: 0.1695\n",
      "Epoch 70/100\n",
      "[INFO] : Learning rate updated from: 0.047388795763254166 to:  0.05366976945540476\n",
      "\n",
      "Epoch 00070: LearningRateScheduler setting learning rate to 0.05366976945540476.\n",
      "1061/1061 [==============================] - 137s 129ms/step - loss: 2.8411 - accuracy: 0.1578 - val_loss: 2.9375 - val_accuracy: 0.1458\n",
      "Epoch 71/100\n",
      "[INFO] : Learning rate updated from: 0.0536697693169117 to:  0.060783231282972305\n",
      "\n",
      "Epoch 00071: LearningRateScheduler setting learning rate to 0.060783231282972305.\n",
      "1061/1061 [==============================] - 139s 131ms/step - loss: 3.0035 - accuracy: 0.1397 - val_loss: 3.0986 - val_accuracy: 0.1232\n",
      "Epoch 72/100\n",
      "[INFO] : Learning rate updated from: 0.060783229768276215 to:  0.06883952069645496\n",
      "\n",
      "Epoch 00072: LearningRateScheduler setting learning rate to 0.06883952069645496.\n",
      "1061/1061 [==============================] - 138s 130ms/step - loss: 2.8832 - accuracy: 0.1549 - val_loss: 2.7865 - val_accuracy: 0.1710\n",
      "Epoch 73/100\n",
      "[INFO] : Learning rate updated from: 0.06883952021598816 to:  0.07796360130405237\n",
      "\n",
      "Epoch 00073: LearningRateScheduler setting learning rate to 0.07796360130405237.\n",
      "1061/1061 [==============================] - 136s 128ms/step - loss: 2.9387 - accuracy: 0.1428 - val_loss: 2.8520 - val_accuracy: 0.1703\n",
      "Epoch 74/100\n",
      "[INFO] : Learning rate updated from: 0.07796359807252884 to:  0.08829699955494093\n",
      "\n",
      "Epoch 00074: LearningRateScheduler setting learning rate to 0.08829699955494093.\n",
      "1061/1061 [==============================] - 138s 130ms/step - loss: 2.9347 - accuracy: 0.1495 - val_loss: 2.8066 - val_accuracy: 0.1475\n",
      "Epoch 75/100\n",
      "[INFO] : Learning rate updated from: 0.08829700201749802 to:  0.1\n",
      "\n",
      "Epoch 00075: LearningRateScheduler setting learning rate to 0.1.\n",
      "1061/1061 [==============================] - 137s 129ms/step - loss: 3.0756 - accuracy: 0.1366 - val_loss: 2.9262 - val_accuracy: 0.1458\n",
      "Epoch 76/100\n",
      "[INFO] : Learning rate updated from: 0.10000000149011612 to:  0.11325413151528127\n",
      "\n",
      "Epoch 00076: LearningRateScheduler setting learning rate to 0.11325413151528127.\n",
      "1061/1061 [==============================] - 136s 128ms/step - loss: 3.2859 - accuracy: 0.1259 - val_loss: 3.1088 - val_accuracy: 0.1214\n",
      "Epoch 77/100\n",
      "[INFO] : Learning rate updated from: 0.1132541298866272 to:  0.12826498305280598\n",
      "\n",
      "Epoch 00077: LearningRateScheduler setting learning rate to 0.12826498305280598.\n",
      "1061/1061 [==============================] - 138s 130ms/step - loss: 3.1187 - accuracy: 0.1192 - val_loss: 3.1121 - val_accuracy: 0.1214\n",
      "Epoch 78/100\n",
      "[INFO] : Learning rate updated from: 0.12826497852802277 to:  0.14526539259467813\n",
      "\n",
      "Epoch 00078: LearningRateScheduler setting learning rate to 0.14526539259467813.\n",
      "1061/1061 [==============================] - 137s 129ms/step - loss: 3.1147 - accuracy: 0.1193 - val_loss: 3.1104 - val_accuracy: 0.1214\n",
      "Epoch 79/100\n",
      "[INFO] : Learning rate updated from: 0.1452653855085373 to:  0.16451905877536607\n",
      "\n",
      "Epoch 00079: LearningRateScheduler setting learning rate to 0.16451905877536607.\n",
      "1061/1061 [==============================] - 137s 129ms/step - loss: 3.1199 - accuracy: 0.1191 - val_loss: 3.1085 - val_accuracy: 0.1214\n",
      "Epoch 80/100\n",
      "[INFO] : Learning rate updated from: 0.1645190566778183 to:  0.186324631193156\n",
      "\n",
      "Epoch 00080: LearningRateScheduler setting learning rate to 0.186324631193156.\n",
      "1061/1061 [==============================] - 137s 129ms/step - loss: 3.1210 - accuracy: 0.1169 - val_loss: 3.1170 - val_accuracy: 0.1214\n",
      "Epoch 81/100\n",
      "[INFO] : Learning rate updated from: 0.18632462620735168 to:  0.21102034285685967\n",
      "\n",
      "Epoch 00081: LearningRateScheduler setting learning rate to 0.21102034285685967.\n",
      "1061/1061 [==============================] - 137s 129ms/step - loss: 3.1235 - accuracy: 0.1168 - val_loss: 3.1142 - val_accuracy: 0.1214\n",
      "Epoch 82/100\n",
      "[INFO] : Learning rate updated from: 0.2110203355550766 to:  0.2389892566231048\n",
      "\n",
      "Epoch 00082: LearningRateScheduler setting learning rate to 0.2389892566231048.\n",
      "1061/1061 [==============================] - 137s 129ms/step - loss: 3.1274 - accuracy: 0.1188 - val_loss: 3.1466 - val_accuracy: 0.1214\n",
      "Epoch 83/100\n",
      "[INFO] : Learning rate updated from: 0.23898926377296448 to:  0.27066520700332414\n",
      "\n",
      "Epoch 00083: LearningRateScheduler setting learning rate to 0.27066520700332414.\n",
      "1061/1061 [==============================] - 137s 129ms/step - loss: 3.1334 - accuracy: 0.1137 - val_loss: 3.1227 - val_accuracy: 0.1214\n",
      "Epoch 84/100\n",
      "[INFO] : Learning rate updated from: 0.2706651985645294 to:  0.306539529505653\n",
      "\n",
      "Epoch 00084: LearningRateScheduler setting learning rate to 0.306539529505653.\n",
      "1061/1061 [==============================] - 137s 129ms/step - loss: 3.1382 - accuracy: 0.1136 - val_loss: 3.1514 - val_accuracy: 0.1214\n",
      "Epoch 85/100\n",
      "[INFO] : Learning rate updated from: 0.30653953552246094 to:  0.347168681892656\n",
      "\n",
      "Epoch 00085: LearningRateScheduler setting learning rate to 0.347168681892656.\n",
      "1061/1061 [==============================] - 137s 129ms/step - loss: 3.1422 - accuracy: 0.1109 - val_loss: 3.1460 - val_accuracy: 0.1214\n",
      "Epoch 86/100\n",
      "[INFO] : Learning rate updated from: 0.3471686840057373 to:  0.3931828755705771\n",
      "\n",
      "Epoch 00086: LearningRateScheduler setting learning rate to 0.3931828755705771.\n",
      "1061/1061 [==============================] - 137s 129ms/step - loss: 3.1483 - accuracy: 0.1100 - val_loss: 3.1183 - val_accuracy: 0.1214\n",
      "Epoch 87/100\n",
      "[INFO] : Learning rate updated from: 0.3931828737258911 to:  0.4452958509942651\n",
      "\n",
      "Epoch 00087: LearningRateScheduler setting learning rate to 0.4452958509942651.\n",
      "1061/1061 [==============================] - 136s 128ms/step - loss: 3.1515 - accuracy: 0.1106 - val_loss: 3.1826 - val_accuracy: 0.0552\n",
      "Epoch 88/100\n",
      "[INFO] : Learning rate updated from: 0.4452958405017853 to:  0.5043159487171359\n",
      "\n",
      "Epoch 00088: LearningRateScheduler setting learning rate to 0.5043159487171359.\n",
      "1061/1061 [==============================] - 136s 128ms/step - loss: 3.1636 - accuracy: 0.1042 - val_loss: 3.1533 - val_accuracy: 0.0602\n",
      "Epoch 89/100\n",
      "[INFO] : Learning rate updated from: 0.504315972328186 to:  0.5711586478126435\n",
      "\n",
      "Epoch 00089: LearningRateScheduler setting learning rate to 0.5711586478126435.\n",
      "1061/1061 [==============================] - 137s 129ms/step - loss: 3.1709 - accuracy: 0.1053 - val_loss: 3.1478 - val_accuracy: 0.1214\n",
      "Epoch 90/100\n",
      "[INFO] : Learning rate updated from: 0.5711586475372314 to:  0.6468607661546322\n",
      "\n",
      "Epoch 00090: LearningRateScheduler setting learning rate to 0.6468607661546322.\n",
      "1061/1061 [==============================] - 137s 129ms/step - loss: 3.1878 - accuracy: 0.1031 - val_loss: 3.1521 - val_accuracy: 0.1214\n",
      "Epoch 91/100\n",
      "[INFO] : Learning rate updated from: 0.6468607783317566 to:  0.7325965428215231\n",
      "\n",
      "Epoch 00091: LearningRateScheduler setting learning rate to 0.7325965428215231.\n",
      "1061/1061 [==============================] - 137s 129ms/step - loss: 3.1929 - accuracy: 0.0990 - val_loss: 3.1853 - val_accuracy: 0.1214\n",
      "Epoch 92/100\n",
      "[INFO] : Learning rate updated from: 0.7325965166091919 to:  0.8296958520834915\n",
      "\n",
      "Epoch 00092: LearningRateScheduler setting learning rate to 0.8296958520834915.\n",
      "1061/1061 [==============================] - 138s 130ms/step - loss: 3.2003 - accuracy: 0.0972 - val_loss: 3.1513 - val_accuracy: 0.1214\n",
      "Epoch 93/100\n",
      "[INFO] : Learning rate updated from: 0.8296958804130554 to:  0.9396648314954692\n",
      "\n",
      "Epoch 00093: LearningRateScheduler setting learning rate to 0.9396648314954692.\n",
      "1061/1061 [==============================] - 139s 131ms/step - loss: 3.2464 - accuracy: 0.0941 - val_loss: 3.2423 - val_accuracy: 0.1214\n",
      "Epoch 94/100\n",
      "[INFO] : Learning rate updated from: 0.9396648406982422 to:  1.0642092440647246\n",
      "\n",
      "Epoch 00094: LearningRateScheduler setting learning rate to 1.0642092440647246.\n",
      "1061/1061 [==============================] - 136s 128ms/step - loss: 3.2340 - accuracy: 0.0927 - val_loss: 3.1760 - val_accuracy: 0.1214\n",
      "Epoch 95/100\n",
      "[INFO] : Learning rate updated from: 1.064209222793579 to:  1.2052609368708416\n",
      "\n",
      "Epoch 00095: LearningRateScheduler setting learning rate to 1.2052609368708416.\n",
      "1061/1061 [==============================] - 138s 130ms/step - loss: 3.2413 - accuracy: 0.0924 - val_loss: 3.2154 - val_accuracy: 0.1214\n",
      "Epoch 96/100\n",
      "[INFO] : Learning rate updated from: 1.205260992050171 to:  1.3650078065460138\n",
      "\n",
      "Epoch 00096: LearningRateScheduler setting learning rate to 1.3650078065460138.\n",
      "1061/1061 [==============================] - 137s 129ms/step - loss: 3.2697 - accuracy: 0.0907 - val_loss: 3.3324 - val_accuracy: 0.0567\n",
      "Epoch 97/100\n",
      "[INFO] : Learning rate updated from: 1.365007758140564 to:  1.5459277364194788\n",
      "\n",
      "Epoch 00097: LearningRateScheduler setting learning rate to 1.5459277364194788.\n",
      "1061/1061 [==============================] - 137s 129ms/step - loss: 3.2804 - accuracy: 0.0875 - val_loss: 3.2605 - val_accuracy: 0.0552\n",
      "Epoch 98/100\n",
      "[INFO] : Learning rate updated from: 1.5459277629852295 to:  1.7508270317357235\n",
      "\n",
      "Epoch 00098: LearningRateScheduler setting learning rate to 1.7508270317357235.\n",
      "1061/1061 [==============================] - 137s 129ms/step - loss: 3.3066 - accuracy: 0.0858 - val_loss: 3.3758 - val_accuracy: 0.0322\n",
      "Epoch 99/100\n",
      "[INFO] : Learning rate updated from: 1.7508270740509033 to:  1.9828839491270713\n",
      "\n",
      "Epoch 00099: LearningRateScheduler setting learning rate to 1.9828839491270713.\n",
      "1061/1061 [==============================] - 137s 129ms/step - loss: 3.3296 - accuracy: 0.0842 - val_loss: 3.2319 - val_accuracy: 0.1214\n",
      "Epoch 100/100\n",
      "[INFO] : Learning rate updated from: 1.9828839302062988 to:  2.2456979955397762\n",
      "\n",
      "Epoch 00100: LearningRateScheduler setting learning rate to 2.2456979955397762.\n",
      "1061/1061 [==============================] - 136s 128ms/step - loss: 3.3582 - accuracy: 0.0831 - val_loss: 3.5612 - val_accuracy: 0.0499\n",
      "Wall time: 3h 51min 11s\n"
     ]
    }
   ],
   "source": [
    "%%time\n",
    "# Fit Train generator\n",
    "history = model.fit(train_generator,                    \n",
    "                    epochs = epochs,                   \n",
    "                    steps_per_epoch = step_size_Train,\n",
    "                    validation_data = valid_generator,\n",
    "                    validation_steps = step_size_Valid,\n",
    "                    #callbacks=[checkpoint, early, lr_plateau]\n",
    "                    callbacks=[lrScheduler]\n",
    "                    \n",
    "                    )"
   ]
  },
  {
   "cell_type": "markdown",
   "id": "479d4c18",
   "metadata": {},
   "source": [
    "***Save History results***"
   ]
  },
  {
   "cell_type": "code",
   "execution_count": 24,
   "id": "aa9d47d5",
   "metadata": {},
   "outputs": [],
   "source": [
    "# Save History results\n",
    "path = './saves/NASNetMobile/Iteration_5_1/'\n",
    "filename = 'history_NASNetMobile_all_train_12122021_100Epoch'"
   ]
  },
  {
   "cell_type": "code",
   "execution_count": 25,
   "id": "8944dcc5",
   "metadata": {},
   "outputs": [],
   "source": [
    "#convert the history.history dict to a pandas DataFrame:     \n",
    "hist_df = pd.DataFrame(history.history) \n",
    "\n",
    "# history to json:  \n",
    "hist_json_file = path + filename + '.json'\n",
    "with open(hist_json_file, mode='w') as f:\n",
    "    hist_df.to_json(f)\n",
    "\n",
    "# history to csv: \n",
    "hist_csv_file = path + filename +'.csv'\n",
    "with open(hist_csv_file, mode='w') as f:\n",
    "    hist_df.to_csv(f)\n",
    "\n",
    "# history to pickle file\n",
    "hist_df.to_pickle(path + filename +'.pkl')"
   ]
  },
  {
   "cell_type": "markdown",
   "id": "437e2b15",
   "metadata": {},
   "source": [
    "***Display Model loss , accuracy per epoch***"
   ]
  },
  {
   "cell_type": "code",
   "execution_count": 26,
   "id": "7e148e9a",
   "metadata": {},
   "outputs": [
    {
     "data": {
      "image/png": "[encoded data removed]",
      "text/plain": [
       "<Figure size 864x288 with 2 Axes>"
      ]
     },
     "metadata": {
      "needs_background": "light"
     },
     "output_type": "display_data"
    }
   ],
   "source": [
    "plt.figure(figsize=(12,4))\n",
    "plt.subplot(121)\n",
    "plt.plot(history.history['loss'])\n",
    "plt.plot(history.history['val_loss'])\n",
    "plt.title('Model loss by epoch')\n",
    "plt.ylabel('loss')\n",
    "plt.xlabel('epoch')\n",
    "plt.legend(['train', 'valid'], loc='right')\n",
    "\n",
    "plt.subplot(122)\n",
    "plt.plot(history.history['accuracy'])\n",
    "plt.plot(history.history['val_accuracy'])\n",
    "plt.title('Model acc by epoch')\n",
    "plt.ylabel('acc')\n",
    "plt.xlabel('epoch')\n",
    "plt.legend(['train', 'valid'], loc='right')\n",
    "plt.show()"
   ]
  },
  {
   "cell_type": "code",
   "execution_count": 27,
   "id": "28b4d799",
   "metadata": {},
   "outputs": [
    {
     "data": {
      "text/plain": [
       "[<matplotlib.lines.Line2D at 0x115bdb3ecd0>]"
      ]
     },
     "execution_count": 27,
     "metadata": {},
     "output_type": "execute_result"
    },
    {
     "data": {
      "image/png": "[encoded data removed]",
      "text/plain": [
       "<Figure size 432x288 with 1 Axes>"
      ]
     },
     "metadata": {
      "needs_background": "light"
     },
     "output_type": "display_data"
    }
   ],
   "source": [
    "plt.plot(\n",
    "    np.arange(1, 101), \n",
    "    history.history['lr'], \n",
    "    label='Learning rate', color='#000', lw=3, linestyle='--')\n",
    "\n",
    "plt.plot(\n",
    "    np.arange(1, 101), \n",
    "    history.history['loss'], \n",
    "    label='Loss', lw=3\n",
    ")"
   ]
  },
  {
   "cell_type": "code",
   "execution_count": 28,
   "id": "fa729b8f",
   "metadata": {},
   "outputs": [
    {
     "data": {
      "image/png": "[encoded data removed]",
      "text/plain": [
       "<Figure size 1296x576 with 1 Axes>"
      ]
     },
     "metadata": {
      "needs_background": "light"
     },
     "output_type": "display_data"
    }
   ],
   "source": [
    "from matplotlib import rcParams\n",
    "rcParams['figure.figsize'] = (18, 8)\n",
    "rcParams['axes.spines.top'] = False\n",
    "rcParams['axes.spines.right'] = False \n",
    "\n",
    "plt.plot(\n",
    "    np.arange(1, 101), \n",
    "    history.history['loss'], \n",
    "    label='Loss', lw=3\n",
    ")\n",
    "plt.plot(\n",
    "    np.arange(1, 101), \n",
    "    history.history['accuracy'], \n",
    "    label='Accuracy', lw=3\n",
    ")\n",
    "plt.plot(\n",
    "    np.arange(1, 101), \n",
    "    history.history['lr'], \n",
    "    label='Learning rate', color='#000', lw=3, linestyle='--'\n",
    ")\n",
    "plt.title('Evaluation metrics', size=20)\n",
    "plt.xlabel('Epoch', size=14)\n",
    "plt.legend();"
   ]
  },
  {
   "cell_type": "code",
   "execution_count": null,
   "id": "18b3877d",
   "metadata": {},
   "outputs": [],
   "source": [
    "\"\"\"\n",
    "L'accuracy augmente lègèrement jusqu'à l'Epoch 31\n",
    "avant de commencer à baisser jusqu'à l'Epoch 75\n",
    "Ensuite s'est pratiquement aplatie juqu'à la fin de training \n",
    "\n",
    "L'exact opposé est arrivé à la Loss jusqu'à l'Epoch 65 ( Ce qui est logique)\n",
    "Fluctue entre les Epoch 65 et 75\n",
    "ET enfin s'est pratiquement aplatie jusqu'à la fin de training\n",
    "\n",
    "\"\"\""
   ]
  },
  {
   "cell_type": "code",
   "execution_count": 29,
   "id": "9755799a",
   "metadata": {},
   "outputs": [
    {
     "data": {
      "image/png": "[encoded data removed]",
      "text/plain": [
       "<Figure size 1296x576 with 1 Axes>"
      ]
     },
     "metadata": {
      "needs_background": "light"
     },
     "output_type": "display_data"
    }
   ],
   "source": [
    "#1e-5 * 10 ** (epoch / 37)\n",
    "learning_rates = 1e-5 * (10 ** (np.arange(100) / 37))\n",
    "plt.semilogx(\n",
    "    learning_rates, \n",
    "    history.history['loss'], \n",
    "    lw=3, color='#000'\n",
    ")\n",
    "plt.title('Learning rate vs. loss', size=20)\n",
    "plt.xlabel('Learning rate', size=14)\n",
    "plt.ylabel('Loss', size=14);"
   ]
  },
  {
   "cell_type": "code",
   "execution_count": null,
   "id": "312c5162",
   "metadata": {},
   "outputs": [],
   "source": [
    "\"\"\"\n",
    "Nous voulons sélectionner un taux d'apprentissage \n",
    "qui réalise la perte la plus faible, à condition que les valeurs \n",
    "qui l'entourent ne soient pas trop volatiles. \n",
    "Le taux d'apprentissage optimal ( avec la plus faible perte) est d'environ 0,0004 :\n",
    "\"\"\""
   ]
  },
  {
   "cell_type": "code",
   "execution_count": 30,
   "id": "3ff41dc8",
   "metadata": {},
   "outputs": [
    {
     "data": {
      "text/plain": [
       "<matplotlib.legend.Legend at 0x1144c71a4c0>"
      ]
     },
     "execution_count": 30,
     "metadata": {},
     "output_type": "execute_result"
    },
    {
     "data": {
      "image/png": "[encoded data removed]",
      "text/plain": [
       "<Figure size 1296x576 with 1 Axes>"
      ]
     },
     "metadata": {
      "needs_background": "light"
     },
     "output_type": "display_data"
    }
   ],
   "source": [
    "plt.plot(\n",
    "    np.arange(1, 101), \n",
    "    history.history['loss'], \n",
    "    label='Loss', lw=3\n",
    ")\n",
    "plt.plot(\n",
    "    np.arange(1, 101), \n",
    "    history.history['accuracy'], \n",
    "    label='Accuracy', lw=3\n",
    ")\n",
    "plt.title('Accuracy vs. Loss per epoch', size=20)\n",
    "plt.xlabel('Epoch', size=14)\n",
    "plt.legend()"
   ]
  },
  {
   "cell_type": "markdown",
   "id": "7e64f5a7",
   "metadata": {
    "id": "7e64f5a7"
   },
   "source": [
    " ***Prediction - test_generator***"
   ]
  },
  {
   "cell_type": "code",
   "execution_count": 31,
   "id": "13bf0290",
   "metadata": {
    "id": "13bf0290"
   },
   "outputs": [
    {
     "name": "stdout",
     "output_type": "stream",
     "text": [
      "Wall time: 32.8 s\n"
     ]
    }
   ],
   "source": [
    "%%time\n",
    "#Prediction - Valid set\n",
    "y_pred_proba = model.predict(valid_generator)\n",
    "\n",
    "# l'argmax pour obtenir les classes prédites\n",
    "y_pred_class = np.argmax(y_pred_proba,axis = 1).astype(int)\n",
    "\n",
    "# To get classes from test generator\n",
    "y_true = valid_generator.classes"
   ]
  },
  {
   "cell_type": "markdown",
   "id": "e199b13a",
   "metadata": {
    "id": "e199b13a"
   },
   "source": [
    " ***Evaluation - test_generator***"
   ]
  },
  {
   "cell_type": "code",
   "execution_count": 32,
   "id": "a149ee6a",
   "metadata": {
    "id": "a149ee6a"
   },
   "outputs": [
    {
     "name": "stdout",
     "output_type": "stream",
     "text": [
      "266/266 [==============================] - 32s 120ms/step - loss: 3.5616 - accuracy: 0.0499\n",
      "[INFO] Model metrics names: ['loss', 'accuracy']\n",
      "[INFO] Accuracy: 4.99%\n",
      "[INFO] Loss:  3.5615971088409424\n",
      "Wall time: 32.4 s\n"
     ]
    }
   ],
   "source": [
    "%%time\n",
    "#Get the accuracy score\n",
    "valid_score = model.evaluate(valid_generator)\n",
    "print(\"[INFO] Model metrics names:\", model.metrics_names)\n",
    "print(\"[INFO] Accuracy: {:.2f}%\".format(valid_score[1] * 100)) \n",
    "print(\"[INFO] Loss: \",valid_score[0])"
   ]
  },
  {
   "cell_type": "code",
   "execution_count": 33,
   "id": "a67c8f8e",
   "metadata": {},
   "outputs": [
    {
     "name": "stdout",
     "output_type": "stream",
     "text": [
      "[INFO] f1 score macro average:  0.003522786989782672\n",
      "[INFO] f1 score micro average:  0.049932285226402875\n",
      "[INFO] f1 score weighted average:  0.004749321728673619\n"
     ]
    }
   ],
   "source": [
    "f1_macro = f1_score(y_true, y_pred_class, average='macro')\n",
    "print(\"[INFO] f1 score macro average: \",f1_macro)\n",
    "\n",
    "f1_micro = f1_score(y_true, y_pred_class, average='micro')\n",
    "print(\"[INFO] f1 score micro average: \",f1_micro)\n",
    "\n",
    "f1_weighted = f1_score(y_true, y_pred_class, average='weighted')\n",
    "print(\"[INFO] f1 score weighted average: \",f1_weighted)\n"
   ]
  },
  {
   "cell_type": "code",
   "execution_count": 34,
   "id": "e956f70d",
   "metadata": {},
   "outputs": [
    {
     "data": {
      "image/png": "[encoded data removed]",
      "text/plain": [
       "<Figure size 1728x1440 with 1 Axes>"
      ]
     },
     "metadata": {
      "needs_background": "light"
     },
     "output_type": "display_data"
    }
   ],
   "source": [
    "#Confusion matrix\n",
    "matrix = confusion_matrix(y_true, y_pred_class)\n",
    "fig , ax = plt.subplots(figsize = (24,20))\n",
    "ax.matshow(matrix, cmap = plt.cm.Oranges , alpha = 0.3)\n",
    "for i in range(matrix.shape[0]):\n",
    "    for j in range (matrix.shape[1]):\n",
    "        ax.text (x = j , y= i, s= matrix[i,j], va = 'center', ha = 'center', size = 'xx-large')\n",
    "        \n",
    "plt.xlabel('predicted', fontsize = 18)\n",
    "plt.ylabel('Acutals', fontsize = 18)\n",
    "plt.title('Confusion Matrix', fontsize = 18)\n",
    "plt.show()\n",
    "#print(matrix)"
   ]
  },
  {
   "cell_type": "code",
   "execution_count": 35,
   "id": "f9af2dc6",
   "metadata": {
    "id": "f9af2dc6"
   },
   "outputs": [
    {
     "name": "stdout",
     "output_type": "stream",
     "text": [
      "              precision    recall  f1-score   support\n",
      "\n",
      "           0       0.00      0.00      0.00       621\n",
      "           1       0.00      0.00      0.00       483\n",
      "           2       0.00      0.00      0.00       154\n",
      "           3       0.00      0.00      0.00       508\n",
      "           4       0.00      0.00      0.00       656\n",
      "           5       0.00      0.00      0.00      1038\n",
      "           6       0.05      1.00      0.10       848\n",
      "           7       0.00      0.00      0.00       152\n",
      "           8       0.00      0.00      0.00      1021\n",
      "           9       0.00      0.00      0.00       168\n",
      "          10       0.00      0.00      0.00       956\n",
      "          11       0.00      0.00      0.00       939\n",
      "          12       0.00      0.00      0.00       375\n",
      "          13       0.00      0.00      0.00       290\n",
      "          14       0.00      0.00      0.00       949\n",
      "          15       0.00      0.00      0.00       508\n",
      "          16       0.00      0.00      0.00      2061\n",
      "          17       0.00      0.00      0.00       493\n",
      "          18       0.00      0.00      0.00       548\n",
      "          19       0.00      0.00      0.00       173\n",
      "          20       0.00      0.00      0.00       163\n",
      "          21       0.00      0.00      0.00       546\n",
      "          22       0.00      0.00      0.00       791\n",
      "          23       0.00      0.00      0.00       154\n",
      "          24       0.00      0.00      0.00       963\n",
      "          25       0.00      0.00      0.00       405\n",
      "          26       0.00      0.00      0.00      1020\n",
      "\n",
      "    accuracy                           0.05     16983\n",
      "   macro avg       0.00      0.04      0.00     16983\n",
      "weighted avg       0.00      0.05      0.00     16983\n",
      "\n"
     ]
    },
    {
     "name": "stderr",
     "output_type": "stream",
     "text": [
      "C:\\Users\\MME\\anaconda3\\envs\\datascientestEnv\\lib\\site-packages\\sklearn\\metrics\\_classification.py:1308: UndefinedMetricWarning: Precision and F-score are ill-defined and being set to 0.0 in labels with no predicted samples. Use `zero_division` parameter to control this behavior.\n",
      "  _warn_prf(average, modifier, msg_start, len(result))\n",
      "C:\\Users\\MME\\anaconda3\\envs\\datascientestEnv\\lib\\site-packages\\sklearn\\metrics\\_classification.py:1308: UndefinedMetricWarning: Precision and F-score are ill-defined and being set to 0.0 in labels with no predicted samples. Use `zero_division` parameter to control this behavior.\n",
      "  _warn_prf(average, modifier, msg_start, len(result))\n",
      "C:\\Users\\MME\\anaconda3\\envs\\datascientestEnv\\lib\\site-packages\\sklearn\\metrics\\_classification.py:1308: UndefinedMetricWarning: Precision and F-score are ill-defined and being set to 0.0 in labels with no predicted samples. Use `zero_division` parameter to control this behavior.\n",
      "  _warn_prf(average, modifier, msg_start, len(result))\n"
     ]
    }
   ],
   "source": [
    "print(metrics.classification_report(y_true, y_pred_class))"
   ]
  },
  {
   "cell_type": "markdown",
   "id": "9af02844",
   "metadata": {},
   "source": [
    " ***Predict input image using trained model***"
   ]
  },
  {
   "cell_type": "code",
   "execution_count": 36,
   "id": "f7fbf10a",
   "metadata": {},
   "outputs": [
    {
     "data": {
      "image/png": "[encoded data removed]",
      "text/plain": [
       "<Figure size 432x288 with 1 Axes>"
      ]
     },
     "metadata": {},
     "output_type": "display_data"
    }
   ],
   "source": [
    "# Predict With Pre Trained\n",
    "\n",
    "# Load an image\n",
    "im_id = 54\n",
    "img_path ='./data/images/all/image_train_resized/'+ df_train_im['imagePath'][im_id]\n",
    "\n",
    "img = image.load_img(img_path,target_size=(224, 224))\n",
    "plt.figure(figsize=(6,4))\n",
    "plt.imshow(img)\n",
    "plt.title(\"class: \" + str(df_train_im['prdtypecode'][im_id]))\n",
    "plt.xticks([])\n",
    "plt.yticks([])\n",
    "#plt.axis('off')\n",
    "plt.show();"
   ]
  },
  {
   "cell_type": "code",
   "execution_count": null,
   "id": "d6021667",
   "metadata": {},
   "outputs": [],
   "source": [
    "im = cv2.resize(cv2.imread(img_path), (224, 224))\n",
    "im = np.expand_dims(im, axis=0)"
   ]
  },
  {
   "cell_type": "code",
   "execution_count": null,
   "id": "2ed5439b",
   "metadata": {},
   "outputs": [],
   "source": [
    "out = model.predict(im)\n",
    "print(\"------------------Predicted Class and Label ------------------------------\")\n",
    "print(\"target class(used by model) :\", np.argmax(out))\n",
    "print(\"\\n\"  ,df_class[df_class['target_prdtypecode'] == np.argmax(out)][['prdtypecode', 'Label']].to_string(index=False)) \n",
    "\n",
    "prd_code = df_train_im['prdtypecode'][im_id]\n",
    "\n",
    "print(\"\\n\\n------------------Real Class and Label ------------------------------\")\n",
    "print(\"target class(used by model): \" ,  df_class[df_class['target_prdtypecode'] == int(prd_code)]['target_prdtypecode'].to_string(index=False))\n",
    "print(\"\\n\"  ,df_class[df_class['target_prdtypecode'] == int(prd_code)][['prdtypecode', 'Label']].to_string(index=False))  \n"
   ]
  },
  {
   "cell_type": "markdown",
   "id": "ba25e415",
   "metadata": {
    "id": "ba25e415"
   },
   "source": [
    " ***Save NASNetMobile Model***"
   ]
  },
  {
   "cell_type": "code",
   "execution_count": 38,
   "id": "2756f2e9",
   "metadata": {
    "id": "2756f2e9"
   },
   "outputs": [],
   "source": [
    "#Enregistrement du modèle\n",
    "model.save(\"./saves/NASNetMobile/Iteration_5_1/Model_NASNetMobile_All_train_data_090120222_100Epochs.hdf5\")\n",
    "#The SavedModel and HDF5 file contains:\n",
    "#the model's configuration (topology)\n",
    "#the model's weights\n",
    "#the model's optimizer's state (if any)"
   ]
  },
  {
   "cell_type": "markdown",
   "id": "636fb9cf",
   "metadata": {
    "id": "636fb9cf"
   },
   "source": [
    " ***Load NASNetMobile Model***"
   ]
  },
  {
   "cell_type": "code",
   "execution_count": null,
   "id": "9ee47aed",
   "metadata": {
    "id": "9ee47aed"
   },
   "outputs": [],
   "source": [
    "#Rechargement du modèle :\n",
    "model = load_model('./saves/NASNetMobile/Iteration_5_1/Model_NASNetMobile_All_train_data_090120222_100Epochs.hdf5')"
   ]
  }
 ],
 "metadata": {
  "accelerator": "GPU",
  "colab": {
   "collapsed_sections": [
    "X4gG6_IvrZ10"
   ],
   "name": "Images_&_Iteration_#1_ResNet50_Without_image_Preprocesing.ipynb",
   "provenance": [
    {
     "file_id": "17N2ubF_zjn2M-2g3bJ0lXH7vsD0mgLMb",
     "timestamp": 1629109577507
    }
   ]
  },
  "kernelspec": {
   "display_name": "Python 3 (ipykernel)",
   "language": "python",
   "name": "python3"
  },
  "language_info": {
   "codemirror_mode": {
    "name": "ipython",
    "version": 3
   },
   "file_extension": ".py",
   "mimetype": "text/x-python",
   "name": "python",
   "nbconvert_exporter": "python",
   "pygments_lexer": "ipython3",
   "version": "3.9.7"
  }
 },
 "nbformat": 4,
 "nbformat_minor": 5
}
