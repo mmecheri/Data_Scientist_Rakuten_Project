{
 "cells": [
  {
   "cell_type": "code",
   "execution_count": 1,
   "id": "cbec05d5",
   "metadata": {
    "scrolled": true
   },
   "outputs": [],
   "source": [
    "#from rackuten_project_lib import *\n",
    "import shutil\n",
    "import pandas as pd\n",
    "from tqdm import tqdm\n",
    "import os"
   ]
  },
  {
   "cell_type": "code",
   "execution_count": 2,
   "id": "992c1b25",
   "metadata": {
    "scrolled": true
   },
   "outputs": [],
   "source": [
    "images_srce =                 'D:/DataScienTest_WorkSpace/WS/data/images/all/image_train/' \n",
    "images_target =               './images_samples/dataset_samples/' \n",
    "df_dir =                     './demo_Inputs/data/'\n",
    "\n",
    "Xtrain_demo=            'Xtrain_samples.pkl' \n"
   ]
  },
  {
   "cell_type": "code",
   "execution_count": 6,
   "id": "5410f660",
   "metadata": {
    "scrolled": true
   },
   "outputs": [
    {
     "data": {
      "text/html": [
       "<div>\n",
       "<style scoped>\n",
       "    .dataframe tbody tr th:only-of-type {\n",
       "        vertical-align: middle;\n",
       "    }\n",
       "\n",
       "    .dataframe tbody tr th {\n",
       "        vertical-align: top;\n",
       "    }\n",
       "\n",
       "    .dataframe thead th {\n",
       "        text-align: right;\n",
       "    }\n",
       "</style>\n",
       "<table border=\"1\" class=\"dataframe\">\n",
       "  <thead>\n",
       "    <tr style=\"text-align: right;\">\n",
       "      <th></th>\n",
       "      <th>designation</th>\n",
       "      <th>description</th>\n",
       "      <th>text</th>\n",
       "      <th>prdtypecode_org</th>\n",
       "      <th>prdtypecode</th>\n",
       "      <th>productid</th>\n",
       "      <th>imageid</th>\n",
       "      <th>image_name</th>\n",
       "      <th>imagePath</th>\n",
       "    </tr>\n",
       "  </thead>\n",
       "  <tbody>\n",
       "    <tr>\n",
       "      <th>64010</th>\n",
       "      <td>Resolving Stress In Your Marriage : How To Ide...</td>\n",
       "      <td>NaN</td>\n",
       "      <td>resolving stress marriage identify solve twelv...</td>\n",
       "      <td>10</td>\n",
       "      <td>0</td>\n",
       "      <td>53291144</td>\n",
       "      <td>539067330</td>\n",
       "      <td>image_539067330_product_53291144.jpg</td>\n",
       "      <td>D:/DataScienTest_WorkSpace/WS/data/images/all/...</td>\n",
       "    </tr>\n",
       "    <tr>\n",
       "      <th>3338</th>\n",
       "      <td>From Times Square To Timbuktu: The Post-Christ...</td>\n",
       "      <td>NaN</td>\n",
       "      <td>times square timbuktu post christian west meet...</td>\n",
       "      <td>10</td>\n",
       "      <td>0</td>\n",
       "      <td>196547987</td>\n",
       "      <td>946518577</td>\n",
       "      <td>image_946518577_product_196547987.jpg</td>\n",
       "      <td>D:/DataScienTest_WorkSpace/WS/data/images/all/...</td>\n",
       "    </tr>\n",
       "    <tr>\n",
       "      <th>30474</th>\n",
       "      <td>Transnationalism In Iranian Political Thought</td>\n",
       "      <td>During the Iranian Revolution of 1978/9 the in...</td>\n",
       "      <td>transnationalism iranian political thought rev...</td>\n",
       "      <td>10</td>\n",
       "      <td>0</td>\n",
       "      <td>1798131351</td>\n",
       "      <td>1151810891</td>\n",
       "      <td>image_1151810891_product_1798131351.jpg</td>\n",
       "      <td>D:/DataScienTest_WorkSpace/WS/data/images/all/...</td>\n",
       "    </tr>\n",
       "    <tr>\n",
       "      <th>16974</th>\n",
       "      <td>Jeanne D'arc Opera En Quatre Actes Et Six Tabl...</td>\n",
       "      <td>Vendu en l'état - Exemplaire de travail.</td>\n",
       "      <td>jeanne arc opera quatre actes six tableaux par...</td>\n",
       "      <td>10</td>\n",
       "      <td>0</td>\n",
       "      <td>390987066</td>\n",
       "      <td>1003160003</td>\n",
       "      <td>image_1003160003_product_390987066.jpg</td>\n",
       "      <td>D:/DataScienTest_WorkSpace/WS/data/images/all/...</td>\n",
       "    </tr>\n",
       "    <tr>\n",
       "      <th>8672</th>\n",
       "      <td>Les Maladies De La Femmes</td>\n",
       "      <td>NaN</td>\n",
       "      <td>maladies femmes</td>\n",
       "      <td>10</td>\n",
       "      <td>0</td>\n",
       "      <td>6408880</td>\n",
       "      <td>476582358</td>\n",
       "      <td>image_476582358_product_6408880.jpg</td>\n",
       "      <td>D:/DataScienTest_WorkSpace/WS/data/images/all/...</td>\n",
       "    </tr>\n",
       "  </tbody>\n",
       "</table>\n",
       "</div>"
      ],
      "text/plain": [
       "                                             designation  \\\n",
       "64010  Resolving Stress In Your Marriage : How To Ide...   \n",
       "3338   From Times Square To Timbuktu: The Post-Christ...   \n",
       "30474      Transnationalism In Iranian Political Thought   \n",
       "16974  Jeanne D'arc Opera En Quatre Actes Et Six Tabl...   \n",
       "8672                           Les Maladies De La Femmes   \n",
       "\n",
       "                                             description  \\\n",
       "64010                                                NaN   \n",
       "3338                                                 NaN   \n",
       "30474  During the Iranian Revolution of 1978/9 the in...   \n",
       "16974           Vendu en l'état - Exemplaire de travail.   \n",
       "8672                                                 NaN   \n",
       "\n",
       "                                                    text  prdtypecode_org  \\\n",
       "64010  resolving stress marriage identify solve twelv...               10   \n",
       "3338   times square timbuktu post christian west meet...               10   \n",
       "30474  transnationalism iranian political thought rev...               10   \n",
       "16974  jeanne arc opera quatre actes six tableaux par...               10   \n",
       "8672                                     maladies femmes               10   \n",
       "\n",
       "       prdtypecode   productid     imageid  \\\n",
       "64010            0    53291144   539067330   \n",
       "3338             0   196547987   946518577   \n",
       "30474            0  1798131351  1151810891   \n",
       "16974            0   390987066  1003160003   \n",
       "8672             0     6408880   476582358   \n",
       "\n",
       "                                    image_name  \\\n",
       "64010     image_539067330_product_53291144.jpg   \n",
       "3338     image_946518577_product_196547987.jpg   \n",
       "30474  image_1151810891_product_1798131351.jpg   \n",
       "16974   image_1003160003_product_390987066.jpg   \n",
       "8672       image_476582358_product_6408880.jpg   \n",
       "\n",
       "                                               imagePath  \n",
       "64010  D:/DataScienTest_WorkSpace/WS/data/images/all/...  \n",
       "3338   D:/DataScienTest_WorkSpace/WS/data/images/all/...  \n",
       "30474  D:/DataScienTest_WorkSpace/WS/data/images/all/...  \n",
       "16974  D:/DataScienTest_WorkSpace/WS/data/images/all/...  \n",
       "8672   D:/DataScienTest_WorkSpace/WS/data/images/all/...  "
      ]
     },
     "metadata": {},
     "output_type": "display_data"
    },
    {
     "data": {
      "text/plain": [
       "(540, 9)"
      ]
     },
     "metadata": {},
     "output_type": "display_data"
    }
   ],
   "source": [
    "df_demo_sample  = pd.read_pickle(df_dir + Xtrain_demo )\n",
    "df_demo_sample['imagePath'] = images_srce + df_demo_sample['image_name']\n",
    "display(df_demo_sample.head())\n",
    "display(df_demo_sample.shape)"
   ]
  },
  {
   "cell_type": "code",
   "execution_count": 7,
   "id": "0a47c8c2",
   "metadata": {
    "scrolled": true
   },
   "outputs": [
    {
     "name": "stderr",
     "output_type": "stream",
     "text": [
      "100%|██████████| 540/540 [00:00<00:00, 822.23it/s]\n"
     ]
    }
   ],
   "source": [
    "for img in tqdm(df_demo_sample['imagePath']):\n",
    "    os.path.basename(img)\n",
    "    #print(img) \n",
    "    shutil.copy(img, images_target)\n",
    "    "
   ]
  },
  {
   "cell_type": "code",
   "execution_count": null,
   "id": "481e5590",
   "metadata": {},
   "outputs": [],
   "source": []
  }
 ],
 "metadata": {
  "kernelspec": {
   "display_name": "Python 3",
   "language": "python",
   "name": "python3"
  },
  "language_info": {
   "codemirror_mode": {
    "name": "ipython",
    "version": 3
   },
   "file_extension": ".py",
   "mimetype": "text/x-python",
   "name": "python",
   "nbconvert_exporter": "python",
   "pygments_lexer": "ipython3",
   "version": "3.8.12"
  }
 },
 "nbformat": 4,
 "nbformat_minor": 5
}
